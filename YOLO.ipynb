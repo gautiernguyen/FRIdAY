{
 "cells": [
  {
   "cell_type": "code",
   "execution_count": 1,
   "id": "65a824d5-21db-4d03-9c2a-abf7f1fc1d94",
   "metadata": {},
   "outputs": [],
   "source": [
    "import numpy as np\n",
    "import pandas as pd\n",
    "import matplotlib.pyplot as plt\n",
    "\n",
    "import datetime\n",
    "\n",
    "import sys\n",
    "sys.path.append('../../identification/')\n",
    "\n",
    "from scipy.signal import medfilt\n",
    "\n",
    "import keras.backend as K\n",
    "from sklearn.model_selection import train_test_split"
   ]
  },
  {
   "cell_type": "code",
   "execution_count": 2,
   "id": "0cea7934-e295-4ef9-aba7-4067498d259a",
   "metadata": {},
   "outputs": [],
   "source": [
    "import tensorflow as tf\n",
    "gpus = tf.config.experimental.list_physical_devices('GPU')\n",
    "tf.config.experimental.set_memory_growth(gpus[0], True)"
   ]
  },
  {
   "cell_type": "markdown",
   "id": "42fc88b9-b81c-4906-b5ed-cf3dd2d84c60",
   "metadata": {},
   "source": [
    "## Prepare dataset and label"
   ]
  },
  {
   "cell_type": "code",
   "execution_count": 3,
   "id": "243d5fbd-7b30-49f8-abfd-004e774bba97",
   "metadata": {},
   "outputs": [],
   "source": [
    "mms = np.load('/DATA/nguyen/timeSeries_interval/MMS_FR_non_centered.npy', allow_pickle=True)"
   ]
  },
  {
   "cell_type": "code",
   "execution_count": 4,
   "id": "67f0c9f7-a5a3-405f-a0a7-bcd63e8e71ed",
   "metadata": {},
   "outputs": [],
   "source": [
    "cluster = np.load('/DATA/nguyen/timeSeries_interval/Cluster_FR_non_centered.npy', allow_pickle=True)"
   ]
  },
  {
   "cell_type": "code",
   "execution_count": 5,
   "id": "a3eb9861-480f-4ef6-a520-fc59544f39ee",
   "metadata": {},
   "outputs": [],
   "source": [
    "MSH_no_FR_cluster = np.load('/DATA/nguyen/timeSeries_interval/MSH_Cluster.npy', allow_pickle=True)\n",
    "MSH_no_FR_mms = np.load('/DATA/nguyen/timeSeries_interval/MSH_MMS.npy', allow_pickle=True)"
   ]
  },
  {
   "cell_type": "code",
   "execution_count": 6,
   "id": "248b6a48-e84a-4052-8094-d3f15963b163",
   "metadata": {},
   "outputs": [
    {
     "data": {
      "text/plain": [
       "(100, 2080, 3)"
      ]
     },
     "execution_count": 6,
     "metadata": {},
     "output_type": "execute_result"
    }
   ],
   "source": [
    "MSH_no_FR_mms.shape"
   ]
  },
  {
   "cell_type": "code",
   "execution_count": 6,
   "id": "2f96203d-ad77-492b-9196-ae9d32d259fa",
   "metadata": {},
   "outputs": [],
   "source": [
    "total_time_series = len(mms)+len(cluster)+len(MSH_no_FR_cluster)+len(MSH_no_FR_mms)"
   ]
  },
  {
   "cell_type": "code",
   "execution_count": 7,
   "id": "e96e9905-42ae-44b2-bfd7-3b6e26354569",
   "metadata": {},
   "outputs": [],
   "source": [
    "X = np.zeros((total_time_series, mms.shape[1], mms.shape[2]+1))\n",
    "\n",
    "\n",
    "for i, x in enumerate(mms):\n",
    "    mag = np.linalg.norm(x, axis=1)\n",
    "    X[i,:, :3] = x/max(mag)\n",
    "    X[i, :, 3] = mag/max(mag)\n",
    "    \n",
    "for i, x in enumerate(cluster):\n",
    "    mag = np.linalg.norm(x, axis=1)\n",
    "    X[i+len(mms),:, :3] = x/max(mag)\n",
    "    X[i+len(mms),:, 3] = mag/max(mag)   \n",
    "    \n",
    "for i, x in enumerate(MSH_no_FR_cluster):\n",
    "    mag = np.linalg.norm(x, axis=1)\n",
    "    X[i+len(mms)+len(cluster),:, :3] = x/max(mag)\n",
    "    X[i+len(mms)+len(cluster),:, 3] = mag/max(mag)    \n",
    "    \n",
    "for i, x in enumerate(MSH_no_FR_mms):\n",
    "    mag = np.linalg.norm(x, axis=1)\n",
    "    X[i+len(mms)+len(cluster)+len(MSH_no_FR_cluster),:, :3] = x/max(mag)\n",
    "    X[i+len(mms)+len(cluster)+len(MSH_no_FR_cluster),:, 3] = mag/max(mag)  \n"
   ]
  },
  {
   "cell_type": "code",
   "execution_count": 8,
   "id": "93d659e7-49c0-4b15-99f1-4823511bcacd",
   "metadata": {},
   "outputs": [],
   "source": [
    "y_cluster = np.load('/DATA/nguyen/timeSeries_interval/Cluster_FR_label_non_centered.npy', allow_pickle=True)\n",
    "y_mms = np.load('/DATA/nguyen/timeSeries_interval/MMS_label_non_centered.npy', allow_pickle=True)\n",
    "y_msh_no_fr = np.zeros((len(MSH_no_FR_cluster)+len(MSH_no_FR_mms), 2080))"
   ]
  },
  {
   "cell_type": "code",
   "execution_count": 9,
   "id": "292c182a-cdfc-4292-8022-374b3dbaa29f",
   "metadata": {},
   "outputs": [],
   "source": [
    "Y = np.zeros((len(X), X.shape[1], 1))\n",
    "\n",
    "\n",
    "for i, x in enumerate(y_mms):\n",
    "    Y[i, :, 0] = x\n",
    "    \n",
    "for i, x in enumerate(y_cluster):\n",
    "    Y[i+len(y_mms), :, 0] = x\n",
    "    \n",
    "for i, x in enumerate(y_msh_no_fr):\n",
    "    Y[i+len(y_mms)+len(cluster), :, 0] = x"
   ]
  },
  {
   "cell_type": "code",
   "execution_count": 10,
   "id": "962f0e87-1fec-4f91-a97a-436433dc5408",
   "metadata": {},
   "outputs": [
    {
     "data": {
      "text/plain": [
       "(539, 2080, 1)"
      ]
     },
     "execution_count": 10,
     "metadata": {},
     "output_type": "execute_result"
    }
   ],
   "source": [
    "Y.shape"
   ]
  },
  {
   "cell_type": "code",
   "execution_count": 11,
   "id": "012250e4-eff6-4b43-852b-bf0ac037562f",
   "metadata": {},
   "outputs": [],
   "source": [
    "X_train, X_test, y_train, y_test = train_test_split(X, Y)\n",
    "X_train_flipped = np.append(X_train,  np.flip(X_train, 1), axis=0)\n",
    "y_train_flipped = np.append(y_train,  np.flip(y_train, 1), axis=0)"
   ]
  },
  {
   "cell_type": "code",
   "execution_count": 12,
   "id": "0f6aa0d2-ab62-4d91-a016-ba4a8e3e9e6d",
   "metadata": {},
   "outputs": [],
   "source": [
    "def create_label(arr):\n",
    "    label = np.zeros((13, 3))\n",
    "    diffs = np.where(np.diff(arr==1))[0]\n",
    "    if arr[0]==1:\n",
    "        diffs = np.insert(diffs, 0, 0)\n",
    "    if arr[-1]==1:\n",
    "        diffs = np.insert(diffs, len(diffs), len(arr)-1)\n",
    "    begins = diffs[::2]/len(arr)\n",
    "    ends = diffs[1::2]/len(arr)\n",
    "    center = (ends+begins)/2\n",
    "\n",
    "\n",
    "    loc_i = 13*center\n",
    "    loc_i= loc_i.astype(int)\n",
    "    width = ends-begins\n",
    "\n",
    "    for i in range(len(loc_i)):\n",
    "        label[loc_i[i], :] = [13*center[i]-loc_i[i], width[i], 1]    \n",
    "    \n",
    "    return label"
   ]
  },
  {
   "cell_type": "code",
   "execution_count": 13,
   "id": "93d409ae-977a-4a92-ab02-1a87d02c918f",
   "metadata": {},
   "outputs": [],
   "source": [
    "def yoloss(y_true, y_pred):\n",
    "    loc_loss = K.sum(K.expand_dims(y_true[..., 2])*K.square(y_true[..., :1]-y_pred[..., :1]))\n",
    "    \n",
    "    width_true = y_true[..., 1:2]\n",
    "    width_pred = y_pred[..., 1:2]\n",
    "    width_loss = K.sum(K.expand_dims(y_true[..., 2])*K.square(width_true-width_pred))\n",
    "    \n",
    "    proba_loss_object = K.sum(K.expand_dims(y_true[..., 2])*K.square(y_true[..., 2:]-y_pred[..., 2:]))\n",
    "    \n",
    "    proba_loss_no_object = K.sum(K.expand_dims(1-y_true[..., 2])*K.square(y_true[..., 2:]-y_pred[..., 2:]))\n",
    "    \n",
    "    return 2*loc_loss+2*width_loss+2*proba_loss_object+0.5*proba_loss_no_object"
   ]
  },
  {
   "cell_type": "code",
   "execution_count": 14,
   "id": "5af080db-dfbb-4795-9671-4a3ba630029f",
   "metadata": {},
   "outputs": [],
   "source": [
    "Y_labels = np.zeros((len(y_train_flipped), 13, 3))\n",
    "\n",
    "for i in range(len(y_train_flipped)):\n",
    "    Y_labels[i] = create_label(y_train_flipped[i, :, 0])"
   ]
  },
  {
   "cell_type": "code",
   "execution_count": 15,
   "id": "94016c8b-fc41-4108-8ac8-40b4fda3cdac",
   "metadata": {},
   "outputs": [],
   "source": [
    "from keras.layers import LayerNormalization, Conv1D, Dense, BatchNormalization, concatenate, Dropout, Flatten, Conv1DTranspose, MaxPooling1D\n",
    "from keras import Input, Model\n",
    "from keras.activations import leaky_relu\n",
    "import tensorflow as tf"
   ]
  },
  {
   "cell_type": "code",
   "execution_count": 16,
   "id": "73344079-0056-4d50-81e4-02471452ef4f",
   "metadata": {},
   "outputs": [
    {
     "name": "stdout",
     "output_type": "stream",
     "text": [
      "Model: \"model\"\n",
      "_________________________________________________________________\n",
      "Layer (type)                 Output Shape              Param #   \n",
      "=================================================================\n",
      "input_1 (InputLayer)         [(None, 2080, 4)]         0         \n",
      "_________________________________________________________________\n",
      "conv1d (Conv1D)              (None, 2080, 64)          1856      \n",
      "_________________________________________________________________\n",
      "max_pooling1d (MaxPooling1D) (None, 1040, 64)          0         \n",
      "_________________________________________________________________\n",
      "conv1d_1 (Conv1D)            (None, 1040, 128)         24704     \n",
      "_________________________________________________________________\n",
      "max_pooling1d_1 (MaxPooling1 (None, 520, 128)          0         \n",
      "_________________________________________________________________\n",
      "conv1d_2 (Conv1D)            (None, 520, 256)          98560     \n",
      "_________________________________________________________________\n",
      "max_pooling1d_2 (MaxPooling1 (None, 260, 256)          0         \n",
      "_________________________________________________________________\n",
      "conv1d_3 (Conv1D)            (None, 260, 512)          393728    \n",
      "_________________________________________________________________\n",
      "flatten (Flatten)            (None, 133120)            0         \n",
      "_________________________________________________________________\n",
      "dense (Dense)                (None, 200)               26624200  \n",
      "_________________________________________________________________\n",
      "dense_1 (Dense)              (None, 100)               20100     \n",
      "_________________________________________________________________\n",
      "dropout (Dropout)            (None, 100)               0         \n",
      "_________________________________________________________________\n",
      "dense_2 (Dense)              (None, 39)                3939      \n",
      "_________________________________________________________________\n",
      "tf.reshape (TFOpLambda)      (None, 13, 3)             0         \n",
      "=================================================================\n",
      "Total params: 27,167,087\n",
      "Trainable params: 27,167,087\n",
      "Non-trainable params: 0\n",
      "_________________________________________________________________\n"
     ]
    },
    {
     "name": "stderr",
     "output_type": "stream",
     "text": [
      "2022-05-30 10:51:59.840166: I tensorflow/core/platform/cpu_feature_guard.cc:142] This TensorFlow binary is optimized with oneAPI Deep Neural Network Library (oneDNN) to use the following CPU instructions in performance-critical operations:  SSE4.1 SSE4.2 AVX AVX2 FMA\n",
      "To enable them in other operations, rebuild TensorFlow with the appropriate compiler flags.\n",
      "2022-05-30 10:52:01.027456: I tensorflow/core/common_runtime/gpu/gpu_device.cc:1510] Created device /job:localhost/replica:0/task:0/device:GPU:0 with 36215 MB memory:  -> device: 0, name: NVIDIA A100-PCIE-40GB, pci bus id: 0000:21:00.0, compute capability: 8.0\n"
     ]
    }
   ],
   "source": [
    "inputs = Input((X.shape[1], X.shape[2]))\n",
    "\n",
    "x0 = Conv1D(64, 7, padding='same', activation='relu')(inputs)\n",
    "x0 = MaxPooling1D(2)(x0)\n",
    "x0 = Conv1D(128, 3, padding='same', activation='relu')(x0)\n",
    "x0 = MaxPooling1D(2)(x0)\n",
    "x0 = Conv1D(256, 3, padding='same', activation='relu')(x0)\n",
    "x0 = MaxPooling1D(2)(x0)\n",
    "x0 = Conv1D(512, 3, padding='same', activation='relu')(x0)\n",
    "\n",
    "\n",
    "x0 = Flatten()(x0)\n",
    "\n",
    "x0 = Dense(200, activation='relu')(x0)\n",
    "x0 = Dense(100, activation='relu')(x0)\n",
    "x0 = Dropout(0.5)(x0)\n",
    "\n",
    "x0 = Dense(39, activation='sigmoid')(x0)\n",
    "\n",
    "\n",
    "x0 = tf.reshape(x0, [-1,13, 3])\n",
    "\n",
    "\n",
    "model = Model(inputs, x0)\n",
    "model.summary()"
   ]
  },
  {
   "cell_type": "code",
   "execution_count": 17,
   "id": "4d6ac830-9fc9-4931-93da-5bfda097cfe5",
   "metadata": {},
   "outputs": [],
   "source": [
    "model.compile(optimizer='Adam', loss=yoloss)\n"
   ]
  },
  {
   "cell_type": "code",
   "execution_count": 18,
   "id": "1a226d70-587a-4d68-b846-fe4dcf271ce6",
   "metadata": {},
   "outputs": [
    {
     "name": "stderr",
     "output_type": "stream",
     "text": [
      "2022-05-30 10:52:03.882265: I tensorflow/compiler/mlir/mlir_graph_optimization_pass.cc:185] None of the MLIR Optimization Passes are enabled (registered 2)\n"
     ]
    },
    {
     "name": "stdout",
     "output_type": "stream",
     "text": [
      "Epoch 1/20\n"
     ]
    },
    {
     "name": "stderr",
     "output_type": "stream",
     "text": [
      "2022-05-30 10:52:05.398993: I tensorflow/stream_executor/cuda/cuda_dnn.cc:369] Loaded cuDNN version 8201\n",
      "2022-05-30 10:52:06.657599: I tensorflow/core/platform/default/subprocess.cc:304] Start cannot spawn child process: No such file or directory\n",
      "2022-05-30 10:52:06.658876: I tensorflow/core/platform/default/subprocess.cc:304] Start cannot spawn child process: No such file or directory\n",
      "2022-05-30 10:52:06.658900: W tensorflow/stream_executor/gpu/asm_compiler.cc:77] Couldn't get ptxas version string: Internal: Couldn't invoke ptxas --version\n",
      "2022-05-30 10:52:06.659525: I tensorflow/core/platform/default/subprocess.cc:304] Start cannot spawn child process: No such file or directory\n",
      "2022-05-30 10:52:06.659579: W tensorflow/stream_executor/gpu/redzone_allocator.cc:314] Internal: Failed to launch ptxas\n",
      "Relying on driver to perform ptx compilation. \n",
      "Modify $PATH to customize ptxas location.\n",
      "This message will be only logged once.\n",
      "2022-05-30 10:52:07.555423: I tensorflow/stream_executor/cuda/cuda_blas.cc:1760] TensorFloat-32 will be used for the matrix multiplication. This will only be logged once.\n"
     ]
    },
    {
     "name": "stdout",
     "output_type": "stream",
     "text": [
      "202/202 [==============================] - 5s 3ms/step - loss: 5.6010\n",
      "Epoch 2/20\n",
      "202/202 [==============================] - 1s 3ms/step - loss: 4.9661\n",
      "Epoch 3/20\n",
      "202/202 [==============================] - 1s 3ms/step - loss: 4.5565\n",
      "Epoch 4/20\n",
      "202/202 [==============================] - 1s 3ms/step - loss: 4.0756\n",
      "Epoch 5/20\n",
      "202/202 [==============================] - 1s 3ms/step - loss: 3.8231\n",
      "Epoch 6/20\n",
      "202/202 [==============================] - 1s 3ms/step - loss: 3.6774\n",
      "Epoch 7/20\n",
      "202/202 [==============================] - 1s 3ms/step - loss: 3.4599\n",
      "Epoch 8/20\n",
      "202/202 [==============================] - 1s 3ms/step - loss: 3.3944\n",
      "Epoch 9/20\n",
      "202/202 [==============================] - 1s 3ms/step - loss: 3.1889\n",
      "Epoch 10/20\n",
      "202/202 [==============================] - 1s 3ms/step - loss: 3.1802\n",
      "Epoch 11/20\n",
      "202/202 [==============================] - 1s 3ms/step - loss: 3.1118\n",
      "Epoch 12/20\n",
      "202/202 [==============================] - 1s 3ms/step - loss: 2.9721\n",
      "Epoch 13/20\n",
      "202/202 [==============================] - 1s 3ms/step - loss: 2.8694\n",
      "Epoch 14/20\n",
      "202/202 [==============================] - 1s 3ms/step - loss: 2.7208\n",
      "Epoch 15/20\n",
      "202/202 [==============================] - 1s 3ms/step - loss: 2.6977\n",
      "Epoch 16/20\n",
      "202/202 [==============================] - 1s 3ms/step - loss: 2.6642\n",
      "Epoch 17/20\n",
      "202/202 [==============================] - 1s 3ms/step - loss: 2.5798\n",
      "Epoch 18/20\n",
      "202/202 [==============================] - 1s 3ms/step - loss: 2.4779\n",
      "Epoch 19/20\n",
      "202/202 [==============================] - 1s 3ms/step - loss: 2.4028\n",
      "Epoch 20/20\n",
      "202/202 [==============================] - 1s 3ms/step - loss: 2.2983\n"
     ]
    },
    {
     "data": {
      "text/plain": [
       "<keras.callbacks.History at 0x7fa4ec15a2b0>"
      ]
     },
     "execution_count": 18,
     "metadata": {},
     "output_type": "execute_result"
    }
   ],
   "source": [
    "model.fit(x=X_train_flipped, y=Y_labels,  batch_size=4, epochs=20)"
   ]
  },
  {
   "cell_type": "code",
   "execution_count": 19,
   "id": "f63760ac-c81c-4461-a64a-96c7a8d10d03",
   "metadata": {},
   "outputs": [
    {
     "name": "stdout",
     "output_type": "stream",
     "text": [
      "5/5 [==============================] - 0s 9ms/step\n"
     ]
    }
   ],
   "source": [
    "Y_pred = model.predict(X_test, verbose=1)"
   ]
  },
  {
   "cell_type": "code",
   "execution_count": 29,
   "id": "d0180fb4-7f52-4de3-ba87-894f80e249df",
   "metadata": {},
   "outputs": [],
   "source": [
    "def plot_boxes(data, label, matrice, thres_proba, plot_pred=True):\n",
    "    fig, ax = plt.subplots(nrows=2, figsize=(10, 10))\n",
    "    ax[0].plot(data[:, 0])\n",
    "    ax[0].plot(data[:, 1])\n",
    "    ax[0].plot(data[:, 2])\n",
    "    \n",
    "    ax[1].plot(label[:, 0])\n",
    "    if plot_pred is True:\n",
    "        for i in range(len(matrice)):\n",
    "            if matrice[i, 2]>thres_proba:\n",
    "                plt.axvspan((i+matrice[i, 0])*160-matrice[i, 1]*len(label[:, 0])/2, (i+matrice[i, 0])*160+matrice[i, 1]*len(label[:, 0])/2, color='red', alpha=0.2)\n",
    "    return fig, ax"
   ]
  },
  {
   "cell_type": "code",
   "execution_count": 31,
   "id": "6be65548-cb4a-4098-a94f-d53bb058a363",
   "metadata": {},
   "outputs": [],
   "source": [
    "fig, ax = plot_boxes(X_test[18], y_test[18], Y_pred[18], 0.5, plot_pred=False)\n",
    "ax[0].set_ylabel('Normalized B', fontsize=12)\n",
    "ax[0].legend(['Bx', 'By', 'Bz'], fontsize=12)\n",
    "ax[1].set_ylim(-0.1, 1.1)\n",
    "ax[0].set_ylim(-1, 1)\n",
    "ax[1].set_xlabel('Timestep', fontsize=12)\n",
    "plt.savefig('YOLO/no_FR/no_pred.jpg')\n",
    "plt.close()                   "
   ]
  },
  {
   "cell_type": "code",
   "execution_count": 28,
   "id": "98cbb67d-8b64-4c93-a182-f078fa63d3c7",
   "metadata": {},
   "outputs": [],
   "source": [
    "for i in range(len(X_test)):\n",
    "    fig, ax = plot_boxes(X_test[i], y_test[i], Y_pred[i], 0.5)\n",
    "    ax[0].set_ylabel('Normalized B', fontsize=12)\n",
    "    ax[0].legend(['Bx', 'By', 'Bz'], fontsize=12)\n",
    "    ax[1].set_ylim(-0.1, 1.1)\n",
    "    ax[0].set_ylim(-1, 1)\n",
    "    ax[1].set_xlabel('Timestep', fontsize=12)\n",
    "    plt.savefig('YOLO/no_FR/'+str(i)+'.jpg')\n",
    "    plt.close()"
   ]
  },
  {
   "cell_type": "code",
   "execution_count": 23,
   "id": "93f4136a-6d77-42b4-bbf2-19772753601f",
   "metadata": {},
   "outputs": [],
   "source": [
    "class Event:\n",
    "\n",
    "    def __init__(self, begin, end, param=None):\n",
    "        self.begin = begin\n",
    "        self.end = end\n",
    "        self.proba = None\n",
    "        self.duration = self.end-self.begin\n",
    "def overlapWithList(ref_event, event_list):\n",
    "    '''\n",
    "    return the list of the overlaps between an event and the elements of\n",
    "    an event list\n",
    "    Have the possibility to have it as the percentage of fthe considered event\n",
    "    in the list\n",
    "    '''\n",
    "    return [overlap(ref_event, elt) for elt in event_list]\n",
    "\n",
    "def overlap(event1, event2):\n",
    "    '''return the time overlap between two events as a timedelta'''\n",
    "    delta1 = min(event1.end, event2.end)\n",
    "    delta2 = max(event1.begin, event2.begin)\n",
    "    return max(delta1-delta2, 0)\n",
    "\n",
    "def get_event_from_timeserie(y, label):\n",
    "\n",
    "    diffs = np.where(np.diff(y==1))[0]\n",
    "    if y[0]==1:\n",
    "        diffs = np.insert(diffs, 0, 0)\n",
    "    if y[-1]==1:\n",
    "        diffs = np.insert(diffs, len(diffs), len(y)-1)\n",
    "    begins = diffs[::2]\n",
    "    ends = diffs[1::2]\n",
    "    serie_evtList = []\n",
    "    for i in range(len(begins)):\n",
    "        serie_evtList.append(Event(begins[i], ends[i]))\n",
    "    return serie_evtList\n",
    "\n",
    "def jaccard(predicted_list, validation_list):\n",
    "    '''\n",
    "    compute jaccard indice of two event lists\n",
    "    '''\n",
    "    inter = [[overlap(predicted, expected) for predicted in predicted_list] for expected in validation_list]\n",
    "    return np.sum(inter)/(np.sum([x.duration for x in validation_list])+np.sum([x.duration for x in predicted_list])-np.sum(inter))\n"
   ]
  },
  {
   "cell_type": "code",
   "execution_count": 24,
   "id": "9ff305b3-239e-4a56-b2d8-1d771de10998",
   "metadata": {},
   "outputs": [],
   "source": [
    "def evaluate_model_per_timeserie(y_pred, y_test, thres):\n",
    "\n",
    "    TP = 0\n",
    "    FN = 0\n",
    "    FP = 0\n",
    "    iou = []\n",
    "\n",
    "    len_grid = 160\n",
    "    len_time_serie = 2080\n",
    "    concerned_grids = np.where(y_pred[ :, 2]>thres)[0]\n",
    "    centers = ((y_pred[ :, 0][concerned_grids]+concerned_grids)*len_grid).astype(int)\n",
    "    begins = centers - (y_pred[ :, 1][concerned_grids]*len_time_serie/2).astype(int)\n",
    "    ends = centers + (y_pred[ :, 1][concerned_grids]*len_time_serie/2).astype(int)\n",
    "\n",
    "\n",
    "    evtList = []\n",
    "    for i in range(len(begins)):\n",
    "        elt = Event(begins[i], ends[i])\n",
    "        elt.proba = y_pred[ concerned_grids[i], 2]\n",
    "        evtList.append(elt)\n",
    "    final_evtList = []\n",
    "    for j, elt in enumerate(evtList):\n",
    "        keep=True\n",
    "        if max(overlapWithList(elt, evtList[j:]))>0:\n",
    "            if elt.proba<max([x.proba for x in evtList if overlap(x, elt)>0]):\n",
    "                keep=False\n",
    "        if keep==True:\n",
    "            final_evtList.append(elt)\n",
    "\n",
    "\n",
    "    ref_events = get_event_from_timeserie(y_test.flatten(), 1)\n",
    "\n",
    "    for elt in final_evtList:\n",
    "        overlapping_events = [x for x in ref_events if overlap(elt, x)>0]\n",
    "        if len(overlapping_events)==0:\n",
    "            FP +=1\n",
    "        else:\n",
    "            TP +=1\n",
    "            iou.append(jaccard([elt], overlapping_events))\n",
    "\n",
    "    for elt in ref_events:\n",
    "        if len(final_evtList)==0:\n",
    "            FN+=1\n",
    "        elif max(overlapWithList(elt, final_evtList))==0:\n",
    "            FN+=1\n",
    "    return TP, FN, FP, iou"
   ]
  },
  {
   "cell_type": "code",
   "execution_count": 25,
   "id": "29d25ed7-9cd1-466f-8fff-921699ceb1a3",
   "metadata": {},
   "outputs": [],
   "source": [
    "thres_range = np.arange(0.01, 1, 0.1)\n",
    "\n",
    "recalls = []\n",
    "precisions = []\n",
    "average_iou = []\n",
    "\n",
    "\n",
    "for thres in thres_range:\n",
    "    TP = 0\n",
    "    FP = 0\n",
    "    FN = 0\n",
    "    IOU = []\n",
    "    for i in range(len(Y_pred)):\n",
    "        tp, fn, fp, iou = evaluate_model_per_timeserie(Y_pred[i], y_test[i], thres)\n",
    "        TP += tp\n",
    "        FP += fp\n",
    "        FN += fn\n",
    "        IOU += iou\n",
    "    recalls.append(TP/(TP+FN))\n",
    "    precisions.append(TP/(FP+TP))\n",
    "    average_iou.append(np.mean(IOU))"
   ]
  },
  {
   "cell_type": "code",
   "execution_count": 26,
   "id": "c83b5512-c1ca-4d90-8651-e749c5aed519",
   "metadata": {},
   "outputs": [
    {
     "name": "stdout",
     "output_type": "stream",
     "text": [
      "0.8089887640449438\n",
      "0.8181818181818182\n",
      "0.7097608063562403\n"
     ]
    }
   ],
   "source": [
    "print(recalls[np.argmin(abs(np.asarray(recalls)-np.asarray(precisions)))])\n",
    "print(precisions[np.argmin(abs(np.asarray(recalls)-np.asarray(precisions)))])\n",
    "print(average_iou[np.argmin(abs(np.asarray(recalls)-np.asarray(precisions)))])\n"
   ]
  },
  {
   "cell_type": "code",
   "execution_count": 26,
   "id": "2100fa74-eb64-4a0b-bf3a-6a77dea78864",
   "metadata": {},
   "outputs": [
    {
     "data": {
      "image/png": "[encoded data removed]",
      "text/plain": [
       "<Figure size 432x288 with 1 Axes>"
      ]
     },
     "metadata": {
      "needs_background": "light"
     },
     "output_type": "display_data"
    }
   ],
   "source": [
    "plt.plot(thres_range, recalls)\n",
    "plt.plot(thres_range, precisions)\n",
    "plt.plot(thres_range, average_iou)\n",
    "\n",
    "\n",
    "plt.xlabel('decision threshold')\n",
    "plt.ylabel('metrics')\n",
    "plt.ylim(0, 1.1)\n",
    "\n",
    "plt.legend(['Recall', 'Precision', 'Average IOU'])\n",
    "#plt.savefig('YOLO/no_FR/precision_recall_B_MSH.png')"
   ]
  },
  {
   "cell_type": "code",
   "execution_count": 40,
   "id": "53be1257-bc18-4d8b-bbc9-805c4d9fbb4a",
   "metadata": {},
   "outputs": [
    {
     "name": "stdout",
     "output_type": "stream",
     "text": [
      "21/21 [==============================] - 0s 2ms/step\n"
     ]
    }
   ],
   "source": [
    "wind = np.load('/DATA/nguyen/timeSeries_interval/Wind_FR.npy', allow_pickle=True)\n",
    "\n",
    "X = np.zeros((len(wind), wind.shape[1], wind.shape[2]+1))\n",
    "\n",
    "\n",
    "for i, x in enumerate(wind):\n",
    "    mag = np.linalg.norm(x, axis=1)\n",
    "    X[i,:, :3] = x/max(mag)\n",
    "    X[i, :, 3] = mag/max(mag)\n",
    "      \n",
    "    \n",
    "    \n",
    "y_wind = np.load('/DATA/nguyen/timeSeries_interval/Wind_FR_label.npy', allow_pickle=True)\n",
    "\n",
    "\n",
    "\n",
    "\n",
    "Y_pred = model.predict(X, verbose=1)\n",
    "\n",
    "for i in range(len(X)):\n",
    "    fig, ax = plot_boxes(X[i], y_wind[i, :], Y_pred[i], 0.5)\n",
    "    ax[0].set_ylabel('Normalized B', fontsize=12)\n",
    "    ax[0].legend(['Bx', 'By', 'Bz'], fontsize=12)\n",
    "    ax[1].set_ylim(-0.1, 1.1)\n",
    "    ax[0].set_ylim(-1, 1)\n",
    "    ax[1].set_xlabel('Timestep', fontsize=12)\n",
    "    plt.savefig('YOLO/no_FR/wind_pred'+str(i)+'.jpg')\n",
    "    plt.close()"
   ]
  },
  {
   "cell_type": "code",
   "execution_count": 34,
   "id": "8dd95d69-ffe7-47ea-a29a-9038666d48d5",
   "metadata": {},
   "outputs": [
    {
     "data": {
      "text/plain": [
       "(653, 2080)"
      ]
     },
     "execution_count": 34,
     "metadata": {},
     "output_type": "execute_result"
    }
   ],
   "source": [
    "y_wind.shape"
   ]
  },
  {
   "cell_type": "code",
   "execution_count": 39,
   "id": "7957c5ee-d9b7-4a4c-8384-87bd07387ca6",
   "metadata": {},
   "outputs": [],
   "source": [
    "def plot_boxes(data, label, matrice, thres_proba, plot_pred=True):\n",
    "    fig, ax = plt.subplots(nrows=2, figsize=(10, 10))\n",
    "    ax[0].plot(data[:, 0])\n",
    "    ax[0].plot(data[:, 1])\n",
    "    ax[0].plot(data[:, 2])\n",
    "    \n",
    "    ax[1].plot(label)\n",
    "    if plot_pred is True:\n",
    "        for i in range(len(matrice)):\n",
    "            if matrice[i, 2]>thres_proba:\n",
    "                plt.axvspan((i+matrice[i, 0])*160-matrice[i, 1]*len(label)/2, (i+matrice[i, 0])*160+matrice[i, 1]*len(label)/2, color='red', alpha=0.2)\n",
    "    return fig, ax"
   ]
  },
  {
   "cell_type": "code",
   "execution_count": null,
   "id": "4392dbbc-f7a1-4596-bda5-c91ddd708752",
   "metadata": {},
   "outputs": [],
   "source": []
  }
 ],
 "metadata": {
  "kernelspec": {
   "display_name": "tensorflow/python3",
   "language": "python",
   "name": "conda-env-tensorflow-py"
  },
  "language_info": {
   "codemirror_mode": {
    "name": "ipython",
    "version": 3
   },
   "file_extension": ".py",
   "mimetype": "text/x-python",
   "name": "python",
   "nbconvert_exporter": "python",
   "pygments_lexer": "ipython3",
   "version": "3.10.6"
  }
 },
 "nbformat": 4,
 "nbformat_minor": 5
}
