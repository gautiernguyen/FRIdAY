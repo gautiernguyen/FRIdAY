{
 "cells": [
  {
   "cell_type": "markdown",
   "id": "04ad330b-0cc4-486f-a14e-4a817941730a",
   "metadata": {},
   "source": [
    "In this notebok, you will find routines to load data from AMDA and turn them in dataset non centered around an existing flux rope"
   ]
  },
  {
   "cell_type": "code",
   "execution_count": 1,
   "id": "6df1692d-c517-4815-8d2a-6e8903d81653",
   "metadata": {},
   "outputs": [],
   "source": [
    "import pandas as pd\n",
    "import sys\n",
    "sys.path.append('../../identification/')\n",
    "\n",
    "import event as evt\n",
    "import numpy as np\n",
    "import datetime\n",
    "\n",
    "import speasy as spz\n",
    "spz.config.proxy_url.set('http://sciqlop.lpp.polytechnique.fr/cache')\n",
    "spz.config.proxy_enabled.set('True')\n",
    "from speasy.inventory.data_tree import amda"
   ]
  },
  {
   "cell_type": "markdown",
   "id": "5bab2d56-261e-4605-8481-2bb4dd4c63ee",
   "metadata": {
    "tags": []
   },
   "source": [
    "## MMS"
   ]
  },
  {
   "cell_type": "code",
   "execution_count": 2,
   "id": "f94b6399-7b90-46bf-a441-51e77dde1a41",
   "metadata": {},
   "outputs": [],
   "source": [
    "df = pd.read_csv('FR_MMS.txt', sep='\\t').dropna()\n",
    "df['Time'] = pd.to_timedelta(df['Time'])\n",
    "df['Date'] = pd.to_datetime(df['Date'])\n",
    "df['Unnamed: 4'] = pd.to_timedelta(df['Unnamed: 4'])\n",
    "evtList = [evt.Event(df['Date'][i]+df['Time'][i], df['Date'][i]+df['Unnamed: 4'][i])for i in range(0, len(df))]"
   ]
  },
  {
   "cell_type": "code",
   "execution_count": 3,
   "id": "7a2b8f36-6cac-4c91-82e6-a983c36923ca",
   "metadata": {},
   "outputs": [],
   "source": [
    "date_range = pd.date_range(datetime.datetime(2015, 9, 1),\n",
    "                           datetime.datetime(2017,2,8),\n",
    "                           freq='0.1S')\n",
    "y_index = pd.Series(index=date_range, data=0)\n",
    "\n",
    "for elt in evtList:\n",
    "    y_index[elt.begin:elt.end]=1"
   ]
  },
  {
   "cell_type": "code",
   "execution_count": 4,
   "id": "75c80eaf-a862-41a8-8bd6-d1b14ba447fb",
   "metadata": {},
   "outputs": [
    {
     "name": "stdout",
     "output_type": "stream",
     "text": [
      "0 days 00:00:39.259628366\n",
      "0 days 00:00:11.895857406\n",
      "0 days 00:01:30.078182299\n",
      "0 days 00:00:26.890786812\n",
      "0 days 00:00:06.421942700\n",
      "0 days 00:00:38.629804006\n",
      "0 days 00:00:17.495134160\n",
      "0 days 00:00:24.560561190\n",
      "0 days 00:00:08.903534870\n",
      "0 days 00:00:00.552117340\n",
      "0 days 00:00:29.325868444\n",
      "0 days 00:00:08.176716282\n",
      "0 days 00:00:01.735826704\n",
      "0 days 00:00:00.432872343\n",
      "0 days 00:00:29.173534950\n",
      "0 days 00:00:17.667227878\n",
      "0 days 00:00:23.336464295\n",
      "0 days 00:00:52.349183403\n",
      "0 days 00:01:05.438816042\n",
      "0 days 00:00:27.425267802\n",
      "0 days 00:00:38.777500185\n",
      "0 days 00:00:27.925790168\n",
      "0 days 00:00:00.471291093\n",
      "0 days 00:01:10.619412186\n",
      "0 days 00:00:20.143363053\n",
      "0 days 00:00:38.840497732\n",
      "0 days 00:00:15.204955892\n",
      "0 days 00:00:52.127920008\n",
      "0 days 00:01:17.579037025\n",
      "0 days 00:00:14.636872617\n",
      "0 days 00:00:09.182464205\n",
      "0 days 00:01:03.802036373\n",
      "0 days 00:00:18.475114126\n",
      "0 days 00:00:39.816034902\n",
      "0 days 00:00:24.313273770\n",
      "0 days 00:00:55.658457066\n",
      "0 days 00:00:20.627193127\n",
      "0 days 00:00:35.668315214\n",
      "0 days 00:00:33.075330928\n",
      "0 days 00:00:09.091513195\n",
      "0 days 00:00:10.270791564\n",
      "0 days 00:01:02.106307133\n",
      "0 days 00:00:33.446515055\n",
      "0 days 00:01:14.645862514\n",
      "0 days 00:00:16.755825850\n",
      "0 days 00:00:09.657725293\n",
      "0 days 00:00:12.678042986\n",
      "0 days 00:00:06.037919309\n",
      "0 days 00:00:22.461940076\n",
      "0 days 00:00:09.475249541\n",
      "0 days 00:00:32.527027284\n",
      "0 days 00:00:09.511985923\n",
      "0 days 00:00:27.490946668\n",
      "0 days 00:00:11.718352814\n",
      "0 days 00:00:23.777810106\n",
      "0 days 00:01:09.137713223\n",
      "0 days 00:00:07.985519767\n",
      "0 days 00:00:11.042733839\n",
      "0 days 00:00:28.122691277\n",
      "0 days 00:01:53.407026267\n",
      "0 days 00:00:05.537580684\n",
      "0 days 00:00:12.522365816\n",
      "0 days 00:00:05.077809650\n",
      "0 days 00:00:19.325724902\n",
      "0 days 00:00:10.055288280\n",
      "0 days 00:00:21.563082646\n",
      "0 days 00:00:29.467094256\n",
      "0 days 00:00:01.890950916\n",
      "0 days 00:01:21.100224631\n",
      "0 days 00:00:06.995936429\n",
      "0 days 00:00:06.267070822\n",
      "0 days 00:00:10.926816053\n",
      "0 days 00:00:22.344252553\n",
      "0 days 00:00:06.256021806\n",
      "0 days 00:00:28.046388381\n",
      "0 days 00:00:13.636243646\n",
      "0 days 00:00:18.442463449\n",
      "0 days 00:00:03.495493480\n",
      "0 days 00:01:51.586125965\n",
      "0 days 00:00:08.018001891\n",
      "0 days 00:00:41.814327320\n",
      "0 days 00:00:16.449660614\n",
      "0 days 00:02:28.593925772\n",
      "0 days 00:00:29.051132244\n",
      "0 days 00:00:11.738467458\n",
      "0 days 00:00:05.619441894\n",
      "0 days 00:00:20.487397194\n",
      "0 days 00:01:31.030426844\n",
      "0 days 00:00:28.098573149\n",
      "0 days 00:03:53.294249612\n",
      "0 days 00:00:00.527082786\n",
      "0 days 00:00:46.466732472\n",
      "0 days 00:03:39.123172426\n",
      "0 days 00:00:22.280603414\n",
      "0 days 00:00:04.846588584\n",
      "0 days 00:00:05.878846519\n",
      "0 days 00:00:39.400812961\n",
      "0 days 00:00:01.631783609\n",
      "0 days 00:01:13.216991946\n",
      "0 days 00:01:10.141622117\n",
      "0 days 00:00:29.491925715\n",
      "0 days 00:00:32.236011779\n",
      "0 days 00:00:08.800160309\n",
      "0 days 00:00:11.838683460\n",
      "0 days 00:00:14.545403486\n",
      "0 days 00:00:09.208179141\n",
      "0 days 00:00:38.566570496\n",
      "0 days 00:00:26.503446744\n",
      "0 days 00:00:08.302993622\n",
      "0 days 00:00:38.258496713\n",
      "0 days 00:00:34.262777240\n",
      "0 days 00:00:44.465213942\n",
      "0 days 00:02:13.489976215\n",
      "0 days 00:03:06.541323899\n",
      "0 days 00:00:27.872180776\n",
      "0 days 00:03:11.150435700\n",
      "0 days 00:05:51.690549008\n",
      "0 days 00:00:30.417457878\n",
      "0 days 00:00:00.593413626\n",
      "0 days 00:00:08.599113539\n",
      "0 days 00:00:22.310777045\n",
      "0 days 00:00:44.419887949\n",
      "0 days 00:00:28.474107289\n",
      "0 days 00:01:25.668241603\n",
      "0 days 00:00:39.384846123\n",
      "0 days 00:00:40.237734107\n",
      "0 days 00:00:16.555891173\n",
      "0 days 00:00:08.937118688\n",
      "0 days 00:03:16.353146599\n",
      "0 days 00:00:02.578206685\n",
      "0 days 00:00:06.391790426\n",
      "0 days 00:00:05.383367653\n",
      "0 days 00:00:28.455564012\n",
      "0 days 00:00:43.403769047\n",
      "0 days 00:01:10.366848169\n",
      "0 days 00:02:48.876627201\n",
      "0 days 00:03:42.394675003\n",
      "0 days 00:00:21.246041704\n",
      "0 days 00:00:02.315738386\n",
      "0 days 00:00:01.385512225\n",
      "0 days 00:00:11.743859691\n",
      "0 days 00:00:07.715500751\n",
      "0 days 00:00:02.527474472\n",
      "0 days 00:02:54.738248497\n",
      "0 days 00:00:20.229876642\n",
      "0 days 00:00:01.648551127\n",
      "0 days 00:00:40.622716319\n",
      "0 days 00:00:03.002463707\n",
      "0 days 00:00:08.149520977\n",
      "0 days 00:00:05.805719632\n",
      "0 days 00:00:13.924164547\n",
      "0 days 00:00:03.454416208\n",
      "0 days 00:00:10.192918748\n",
      "0 days 00:00:12.682337244\n",
      "0 days 00:01:04.112656364\n",
      "0 days 00:00:43.606556337\n",
      "0 days 00:00:38.966155956\n",
      "0 days 00:00:36.816398670\n",
      "0 days 00:00:04.530205026\n",
      "0 days 00:00:05.624512670\n",
      "0 days 00:00:02.093472824\n",
      "0 days 00:02:04.139213260\n",
      "0 days 00:00:09.520398725\n",
      "0 days 00:00:22.688159988\n",
      "0 days 00:00:02.733259377\n",
      "0 days 00:00:01.922144192\n",
      "0 days 00:00:02.194796270\n",
      "0 days 00:00:12.909186267\n",
      "0 days 00:00:04.051743585\n",
      "0 days 00:00:01.277469532\n",
      "0 days 00:00:09.712040399\n",
      "0 days 00:00:07.461537854\n",
      "0 days 00:00:05.340638145\n",
      "0 days 00:00:13.781660742\n",
      "0 days 00:00:02.017661550\n",
      "0 days 00:00:07.686135138\n",
      "0 days 00:00:04.032868380\n",
      "0 days 00:00:10.431586289\n",
      "0 days 00:00:09.985436311\n",
      "0 days 00:00:18.994507102\n",
      "0 days 00:00:02.750938105\n",
      "0 days 00:00:31.702952047\n",
      "0 days 00:00:13.239702386\n",
      "0 days 00:00:03.383130965\n",
      "0 days 00:00:00.910533349\n",
      "0 days 00:00:02.784155205\n"
     ]
    }
   ],
   "source": [
    "fr_timeseries = []\n",
    "y_label = []\n",
    "delta = datetime.timedelta(seconds=0)\n",
    "\n",
    "for i, elt in enumerate(evtList):\n",
    "    \n",
    "    \n",
    "    duration = elt.end-elt.begin\n",
    "    \n",
    "    prod_duration = np.random.uniform(0.15, 0.5)\n",
    "    prop_left = np.random.uniform(0, 1-prod_duration)\n",
    "    start = elt.begin-duration*prop_left/prod_duration\n",
    "    end = start+duration/prod_duration\n",
    "    \n",
    "    print((end-elt.end))\n",
    "    \n",
    "    data = spz.get_data(amda.Parameters.MMS.MMS1.FGM.mms1_fgm_srvy.mms1_b_gsm,start_time = start, stop_time=end)\n",
    "    df_c = data.to_dataframe(datetime_index=True).dropna()\n",
    "    freq = (df_c.index[-1]-df_c.index[0])/2079\n",
    "    df_c = df_c.resample(freq).mean().interpolate()\n",
    "    fr_timeseries.append(df_c)\n",
    "    \n",
    "    serie = y_index[start:end].copy()\n",
    "    freq = (serie.index[-1]-serie.index[0])/2079\n",
    "    serie = serie.resample(freq).mean().interpolate()\n",
    "    y_label.append(serie)\n",
    "    \n",
    "np.save('/DATA/nguyen/timeSeries_interval/MMS_FR_non_centered.npy', np.asarray(fr_timeseries))\n",
    "np.save('/DATA/nguyen/timeSeries_interval/MMS_label_non_centered.npy', np.asarray(y_label))"
   ]
  },
  {
   "cell_type": "code",
   "execution_count": 8,
   "id": "8bb1ce9d-966f-4073-878e-ccab7cb3a174",
   "metadata": {},
   "outputs": [
    {
     "name": "stdout",
     "output_type": "stream",
     "text": [
      "99\r"
     ]
    }
   ],
   "source": [
    "fr_timeseries = []\n",
    "list_MSH_intervals = evt.read_csv('MSH_intervals.csv', header=0)\n",
    "delta = datetime.timedelta(seconds=0)\n",
    "\n",
    "for i, elt in enumerate(list_MSH_intervals):\n",
    "    print(i, end='\\r')\n",
    "    data = spz.get_data(amda.Parameters.MMS.MMS1.FGM.mms1_fgm_srvy.mms1_b_gsm,start_time = elt.begin, stop_time=elt.end)\n",
    "    df_c = data.to_dataframe(datetime_index=True).dropna()\n",
    "    freq = (df_c.index[-1]-df_c.index[0])/2079\n",
    "    df_c = df_c.resample(freq).mean().interpolate()\n",
    "    fr_timeseries.append(df_c)\n",
    "np.save('/DATA/nguyen/timeSeries_interval/MSH_MMS.npy', np.asarray(fr_timeseries))"
   ]
  },
  {
   "cell_type": "markdown",
   "id": "b9b6ee90-e176-4925-b754-a7c84680e20f",
   "metadata": {
    "tags": []
   },
   "source": [
    "## WIND"
   ]
  },
  {
   "cell_type": "code",
   "execution_count": 2,
   "id": "05ea9780-0414-4098-965f-a9b919621ab5",
   "metadata": {},
   "outputs": [],
   "source": [
    "list_icmes = spz.get_data(amda.Catalogs.SharedCatalogs.SOLAR_WIND.listOfICMEs_Nguyen)\n",
    "evtList = [evt.Event(list_icmes[i].start_time, list_icmes[i].stop_time)for i in range(0, len(list_icmes))]\n",
    "\n"
   ]
  },
  {
   "cell_type": "code",
   "execution_count": 3,
   "id": "57fc6003-6cc7-4e46-aee3-3cb08ebbed4c",
   "metadata": {},
   "outputs": [
    {
     "name": "stdout",
     "output_type": "stream",
     "text": [
      "299\r"
     ]
    }
   ],
   "source": [
    "\n",
    "no_ICME_interval = []\n",
    "i = 0\n",
    "\n",
    "while i<300:\n",
    "    print(i, end='\\r')\n",
    "    year = np.random.randint(2000, 2016)\n",
    "    month = np.random.randint(1, 13)\n",
    "    day = np.random.randint(1, 29)\n",
    "    hour = np.random.randint(1, 24)\n",
    "    \n",
    "    date = datetime.datetime(year, month, day, hour, tzinfo=datetime.timezone.utc)\n",
    "    delta = datetime.timedelta(hours=10)\n",
    "    interval = evt.Event(date, date+delta)\n",
    "    if max(evt.overlapWithList(interval, evtList))==datetime.timedelta(0):\n",
    "        data = spz.get_data(amda.Parameters.Wind.MFI.wnd_mfi_kp.wnd_b,start_time = interval.begin, stop_time=interval.end)\n",
    "        df_c = data.to_dataframe(datetime_index=True).dropna()\n",
    "        if len(df_c)>0:\n",
    "            i += 1\n",
    "            freq = (df_c.index[-1]-df_c.index[0])/2079\n",
    "            df_c = df_c.resample(freq).mean().interpolate()\n",
    "            no_ICME_interval.append(df_c)"
   ]
  },
  {
   "cell_type": "code",
   "execution_count": 4,
   "id": "e64b8269-2469-40f1-9186-3e0721af17b8",
   "metadata": {},
   "outputs": [],
   "source": [
    "np.save('/DATA/nguyen/timeSeries_interval/Wind_no_FR.npy', np.asarray(no_ICME_interval))"
   ]
  },
  {
   "cell_type": "code",
   "execution_count": null,
   "id": "5338c113-cf2f-4cb9-9c29-cbc4f1efcaed",
   "metadata": {},
   "outputs": [],
   "source": []
  },
  {
   "cell_type": "code",
   "execution_count": 5,
   "id": "7b46216b-ec8c-4184-ba4d-6820e92e06fd",
   "metadata": {},
   "outputs": [
    {
     "name": "stderr",
     "output_type": "stream",
     "text": [
      "/tmp/ipykernel_29203/3120584296.py:7: FutureWarning: Indexing a timezone-naive DatetimeIndex with a timezone-aware datetime is deprecated and will raise KeyError in a future version.  Use a timezone-naive object instead.\n",
      "  y_index[elt.begin:elt.end]=1\n"
     ]
    }
   ],
   "source": [
    "date_range = pd.date_range(datetime.datetime(1997, 6, 1),\n",
    "                           datetime.datetime(2016,1,1),\n",
    "                           freq='10S')\n",
    "y_index = pd.Series(index=date_range, data=0)\n",
    "\n",
    "for elt in evtList:\n",
    "    y_index[elt.begin:elt.end]=1"
   ]
  },
  {
   "cell_type": "code",
   "execution_count": 8,
   "id": "02449db7-dbcd-4be5-8d71-c15ceac1387b",
   "metadata": {},
   "outputs": [
    {
     "name": "stdout",
     "output_type": "stream",
     "text": [
      "0\r"
     ]
    },
    {
     "name": "stderr",
     "output_type": "stream",
     "text": [
      "/tmp/ipykernel_29203/1153396954.py:19: FutureWarning: Indexing a timezone-naive DatetimeIndex with a timezone-aware datetime is deprecated and will raise KeyError in a future version.  Use a timezone-naive object instead.\n",
      "  serie = y_index[start:end].copy()\n",
      "/tmp/ipykernel_29203/1153396954.py:19: FutureWarning: Indexing a timezone-naive DatetimeIndex with a timezone-aware datetime is deprecated and will raise KeyError in a future version.  Use a timezone-naive object instead.\n",
      "  serie = y_index[start:end].copy()\n"
     ]
    },
    {
     "name": "stdout",
     "output_type": "stream",
     "text": [
      "2\r"
     ]
    },
    {
     "name": "stderr",
     "output_type": "stream",
     "text": [
      "/tmp/ipykernel_29203/1153396954.py:19: FutureWarning: Indexing a timezone-naive DatetimeIndex with a timezone-aware datetime is deprecated and will raise KeyError in a future version.  Use a timezone-naive object instead.\n",
      "  serie = y_index[start:end].copy()\n",
      "/tmp/ipykernel_29203/1153396954.py:19: FutureWarning: Indexing a timezone-naive DatetimeIndex with a timezone-aware datetime is deprecated and will raise KeyError in a future version.  Use a timezone-naive object instead.\n",
      "  serie = y_index[start:end].copy()\n"
     ]
    },
    {
     "name": "stdout",
     "output_type": "stream",
     "text": [
      "4\r"
     ]
    },
    {
     "name": "stderr",
     "output_type": "stream",
     "text": [
      "/tmp/ipykernel_29203/1153396954.py:19: FutureWarning: Indexing a timezone-naive DatetimeIndex with a timezone-aware datetime is deprecated and will raise KeyError in a future version.  Use a timezone-naive object instead.\n",
      "  serie = y_index[start:end].copy()\n",
      "/tmp/ipykernel_29203/1153396954.py:19: FutureWarning: Indexing a timezone-naive DatetimeIndex with a timezone-aware datetime is deprecated and will raise KeyError in a future version.  Use a timezone-naive object instead.\n",
      "  serie = y_index[start:end].copy()\n"
     ]
    },
    {
     "name": "stdout",
     "output_type": "stream",
     "text": [
      "6\r"
     ]
    },
    {
     "name": "stderr",
     "output_type": "stream",
     "text": [
      "/tmp/ipykernel_29203/1153396954.py:19: FutureWarning: Indexing a timezone-naive DatetimeIndex with a timezone-aware datetime is deprecated and will raise KeyError in a future version.  Use a timezone-naive object instead.\n",
      "  serie = y_index[start:end].copy()\n",
      "/tmp/ipykernel_29203/1153396954.py:19: FutureWarning: Indexing a timezone-naive DatetimeIndex with a timezone-aware datetime is deprecated and will raise KeyError in a future version.  Use a timezone-naive object instead.\n",
      "  serie = y_index[start:end].copy()\n"
     ]
    },
    {
     "name": "stdout",
     "output_type": "stream",
     "text": [
      "8\r"
     ]
    },
    {
     "name": "stderr",
     "output_type": "stream",
     "text": [
      "/tmp/ipykernel_29203/1153396954.py:19: FutureWarning: Indexing a timezone-naive DatetimeIndex with a timezone-aware datetime is deprecated and will raise KeyError in a future version.  Use a timezone-naive object instead.\n",
      "  serie = y_index[start:end].copy()\n",
      "/tmp/ipykernel_29203/1153396954.py:19: FutureWarning: Indexing a timezone-naive DatetimeIndex with a timezone-aware datetime is deprecated and will raise KeyError in a future version.  Use a timezone-naive object instead.\n",
      "  serie = y_index[start:end].copy()\n",
      "/tmp/ipykernel_29203/1153396954.py:19: FutureWarning: Indexing a timezone-naive DatetimeIndex with a timezone-aware datetime is deprecated and will raise KeyError in a future version.  Use a timezone-naive object instead.\n",
      "  serie = y_index[start:end].copy()\n",
      "/tmp/ipykernel_29203/1153396954.py:19: FutureWarning: Indexing a timezone-naive DatetimeIndex with a timezone-aware datetime is deprecated and will raise KeyError in a future version.  Use a timezone-naive object instead.\n",
      "  serie = y_index[start:end].copy()\n"
     ]
    },
    {
     "name": "stdout",
     "output_type": "stream",
     "text": [
      "12\r"
     ]
    },
    {
     "name": "stderr",
     "output_type": "stream",
     "text": [
      "/tmp/ipykernel_29203/1153396954.py:19: FutureWarning: Indexing a timezone-naive DatetimeIndex with a timezone-aware datetime is deprecated and will raise KeyError in a future version.  Use a timezone-naive object instead.\n",
      "  serie = y_index[start:end].copy()\n",
      "/tmp/ipykernel_29203/1153396954.py:19: FutureWarning: Indexing a timezone-naive DatetimeIndex with a timezone-aware datetime is deprecated and will raise KeyError in a future version.  Use a timezone-naive object instead.\n",
      "  serie = y_index[start:end].copy()\n"
     ]
    },
    {
     "name": "stdout",
     "output_type": "stream",
     "text": [
      "14\r"
     ]
    },
    {
     "name": "stderr",
     "output_type": "stream",
     "text": [
      "/tmp/ipykernel_29203/1153396954.py:19: FutureWarning: Indexing a timezone-naive DatetimeIndex with a timezone-aware datetime is deprecated and will raise KeyError in a future version.  Use a timezone-naive object instead.\n",
      "  serie = y_index[start:end].copy()\n",
      "/tmp/ipykernel_29203/1153396954.py:19: FutureWarning: Indexing a timezone-naive DatetimeIndex with a timezone-aware datetime is deprecated and will raise KeyError in a future version.  Use a timezone-naive object instead.\n",
      "  serie = y_index[start:end].copy()\n",
      "/tmp/ipykernel_29203/1153396954.py:19: FutureWarning: Indexing a timezone-naive DatetimeIndex with a timezone-aware datetime is deprecated and will raise KeyError in a future version.  Use a timezone-naive object instead.\n",
      "  serie = y_index[start:end].copy()\n"
     ]
    },
    {
     "name": "stdout",
     "output_type": "stream",
     "text": [
      "17\r"
     ]
    },
    {
     "name": "stderr",
     "output_type": "stream",
     "text": [
      "/tmp/ipykernel_29203/1153396954.py:19: FutureWarning: Indexing a timezone-naive DatetimeIndex with a timezone-aware datetime is deprecated and will raise KeyError in a future version.  Use a timezone-naive object instead.\n",
      "  serie = y_index[start:end].copy()\n",
      "/tmp/ipykernel_29203/1153396954.py:19: FutureWarning: Indexing a timezone-naive DatetimeIndex with a timezone-aware datetime is deprecated and will raise KeyError in a future version.  Use a timezone-naive object instead.\n",
      "  serie = y_index[start:end].copy()\n",
      "/tmp/ipykernel_29203/1153396954.py:19: FutureWarning: Indexing a timezone-naive DatetimeIndex with a timezone-aware datetime is deprecated and will raise KeyError in a future version.  Use a timezone-naive object instead.\n",
      "  serie = y_index[start:end].copy()\n",
      "/tmp/ipykernel_29203/1153396954.py:19: FutureWarning: Indexing a timezone-naive DatetimeIndex with a timezone-aware datetime is deprecated and will raise KeyError in a future version.  Use a timezone-naive object instead.\n",
      "  serie = y_index[start:end].copy()\n"
     ]
    },
    {
     "name": "stdout",
     "output_type": "stream",
     "text": [
      "21\r"
     ]
    },
    {
     "name": "stderr",
     "output_type": "stream",
     "text": [
      "/tmp/ipykernel_29203/1153396954.py:19: FutureWarning: Indexing a timezone-naive DatetimeIndex with a timezone-aware datetime is deprecated and will raise KeyError in a future version.  Use a timezone-naive object instead.\n",
      "  serie = y_index[start:end].copy()\n"
     ]
    },
    {
     "name": "stdout",
     "output_type": "stream",
     "text": [
      "22\r"
     ]
    },
    {
     "name": "stderr",
     "output_type": "stream",
     "text": [
      "/tmp/ipykernel_29203/1153396954.py:19: FutureWarning: Indexing a timezone-naive DatetimeIndex with a timezone-aware datetime is deprecated and will raise KeyError in a future version.  Use a timezone-naive object instead.\n",
      "  serie = y_index[start:end].copy()\n",
      "/tmp/ipykernel_29203/1153396954.py:19: FutureWarning: Indexing a timezone-naive DatetimeIndex with a timezone-aware datetime is deprecated and will raise KeyError in a future version.  Use a timezone-naive object instead.\n",
      "  serie = y_index[start:end].copy()\n"
     ]
    },
    {
     "name": "stdout",
     "output_type": "stream",
     "text": [
      "24\r"
     ]
    },
    {
     "name": "stderr",
     "output_type": "stream",
     "text": [
      "/tmp/ipykernel_29203/1153396954.py:19: FutureWarning: Indexing a timezone-naive DatetimeIndex with a timezone-aware datetime is deprecated and will raise KeyError in a future version.  Use a timezone-naive object instead.\n",
      "  serie = y_index[start:end].copy()\n",
      "/tmp/ipykernel_29203/1153396954.py:19: FutureWarning: Indexing a timezone-naive DatetimeIndex with a timezone-aware datetime is deprecated and will raise KeyError in a future version.  Use a timezone-naive object instead.\n",
      "  serie = y_index[start:end].copy()\n",
      "/tmp/ipykernel_29203/1153396954.py:19: FutureWarning: Indexing a timezone-naive DatetimeIndex with a timezone-aware datetime is deprecated and will raise KeyError in a future version.  Use a timezone-naive object instead.\n",
      "  serie = y_index[start:end].copy()\n",
      "/tmp/ipykernel_29203/1153396954.py:19: FutureWarning: Indexing a timezone-naive DatetimeIndex with a timezone-aware datetime is deprecated and will raise KeyError in a future version.  Use a timezone-naive object instead.\n",
      "  serie = y_index[start:end].copy()\n",
      "/tmp/ipykernel_29203/1153396954.py:19: FutureWarning: Indexing a timezone-naive DatetimeIndex with a timezone-aware datetime is deprecated and will raise KeyError in a future version.  Use a timezone-naive object instead.\n",
      "  serie = y_index[start:end].copy()\n",
      "/tmp/ipykernel_29203/1153396954.py:19: FutureWarning: Indexing a timezone-naive DatetimeIndex with a timezone-aware datetime is deprecated and will raise KeyError in a future version.  Use a timezone-naive object instead.\n",
      "  serie = y_index[start:end].copy()\n"
     ]
    },
    {
     "name": "stdout",
     "output_type": "stream",
     "text": [
      "30\r"
     ]
    },
    {
     "name": "stderr",
     "output_type": "stream",
     "text": [
      "/tmp/ipykernel_29203/1153396954.py:19: FutureWarning: Indexing a timezone-naive DatetimeIndex with a timezone-aware datetime is deprecated and will raise KeyError in a future version.  Use a timezone-naive object instead.\n",
      "  serie = y_index[start:end].copy()\n",
      "/tmp/ipykernel_29203/1153396954.py:19: FutureWarning: Indexing a timezone-naive DatetimeIndex with a timezone-aware datetime is deprecated and will raise KeyError in a future version.  Use a timezone-naive object instead.\n",
      "  serie = y_index[start:end].copy()\n",
      "/tmp/ipykernel_29203/1153396954.py:19: FutureWarning: Indexing a timezone-naive DatetimeIndex with a timezone-aware datetime is deprecated and will raise KeyError in a future version.  Use a timezone-naive object instead.\n",
      "  serie = y_index[start:end].copy()\n",
      "/tmp/ipykernel_29203/1153396954.py:19: FutureWarning: Indexing a timezone-naive DatetimeIndex with a timezone-aware datetime is deprecated and will raise KeyError in a future version.  Use a timezone-naive object instead.\n",
      "  serie = y_index[start:end].copy()\n"
     ]
    },
    {
     "name": "stdout",
     "output_type": "stream",
     "text": [
      "34\r"
     ]
    },
    {
     "name": "stderr",
     "output_type": "stream",
     "text": [
      "/tmp/ipykernel_29203/1153396954.py:19: FutureWarning: Indexing a timezone-naive DatetimeIndex with a timezone-aware datetime is deprecated and will raise KeyError in a future version.  Use a timezone-naive object instead.\n",
      "  serie = y_index[start:end].copy()\n"
     ]
    },
    {
     "name": "stdout",
     "output_type": "stream",
     "text": [
      "35\r"
     ]
    },
    {
     "name": "stderr",
     "output_type": "stream",
     "text": [
      "/tmp/ipykernel_29203/1153396954.py:19: FutureWarning: Indexing a timezone-naive DatetimeIndex with a timezone-aware datetime is deprecated and will raise KeyError in a future version.  Use a timezone-naive object instead.\n",
      "  serie = y_index[start:end].copy()\n",
      "/tmp/ipykernel_29203/1153396954.py:19: FutureWarning: Indexing a timezone-naive DatetimeIndex with a timezone-aware datetime is deprecated and will raise KeyError in a future version.  Use a timezone-naive object instead.\n",
      "  serie = y_index[start:end].copy()\n",
      "/tmp/ipykernel_29203/1153396954.py:19: FutureWarning: Indexing a timezone-naive DatetimeIndex with a timezone-aware datetime is deprecated and will raise KeyError in a future version.  Use a timezone-naive object instead.\n",
      "  serie = y_index[start:end].copy()\n",
      "/tmp/ipykernel_29203/1153396954.py:19: FutureWarning: Indexing a timezone-naive DatetimeIndex with a timezone-aware datetime is deprecated and will raise KeyError in a future version.  Use a timezone-naive object instead.\n",
      "  serie = y_index[start:end].copy()\n",
      "/tmp/ipykernel_29203/1153396954.py:19: FutureWarning: Indexing a timezone-naive DatetimeIndex with a timezone-aware datetime is deprecated and will raise KeyError in a future version.  Use a timezone-naive object instead.\n",
      "  serie = y_index[start:end].copy()\n",
      "/tmp/ipykernel_29203/1153396954.py:19: FutureWarning: Indexing a timezone-naive DatetimeIndex with a timezone-aware datetime is deprecated and will raise KeyError in a future version.  Use a timezone-naive object instead.\n",
      "  serie = y_index[start:end].copy()\n"
     ]
    },
    {
     "name": "stdout",
     "output_type": "stream",
     "text": [
      "41\r"
     ]
    },
    {
     "name": "stderr",
     "output_type": "stream",
     "text": [
      "/tmp/ipykernel_29203/1153396954.py:19: FutureWarning: Indexing a timezone-naive DatetimeIndex with a timezone-aware datetime is deprecated and will raise KeyError in a future version.  Use a timezone-naive object instead.\n",
      "  serie = y_index[start:end].copy()\n",
      "/tmp/ipykernel_29203/1153396954.py:19: FutureWarning: Indexing a timezone-naive DatetimeIndex with a timezone-aware datetime is deprecated and will raise KeyError in a future version.  Use a timezone-naive object instead.\n",
      "  serie = y_index[start:end].copy()\n",
      "/tmp/ipykernel_29203/1153396954.py:19: FutureWarning: Indexing a timezone-naive DatetimeIndex with a timezone-aware datetime is deprecated and will raise KeyError in a future version.  Use a timezone-naive object instead.\n",
      "  serie = y_index[start:end].copy()\n"
     ]
    },
    {
     "name": "stdout",
     "output_type": "stream",
     "text": [
      "44\r"
     ]
    },
    {
     "name": "stderr",
     "output_type": "stream",
     "text": [
      "/tmp/ipykernel_29203/1153396954.py:19: FutureWarning: Indexing a timezone-naive DatetimeIndex with a timezone-aware datetime is deprecated and will raise KeyError in a future version.  Use a timezone-naive object instead.\n",
      "  serie = y_index[start:end].copy()\n",
      "/tmp/ipykernel_29203/1153396954.py:19: FutureWarning: Indexing a timezone-naive DatetimeIndex with a timezone-aware datetime is deprecated and will raise KeyError in a future version.  Use a timezone-naive object instead.\n",
      "  serie = y_index[start:end].copy()\n"
     ]
    },
    {
     "name": "stdout",
     "output_type": "stream",
     "text": [
      "46\r"
     ]
    },
    {
     "name": "stderr",
     "output_type": "stream",
     "text": [
      "/tmp/ipykernel_29203/1153396954.py:19: FutureWarning: Indexing a timezone-naive DatetimeIndex with a timezone-aware datetime is deprecated and will raise KeyError in a future version.  Use a timezone-naive object instead.\n",
      "  serie = y_index[start:end].copy()\n",
      "/tmp/ipykernel_29203/1153396954.py:19: FutureWarning: Indexing a timezone-naive DatetimeIndex with a timezone-aware datetime is deprecated and will raise KeyError in a future version.  Use a timezone-naive object instead.\n",
      "  serie = y_index[start:end].copy()\n",
      "/tmp/ipykernel_29203/1153396954.py:19: FutureWarning: Indexing a timezone-naive DatetimeIndex with a timezone-aware datetime is deprecated and will raise KeyError in a future version.  Use a timezone-naive object instead.\n",
      "  serie = y_index[start:end].copy()\n",
      "/tmp/ipykernel_29203/1153396954.py:19: FutureWarning: Indexing a timezone-naive DatetimeIndex with a timezone-aware datetime is deprecated and will raise KeyError in a future version.  Use a timezone-naive object instead.\n",
      "  serie = y_index[start:end].copy()\n",
      "/tmp/ipykernel_29203/1153396954.py:19: FutureWarning: Indexing a timezone-naive DatetimeIndex with a timezone-aware datetime is deprecated and will raise KeyError in a future version.  Use a timezone-naive object instead.\n",
      "  serie = y_index[start:end].copy()\n",
      "/tmp/ipykernel_29203/1153396954.py:19: FutureWarning: Indexing a timezone-naive DatetimeIndex with a timezone-aware datetime is deprecated and will raise KeyError in a future version.  Use a timezone-naive object instead.\n",
      "  serie = y_index[start:end].copy()\n"
     ]
    },
    {
     "name": "stdout",
     "output_type": "stream",
     "text": [
      "52\r"
     ]
    },
    {
     "name": "stderr",
     "output_type": "stream",
     "text": [
      "/tmp/ipykernel_29203/1153396954.py:19: FutureWarning: Indexing a timezone-naive DatetimeIndex with a timezone-aware datetime is deprecated and will raise KeyError in a future version.  Use a timezone-naive object instead.\n",
      "  serie = y_index[start:end].copy()\n",
      "/tmp/ipykernel_29203/1153396954.py:19: FutureWarning: Indexing a timezone-naive DatetimeIndex with a timezone-aware datetime is deprecated and will raise KeyError in a future version.  Use a timezone-naive object instead.\n",
      "  serie = y_index[start:end].copy()\n",
      "/tmp/ipykernel_29203/1153396954.py:19: FutureWarning: Indexing a timezone-naive DatetimeIndex with a timezone-aware datetime is deprecated and will raise KeyError in a future version.  Use a timezone-naive object instead.\n",
      "  serie = y_index[start:end].copy()\n"
     ]
    },
    {
     "name": "stdout",
     "output_type": "stream",
     "text": [
      "55\r"
     ]
    },
    {
     "name": "stderr",
     "output_type": "stream",
     "text": [
      "/tmp/ipykernel_29203/1153396954.py:19: FutureWarning: Indexing a timezone-naive DatetimeIndex with a timezone-aware datetime is deprecated and will raise KeyError in a future version.  Use a timezone-naive object instead.\n",
      "  serie = y_index[start:end].copy()\n",
      "/tmp/ipykernel_29203/1153396954.py:19: FutureWarning: Indexing a timezone-naive DatetimeIndex with a timezone-aware datetime is deprecated and will raise KeyError in a future version.  Use a timezone-naive object instead.\n",
      "  serie = y_index[start:end].copy()\n",
      "/tmp/ipykernel_29203/1153396954.py:19: FutureWarning: Indexing a timezone-naive DatetimeIndex with a timezone-aware datetime is deprecated and will raise KeyError in a future version.  Use a timezone-naive object instead.\n",
      "  serie = y_index[start:end].copy()\n",
      "/tmp/ipykernel_29203/1153396954.py:19: FutureWarning: Indexing a timezone-naive DatetimeIndex with a timezone-aware datetime is deprecated and will raise KeyError in a future version.  Use a timezone-naive object instead.\n",
      "  serie = y_index[start:end].copy()\n",
      "/tmp/ipykernel_29203/1153396954.py:19: FutureWarning: Indexing a timezone-naive DatetimeIndex with a timezone-aware datetime is deprecated and will raise KeyError in a future version.  Use a timezone-naive object instead.\n",
      "  serie = y_index[start:end].copy()\n",
      "/tmp/ipykernel_29203/1153396954.py:19: FutureWarning: Indexing a timezone-naive DatetimeIndex with a timezone-aware datetime is deprecated and will raise KeyError in a future version.  Use a timezone-naive object instead.\n",
      "  serie = y_index[start:end].copy()\n"
     ]
    },
    {
     "name": "stdout",
     "output_type": "stream",
     "text": [
      "61\r"
     ]
    },
    {
     "name": "stderr",
     "output_type": "stream",
     "text": [
      "/tmp/ipykernel_29203/1153396954.py:19: FutureWarning: Indexing a timezone-naive DatetimeIndex with a timezone-aware datetime is deprecated and will raise KeyError in a future version.  Use a timezone-naive object instead.\n",
      "  serie = y_index[start:end].copy()\n",
      "/tmp/ipykernel_29203/1153396954.py:19: FutureWarning: Indexing a timezone-naive DatetimeIndex with a timezone-aware datetime is deprecated and will raise KeyError in a future version.  Use a timezone-naive object instead.\n",
      "  serie = y_index[start:end].copy()\n",
      "/tmp/ipykernel_29203/1153396954.py:19: FutureWarning: Indexing a timezone-naive DatetimeIndex with a timezone-aware datetime is deprecated and will raise KeyError in a future version.  Use a timezone-naive object instead.\n",
      "  serie = y_index[start:end].copy()\n"
     ]
    },
    {
     "name": "stdout",
     "output_type": "stream",
     "text": [
      "64\r"
     ]
    },
    {
     "name": "stderr",
     "output_type": "stream",
     "text": [
      "/tmp/ipykernel_29203/1153396954.py:19: FutureWarning: Indexing a timezone-naive DatetimeIndex with a timezone-aware datetime is deprecated and will raise KeyError in a future version.  Use a timezone-naive object instead.\n",
      "  serie = y_index[start:end].copy()\n",
      "/tmp/ipykernel_29203/1153396954.py:19: FutureWarning: Indexing a timezone-naive DatetimeIndex with a timezone-aware datetime is deprecated and will raise KeyError in a future version.  Use a timezone-naive object instead.\n",
      "  serie = y_index[start:end].copy()\n",
      "/tmp/ipykernel_29203/1153396954.py:19: FutureWarning: Indexing a timezone-naive DatetimeIndex with a timezone-aware datetime is deprecated and will raise KeyError in a future version.  Use a timezone-naive object instead.\n",
      "  serie = y_index[start:end].copy()\n",
      "/tmp/ipykernel_29203/1153396954.py:19: FutureWarning: Indexing a timezone-naive DatetimeIndex with a timezone-aware datetime is deprecated and will raise KeyError in a future version.  Use a timezone-naive object instead.\n",
      "  serie = y_index[start:end].copy()\n",
      "/tmp/ipykernel_29203/1153396954.py:19: FutureWarning: Indexing a timezone-naive DatetimeIndex with a timezone-aware datetime is deprecated and will raise KeyError in a future version.  Use a timezone-naive object instead.\n",
      "  serie = y_index[start:end].copy()\n",
      "/tmp/ipykernel_29203/1153396954.py:19: FutureWarning: Indexing a timezone-naive DatetimeIndex with a timezone-aware datetime is deprecated and will raise KeyError in a future version.  Use a timezone-naive object instead.\n",
      "  serie = y_index[start:end].copy()\n"
     ]
    },
    {
     "name": "stdout",
     "output_type": "stream",
     "text": [
      "70\r"
     ]
    },
    {
     "name": "stderr",
     "output_type": "stream",
     "text": [
      "/tmp/ipykernel_29203/1153396954.py:19: FutureWarning: Indexing a timezone-naive DatetimeIndex with a timezone-aware datetime is deprecated and will raise KeyError in a future version.  Use a timezone-naive object instead.\n",
      "  serie = y_index[start:end].copy()\n",
      "/tmp/ipykernel_29203/1153396954.py:19: FutureWarning: Indexing a timezone-naive DatetimeIndex with a timezone-aware datetime is deprecated and will raise KeyError in a future version.  Use a timezone-naive object instead.\n",
      "  serie = y_index[start:end].copy()\n",
      "/tmp/ipykernel_29203/1153396954.py:19: FutureWarning: Indexing a timezone-naive DatetimeIndex with a timezone-aware datetime is deprecated and will raise KeyError in a future version.  Use a timezone-naive object instead.\n",
      "  serie = y_index[start:end].copy()\n",
      "/tmp/ipykernel_29203/1153396954.py:19: FutureWarning: Indexing a timezone-naive DatetimeIndex with a timezone-aware datetime is deprecated and will raise KeyError in a future version.  Use a timezone-naive object instead.\n",
      "  serie = y_index[start:end].copy()\n",
      "/tmp/ipykernel_29203/1153396954.py:19: FutureWarning: Indexing a timezone-naive DatetimeIndex with a timezone-aware datetime is deprecated and will raise KeyError in a future version.  Use a timezone-naive object instead.\n",
      "  serie = y_index[start:end].copy()\n"
     ]
    },
    {
     "name": "stdout",
     "output_type": "stream",
     "text": [
      "75\r"
     ]
    },
    {
     "name": "stderr",
     "output_type": "stream",
     "text": [
      "/tmp/ipykernel_29203/1153396954.py:19: FutureWarning: Indexing a timezone-naive DatetimeIndex with a timezone-aware datetime is deprecated and will raise KeyError in a future version.  Use a timezone-naive object instead.\n",
      "  serie = y_index[start:end].copy()\n",
      "/tmp/ipykernel_29203/1153396954.py:19: FutureWarning: Indexing a timezone-naive DatetimeIndex with a timezone-aware datetime is deprecated and will raise KeyError in a future version.  Use a timezone-naive object instead.\n",
      "  serie = y_index[start:end].copy()\n",
      "/tmp/ipykernel_29203/1153396954.py:19: FutureWarning: Indexing a timezone-naive DatetimeIndex with a timezone-aware datetime is deprecated and will raise KeyError in a future version.  Use a timezone-naive object instead.\n",
      "  serie = y_index[start:end].copy()\n",
      "/tmp/ipykernel_29203/1153396954.py:19: FutureWarning: Indexing a timezone-naive DatetimeIndex with a timezone-aware datetime is deprecated and will raise KeyError in a future version.  Use a timezone-naive object instead.\n",
      "  serie = y_index[start:end].copy()\n",
      "/tmp/ipykernel_29203/1153396954.py:19: FutureWarning: Indexing a timezone-naive DatetimeIndex with a timezone-aware datetime is deprecated and will raise KeyError in a future version.  Use a timezone-naive object instead.\n",
      "  serie = y_index[start:end].copy()\n"
     ]
    },
    {
     "name": "stdout",
     "output_type": "stream",
     "text": [
      "80\r"
     ]
    },
    {
     "name": "stderr",
     "output_type": "stream",
     "text": [
      "/tmp/ipykernel_29203/1153396954.py:19: FutureWarning: Indexing a timezone-naive DatetimeIndex with a timezone-aware datetime is deprecated and will raise KeyError in a future version.  Use a timezone-naive object instead.\n",
      "  serie = y_index[start:end].copy()\n",
      "/tmp/ipykernel_29203/1153396954.py:19: FutureWarning: Indexing a timezone-naive DatetimeIndex with a timezone-aware datetime is deprecated and will raise KeyError in a future version.  Use a timezone-naive object instead.\n",
      "  serie = y_index[start:end].copy()\n",
      "/tmp/ipykernel_29203/1153396954.py:19: FutureWarning: Indexing a timezone-naive DatetimeIndex with a timezone-aware datetime is deprecated and will raise KeyError in a future version.  Use a timezone-naive object instead.\n",
      "  serie = y_index[start:end].copy()\n",
      "/tmp/ipykernel_29203/1153396954.py:19: FutureWarning: Indexing a timezone-naive DatetimeIndex with a timezone-aware datetime is deprecated and will raise KeyError in a future version.  Use a timezone-naive object instead.\n",
      "  serie = y_index[start:end].copy()\n",
      "/tmp/ipykernel_29203/1153396954.py:19: FutureWarning: Indexing a timezone-naive DatetimeIndex with a timezone-aware datetime is deprecated and will raise KeyError in a future version.  Use a timezone-naive object instead.\n",
      "  serie = y_index[start:end].copy()\n",
      "/tmp/ipykernel_29203/1153396954.py:19: FutureWarning: Indexing a timezone-naive DatetimeIndex with a timezone-aware datetime is deprecated and will raise KeyError in a future version.  Use a timezone-naive object instead.\n",
      "  serie = y_index[start:end].copy()\n"
     ]
    },
    {
     "name": "stdout",
     "output_type": "stream",
     "text": [
      "86\r"
     ]
    },
    {
     "name": "stderr",
     "output_type": "stream",
     "text": [
      "/tmp/ipykernel_29203/1153396954.py:19: FutureWarning: Indexing a timezone-naive DatetimeIndex with a timezone-aware datetime is deprecated and will raise KeyError in a future version.  Use a timezone-naive object instead.\n",
      "  serie = y_index[start:end].copy()\n",
      "/tmp/ipykernel_29203/1153396954.py:19: FutureWarning: Indexing a timezone-naive DatetimeIndex with a timezone-aware datetime is deprecated and will raise KeyError in a future version.  Use a timezone-naive object instead.\n",
      "  serie = y_index[start:end].copy()\n"
     ]
    },
    {
     "name": "stdout",
     "output_type": "stream",
     "text": [
      "88\r"
     ]
    },
    {
     "name": "stderr",
     "output_type": "stream",
     "text": [
      "/tmp/ipykernel_29203/1153396954.py:19: FutureWarning: Indexing a timezone-naive DatetimeIndex with a timezone-aware datetime is deprecated and will raise KeyError in a future version.  Use a timezone-naive object instead.\n",
      "  serie = y_index[start:end].copy()\n",
      "/tmp/ipykernel_29203/1153396954.py:19: FutureWarning: Indexing a timezone-naive DatetimeIndex with a timezone-aware datetime is deprecated and will raise KeyError in a future version.  Use a timezone-naive object instead.\n",
      "  serie = y_index[start:end].copy()\n",
      "/tmp/ipykernel_29203/1153396954.py:19: FutureWarning: Indexing a timezone-naive DatetimeIndex with a timezone-aware datetime is deprecated and will raise KeyError in a future version.  Use a timezone-naive object instead.\n",
      "  serie = y_index[start:end].copy()\n"
     ]
    },
    {
     "name": "stdout",
     "output_type": "stream",
     "text": [
      "91\r"
     ]
    },
    {
     "name": "stderr",
     "output_type": "stream",
     "text": [
      "/tmp/ipykernel_29203/1153396954.py:19: FutureWarning: Indexing a timezone-naive DatetimeIndex with a timezone-aware datetime is deprecated and will raise KeyError in a future version.  Use a timezone-naive object instead.\n",
      "  serie = y_index[start:end].copy()\n",
      "/tmp/ipykernel_29203/1153396954.py:19: FutureWarning: Indexing a timezone-naive DatetimeIndex with a timezone-aware datetime is deprecated and will raise KeyError in a future version.  Use a timezone-naive object instead.\n",
      "  serie = y_index[start:end].copy()\n"
     ]
    },
    {
     "name": "stdout",
     "output_type": "stream",
     "text": [
      "93\r"
     ]
    },
    {
     "name": "stderr",
     "output_type": "stream",
     "text": [
      "/tmp/ipykernel_29203/1153396954.py:19: FutureWarning: Indexing a timezone-naive DatetimeIndex with a timezone-aware datetime is deprecated and will raise KeyError in a future version.  Use a timezone-naive object instead.\n",
      "  serie = y_index[start:end].copy()\n",
      "/tmp/ipykernel_29203/1153396954.py:19: FutureWarning: Indexing a timezone-naive DatetimeIndex with a timezone-aware datetime is deprecated and will raise KeyError in a future version.  Use a timezone-naive object instead.\n",
      "  serie = y_index[start:end].copy()\n",
      "/tmp/ipykernel_29203/1153396954.py:19: FutureWarning: Indexing a timezone-naive DatetimeIndex with a timezone-aware datetime is deprecated and will raise KeyError in a future version.  Use a timezone-naive object instead.\n",
      "  serie = y_index[start:end].copy()\n",
      "/tmp/ipykernel_29203/1153396954.py:19: FutureWarning: Indexing a timezone-naive DatetimeIndex with a timezone-aware datetime is deprecated and will raise KeyError in a future version.  Use a timezone-naive object instead.\n",
      "  serie = y_index[start:end].copy()\n",
      "/tmp/ipykernel_29203/1153396954.py:19: FutureWarning: Indexing a timezone-naive DatetimeIndex with a timezone-aware datetime is deprecated and will raise KeyError in a future version.  Use a timezone-naive object instead.\n",
      "  serie = y_index[start:end].copy()\n",
      "/tmp/ipykernel_29203/1153396954.py:19: FutureWarning: Indexing a timezone-naive DatetimeIndex with a timezone-aware datetime is deprecated and will raise KeyError in a future version.  Use a timezone-naive object instead.\n",
      "  serie = y_index[start:end].copy()\n"
     ]
    },
    {
     "name": "stdout",
     "output_type": "stream",
     "text": [
      "99\r"
     ]
    },
    {
     "name": "stderr",
     "output_type": "stream",
     "text": [
      "/tmp/ipykernel_29203/1153396954.py:19: FutureWarning: Indexing a timezone-naive DatetimeIndex with a timezone-aware datetime is deprecated and will raise KeyError in a future version.  Use a timezone-naive object instead.\n",
      "  serie = y_index[start:end].copy()\n"
     ]
    },
    {
     "name": "stdout",
     "output_type": "stream",
     "text": [
      "100\r"
     ]
    },
    {
     "name": "stderr",
     "output_type": "stream",
     "text": [
      "/tmp/ipykernel_29203/1153396954.py:19: FutureWarning: Indexing a timezone-naive DatetimeIndex with a timezone-aware datetime is deprecated and will raise KeyError in a future version.  Use a timezone-naive object instead.\n",
      "  serie = y_index[start:end].copy()\n",
      "/tmp/ipykernel_29203/1153396954.py:19: FutureWarning: Indexing a timezone-naive DatetimeIndex with a timezone-aware datetime is deprecated and will raise KeyError in a future version.  Use a timezone-naive object instead.\n",
      "  serie = y_index[start:end].copy()\n",
      "/tmp/ipykernel_29203/1153396954.py:19: FutureWarning: Indexing a timezone-naive DatetimeIndex with a timezone-aware datetime is deprecated and will raise KeyError in a future version.  Use a timezone-naive object instead.\n",
      "  serie = y_index[start:end].copy()\n"
     ]
    },
    {
     "name": "stdout",
     "output_type": "stream",
     "text": [
      "103\r"
     ]
    },
    {
     "name": "stderr",
     "output_type": "stream",
     "text": [
      "/tmp/ipykernel_29203/1153396954.py:19: FutureWarning: Indexing a timezone-naive DatetimeIndex with a timezone-aware datetime is deprecated and will raise KeyError in a future version.  Use a timezone-naive object instead.\n",
      "  serie = y_index[start:end].copy()\n",
      "/tmp/ipykernel_29203/1153396954.py:19: FutureWarning: Indexing a timezone-naive DatetimeIndex with a timezone-aware datetime is deprecated and will raise KeyError in a future version.  Use a timezone-naive object instead.\n",
      "  serie = y_index[start:end].copy()\n"
     ]
    },
    {
     "name": "stdout",
     "output_type": "stream",
     "text": [
      "105\r"
     ]
    },
    {
     "name": "stderr",
     "output_type": "stream",
     "text": [
      "/tmp/ipykernel_29203/1153396954.py:19: FutureWarning: Indexing a timezone-naive DatetimeIndex with a timezone-aware datetime is deprecated and will raise KeyError in a future version.  Use a timezone-naive object instead.\n",
      "  serie = y_index[start:end].copy()\n",
      "/tmp/ipykernel_29203/1153396954.py:19: FutureWarning: Indexing a timezone-naive DatetimeIndex with a timezone-aware datetime is deprecated and will raise KeyError in a future version.  Use a timezone-naive object instead.\n",
      "  serie = y_index[start:end].copy()\n",
      "/tmp/ipykernel_29203/1153396954.py:19: FutureWarning: Indexing a timezone-naive DatetimeIndex with a timezone-aware datetime is deprecated and will raise KeyError in a future version.  Use a timezone-naive object instead.\n",
      "  serie = y_index[start:end].copy()\n",
      "/tmp/ipykernel_29203/1153396954.py:19: FutureWarning: Indexing a timezone-naive DatetimeIndex with a timezone-aware datetime is deprecated and will raise KeyError in a future version.  Use a timezone-naive object instead.\n",
      "  serie = y_index[start:end].copy()\n",
      "/tmp/ipykernel_29203/1153396954.py:19: FutureWarning: Indexing a timezone-naive DatetimeIndex with a timezone-aware datetime is deprecated and will raise KeyError in a future version.  Use a timezone-naive object instead.\n",
      "  serie = y_index[start:end].copy()\n",
      "/tmp/ipykernel_29203/1153396954.py:19: FutureWarning: Indexing a timezone-naive DatetimeIndex with a timezone-aware datetime is deprecated and will raise KeyError in a future version.  Use a timezone-naive object instead.\n",
      "  serie = y_index[start:end].copy()\n"
     ]
    },
    {
     "name": "stdout",
     "output_type": "stream",
     "text": [
      "111\r"
     ]
    },
    {
     "name": "stderr",
     "output_type": "stream",
     "text": [
      "/tmp/ipykernel_29203/1153396954.py:19: FutureWarning: Indexing a timezone-naive DatetimeIndex with a timezone-aware datetime is deprecated and will raise KeyError in a future version.  Use a timezone-naive object instead.\n",
      "  serie = y_index[start:end].copy()\n",
      "/tmp/ipykernel_29203/1153396954.py:19: FutureWarning: Indexing a timezone-naive DatetimeIndex with a timezone-aware datetime is deprecated and will raise KeyError in a future version.  Use a timezone-naive object instead.\n",
      "  serie = y_index[start:end].copy()\n",
      "/tmp/ipykernel_29203/1153396954.py:19: FutureWarning: Indexing a timezone-naive DatetimeIndex with a timezone-aware datetime is deprecated and will raise KeyError in a future version.  Use a timezone-naive object instead.\n",
      "  serie = y_index[start:end].copy()\n",
      "/tmp/ipykernel_29203/1153396954.py:19: FutureWarning: Indexing a timezone-naive DatetimeIndex with a timezone-aware datetime is deprecated and will raise KeyError in a future version.  Use a timezone-naive object instead.\n",
      "  serie = y_index[start:end].copy()\n",
      "/tmp/ipykernel_29203/1153396954.py:19: FutureWarning: Indexing a timezone-naive DatetimeIndex with a timezone-aware datetime is deprecated and will raise KeyError in a future version.  Use a timezone-naive object instead.\n",
      "  serie = y_index[start:end].copy()\n"
     ]
    },
    {
     "name": "stdout",
     "output_type": "stream",
     "text": [
      "116\r"
     ]
    },
    {
     "name": "stderr",
     "output_type": "stream",
     "text": [
      "/tmp/ipykernel_29203/1153396954.py:19: FutureWarning: Indexing a timezone-naive DatetimeIndex with a timezone-aware datetime is deprecated and will raise KeyError in a future version.  Use a timezone-naive object instead.\n",
      "  serie = y_index[start:end].copy()\n"
     ]
    },
    {
     "name": "stdout",
     "output_type": "stream",
     "text": [
      "117\r"
     ]
    },
    {
     "name": "stderr",
     "output_type": "stream",
     "text": [
      "/tmp/ipykernel_29203/1153396954.py:19: FutureWarning: Indexing a timezone-naive DatetimeIndex with a timezone-aware datetime is deprecated and will raise KeyError in a future version.  Use a timezone-naive object instead.\n",
      "  serie = y_index[start:end].copy()\n",
      "/tmp/ipykernel_29203/1153396954.py:19: FutureWarning: Indexing a timezone-naive DatetimeIndex with a timezone-aware datetime is deprecated and will raise KeyError in a future version.  Use a timezone-naive object instead.\n",
      "  serie = y_index[start:end].copy()\n",
      "/tmp/ipykernel_29203/1153396954.py:19: FutureWarning: Indexing a timezone-naive DatetimeIndex with a timezone-aware datetime is deprecated and will raise KeyError in a future version.  Use a timezone-naive object instead.\n",
      "  serie = y_index[start:end].copy()\n",
      "/tmp/ipykernel_29203/1153396954.py:19: FutureWarning: Indexing a timezone-naive DatetimeIndex with a timezone-aware datetime is deprecated and will raise KeyError in a future version.  Use a timezone-naive object instead.\n",
      "  serie = y_index[start:end].copy()\n",
      "/tmp/ipykernel_29203/1153396954.py:19: FutureWarning: Indexing a timezone-naive DatetimeIndex with a timezone-aware datetime is deprecated and will raise KeyError in a future version.  Use a timezone-naive object instead.\n",
      "  serie = y_index[start:end].copy()\n"
     ]
    },
    {
     "name": "stdout",
     "output_type": "stream",
     "text": [
      "122\r"
     ]
    },
    {
     "name": "stderr",
     "output_type": "stream",
     "text": [
      "/tmp/ipykernel_29203/1153396954.py:19: FutureWarning: Indexing a timezone-naive DatetimeIndex with a timezone-aware datetime is deprecated and will raise KeyError in a future version.  Use a timezone-naive object instead.\n",
      "  serie = y_index[start:end].copy()\n"
     ]
    },
    {
     "name": "stdout",
     "output_type": "stream",
     "text": [
      "123\r"
     ]
    },
    {
     "name": "stderr",
     "output_type": "stream",
     "text": [
      "/tmp/ipykernel_29203/1153396954.py:19: FutureWarning: Indexing a timezone-naive DatetimeIndex with a timezone-aware datetime is deprecated and will raise KeyError in a future version.  Use a timezone-naive object instead.\n",
      "  serie = y_index[start:end].copy()\n"
     ]
    },
    {
     "name": "stdout",
     "output_type": "stream",
     "text": [
      "124\r"
     ]
    },
    {
     "name": "stderr",
     "output_type": "stream",
     "text": [
      "/tmp/ipykernel_29203/1153396954.py:19: FutureWarning: Indexing a timezone-naive DatetimeIndex with a timezone-aware datetime is deprecated and will raise KeyError in a future version.  Use a timezone-naive object instead.\n",
      "  serie = y_index[start:end].copy()\n",
      "/tmp/ipykernel_29203/1153396954.py:19: FutureWarning: Indexing a timezone-naive DatetimeIndex with a timezone-aware datetime is deprecated and will raise KeyError in a future version.  Use a timezone-naive object instead.\n",
      "  serie = y_index[start:end].copy()\n",
      "/tmp/ipykernel_29203/1153396954.py:19: FutureWarning: Indexing a timezone-naive DatetimeIndex with a timezone-aware datetime is deprecated and will raise KeyError in a future version.  Use a timezone-naive object instead.\n",
      "  serie = y_index[start:end].copy()\n"
     ]
    },
    {
     "name": "stdout",
     "output_type": "stream",
     "text": [
      "127\r"
     ]
    },
    {
     "name": "stderr",
     "output_type": "stream",
     "text": [
      "/tmp/ipykernel_29203/1153396954.py:19: FutureWarning: Indexing a timezone-naive DatetimeIndex with a timezone-aware datetime is deprecated and will raise KeyError in a future version.  Use a timezone-naive object instead.\n",
      "  serie = y_index[start:end].copy()\n",
      "/tmp/ipykernel_29203/1153396954.py:19: FutureWarning: Indexing a timezone-naive DatetimeIndex with a timezone-aware datetime is deprecated and will raise KeyError in a future version.  Use a timezone-naive object instead.\n",
      "  serie = y_index[start:end].copy()\n"
     ]
    },
    {
     "name": "stdout",
     "output_type": "stream",
     "text": [
      "129\r"
     ]
    },
    {
     "name": "stderr",
     "output_type": "stream",
     "text": [
      "/tmp/ipykernel_29203/1153396954.py:19: FutureWarning: Indexing a timezone-naive DatetimeIndex with a timezone-aware datetime is deprecated and will raise KeyError in a future version.  Use a timezone-naive object instead.\n",
      "  serie = y_index[start:end].copy()\n",
      "/tmp/ipykernel_29203/1153396954.py:19: FutureWarning: Indexing a timezone-naive DatetimeIndex with a timezone-aware datetime is deprecated and will raise KeyError in a future version.  Use a timezone-naive object instead.\n",
      "  serie = y_index[start:end].copy()\n",
      "/tmp/ipykernel_29203/1153396954.py:19: FutureWarning: Indexing a timezone-naive DatetimeIndex with a timezone-aware datetime is deprecated and will raise KeyError in a future version.  Use a timezone-naive object instead.\n",
      "  serie = y_index[start:end].copy()\n",
      "/tmp/ipykernel_29203/1153396954.py:19: FutureWarning: Indexing a timezone-naive DatetimeIndex with a timezone-aware datetime is deprecated and will raise KeyError in a future version.  Use a timezone-naive object instead.\n",
      "  serie = y_index[start:end].copy()\n",
      "/tmp/ipykernel_29203/1153396954.py:19: FutureWarning: Indexing a timezone-naive DatetimeIndex with a timezone-aware datetime is deprecated and will raise KeyError in a future version.  Use a timezone-naive object instead.\n",
      "  serie = y_index[start:end].copy()\n",
      "/tmp/ipykernel_29203/1153396954.py:19: FutureWarning: Indexing a timezone-naive DatetimeIndex with a timezone-aware datetime is deprecated and will raise KeyError in a future version.  Use a timezone-naive object instead.\n",
      "  serie = y_index[start:end].copy()\n"
     ]
    },
    {
     "name": "stdout",
     "output_type": "stream",
     "text": [
      "135\r"
     ]
    },
    {
     "name": "stderr",
     "output_type": "stream",
     "text": [
      "/tmp/ipykernel_29203/1153396954.py:19: FutureWarning: Indexing a timezone-naive DatetimeIndex with a timezone-aware datetime is deprecated and will raise KeyError in a future version.  Use a timezone-naive object instead.\n",
      "  serie = y_index[start:end].copy()\n",
      "/tmp/ipykernel_29203/1153396954.py:19: FutureWarning: Indexing a timezone-naive DatetimeIndex with a timezone-aware datetime is deprecated and will raise KeyError in a future version.  Use a timezone-naive object instead.\n",
      "  serie = y_index[start:end].copy()\n",
      "/tmp/ipykernel_29203/1153396954.py:19: FutureWarning: Indexing a timezone-naive DatetimeIndex with a timezone-aware datetime is deprecated and will raise KeyError in a future version.  Use a timezone-naive object instead.\n",
      "  serie = y_index[start:end].copy()\n",
      "/tmp/ipykernel_29203/1153396954.py:19: FutureWarning: Indexing a timezone-naive DatetimeIndex with a timezone-aware datetime is deprecated and will raise KeyError in a future version.  Use a timezone-naive object instead.\n",
      "  serie = y_index[start:end].copy()\n",
      "/tmp/ipykernel_29203/1153396954.py:19: FutureWarning: Indexing a timezone-naive DatetimeIndex with a timezone-aware datetime is deprecated and will raise KeyError in a future version.  Use a timezone-naive object instead.\n",
      "  serie = y_index[start:end].copy()\n",
      "/tmp/ipykernel_29203/1153396954.py:19: FutureWarning: Indexing a timezone-naive DatetimeIndex with a timezone-aware datetime is deprecated and will raise KeyError in a future version.  Use a timezone-naive object instead.\n",
      "  serie = y_index[start:end].copy()\n"
     ]
    },
    {
     "name": "stdout",
     "output_type": "stream",
     "text": [
      "141\r"
     ]
    },
    {
     "name": "stderr",
     "output_type": "stream",
     "text": [
      "/tmp/ipykernel_29203/1153396954.py:19: FutureWarning: Indexing a timezone-naive DatetimeIndex with a timezone-aware datetime is deprecated and will raise KeyError in a future version.  Use a timezone-naive object instead.\n",
      "  serie = y_index[start:end].copy()\n",
      "/tmp/ipykernel_29203/1153396954.py:19: FutureWarning: Indexing a timezone-naive DatetimeIndex with a timezone-aware datetime is deprecated and will raise KeyError in a future version.  Use a timezone-naive object instead.\n",
      "  serie = y_index[start:end].copy()\n"
     ]
    },
    {
     "name": "stdout",
     "output_type": "stream",
     "text": [
      "143\r"
     ]
    },
    {
     "name": "stderr",
     "output_type": "stream",
     "text": [
      "/tmp/ipykernel_29203/1153396954.py:19: FutureWarning: Indexing a timezone-naive DatetimeIndex with a timezone-aware datetime is deprecated and will raise KeyError in a future version.  Use a timezone-naive object instead.\n",
      "  serie = y_index[start:end].copy()\n",
      "/tmp/ipykernel_29203/1153396954.py:19: FutureWarning: Indexing a timezone-naive DatetimeIndex with a timezone-aware datetime is deprecated and will raise KeyError in a future version.  Use a timezone-naive object instead.\n",
      "  serie = y_index[start:end].copy()\n",
      "/tmp/ipykernel_29203/1153396954.py:19: FutureWarning: Indexing a timezone-naive DatetimeIndex with a timezone-aware datetime is deprecated and will raise KeyError in a future version.  Use a timezone-naive object instead.\n",
      "  serie = y_index[start:end].copy()\n",
      "/tmp/ipykernel_29203/1153396954.py:19: FutureWarning: Indexing a timezone-naive DatetimeIndex with a timezone-aware datetime is deprecated and will raise KeyError in a future version.  Use a timezone-naive object instead.\n",
      "  serie = y_index[start:end].copy()\n",
      "/tmp/ipykernel_29203/1153396954.py:19: FutureWarning: Indexing a timezone-naive DatetimeIndex with a timezone-aware datetime is deprecated and will raise KeyError in a future version.  Use a timezone-naive object instead.\n",
      "  serie = y_index[start:end].copy()\n"
     ]
    },
    {
     "name": "stdout",
     "output_type": "stream",
     "text": [
      "148\r"
     ]
    },
    {
     "name": "stderr",
     "output_type": "stream",
     "text": [
      "/tmp/ipykernel_29203/1153396954.py:19: FutureWarning: Indexing a timezone-naive DatetimeIndex with a timezone-aware datetime is deprecated and will raise KeyError in a future version.  Use a timezone-naive object instead.\n",
      "  serie = y_index[start:end].copy()\n"
     ]
    },
    {
     "name": "stdout",
     "output_type": "stream",
     "text": [
      "149\r"
     ]
    },
    {
     "name": "stderr",
     "output_type": "stream",
     "text": [
      "/tmp/ipykernel_29203/1153396954.py:19: FutureWarning: Indexing a timezone-naive DatetimeIndex with a timezone-aware datetime is deprecated and will raise KeyError in a future version.  Use a timezone-naive object instead.\n",
      "  serie = y_index[start:end].copy()\n",
      "/tmp/ipykernel_29203/1153396954.py:19: FutureWarning: Indexing a timezone-naive DatetimeIndex with a timezone-aware datetime is deprecated and will raise KeyError in a future version.  Use a timezone-naive object instead.\n",
      "  serie = y_index[start:end].copy()\n",
      "/tmp/ipykernel_29203/1153396954.py:19: FutureWarning: Indexing a timezone-naive DatetimeIndex with a timezone-aware datetime is deprecated and will raise KeyError in a future version.  Use a timezone-naive object instead.\n",
      "  serie = y_index[start:end].copy()\n"
     ]
    },
    {
     "name": "stdout",
     "output_type": "stream",
     "text": [
      "152\r"
     ]
    },
    {
     "name": "stderr",
     "output_type": "stream",
     "text": [
      "/tmp/ipykernel_29203/1153396954.py:19: FutureWarning: Indexing a timezone-naive DatetimeIndex with a timezone-aware datetime is deprecated and will raise KeyError in a future version.  Use a timezone-naive object instead.\n",
      "  serie = y_index[start:end].copy()\n",
      "/tmp/ipykernel_29203/1153396954.py:19: FutureWarning: Indexing a timezone-naive DatetimeIndex with a timezone-aware datetime is deprecated and will raise KeyError in a future version.  Use a timezone-naive object instead.\n",
      "  serie = y_index[start:end].copy()\n",
      "/tmp/ipykernel_29203/1153396954.py:19: FutureWarning: Indexing a timezone-naive DatetimeIndex with a timezone-aware datetime is deprecated and will raise KeyError in a future version.  Use a timezone-naive object instead.\n",
      "  serie = y_index[start:end].copy()\n",
      "/tmp/ipykernel_29203/1153396954.py:19: FutureWarning: Indexing a timezone-naive DatetimeIndex with a timezone-aware datetime is deprecated and will raise KeyError in a future version.  Use a timezone-naive object instead.\n",
      "  serie = y_index[start:end].copy()\n",
      "/tmp/ipykernel_29203/1153396954.py:19: FutureWarning: Indexing a timezone-naive DatetimeIndex with a timezone-aware datetime is deprecated and will raise KeyError in a future version.  Use a timezone-naive object instead.\n",
      "  serie = y_index[start:end].copy()\n",
      "/tmp/ipykernel_29203/1153396954.py:19: FutureWarning: Indexing a timezone-naive DatetimeIndex with a timezone-aware datetime is deprecated and will raise KeyError in a future version.  Use a timezone-naive object instead.\n",
      "  serie = y_index[start:end].copy()\n",
      "/tmp/ipykernel_29203/1153396954.py:19: FutureWarning: Indexing a timezone-naive DatetimeIndex with a timezone-aware datetime is deprecated and will raise KeyError in a future version.  Use a timezone-naive object instead.\n",
      "  serie = y_index[start:end].copy()\n"
     ]
    },
    {
     "name": "stdout",
     "output_type": "stream",
     "text": [
      "159\r"
     ]
    },
    {
     "name": "stderr",
     "output_type": "stream",
     "text": [
      "/tmp/ipykernel_29203/1153396954.py:19: FutureWarning: Indexing a timezone-naive DatetimeIndex with a timezone-aware datetime is deprecated and will raise KeyError in a future version.  Use a timezone-naive object instead.\n",
      "  serie = y_index[start:end].copy()\n",
      "/tmp/ipykernel_29203/1153396954.py:19: FutureWarning: Indexing a timezone-naive DatetimeIndex with a timezone-aware datetime is deprecated and will raise KeyError in a future version.  Use a timezone-naive object instead.\n",
      "  serie = y_index[start:end].copy()\n",
      "/tmp/ipykernel_29203/1153396954.py:19: FutureWarning: Indexing a timezone-naive DatetimeIndex with a timezone-aware datetime is deprecated and will raise KeyError in a future version.  Use a timezone-naive object instead.\n",
      "  serie = y_index[start:end].copy()\n"
     ]
    },
    {
     "name": "stdout",
     "output_type": "stream",
     "text": [
      "162\r"
     ]
    },
    {
     "name": "stderr",
     "output_type": "stream",
     "text": [
      "/tmp/ipykernel_29203/1153396954.py:19: FutureWarning: Indexing a timezone-naive DatetimeIndex with a timezone-aware datetime is deprecated and will raise KeyError in a future version.  Use a timezone-naive object instead.\n",
      "  serie = y_index[start:end].copy()\n",
      "/tmp/ipykernel_29203/1153396954.py:19: FutureWarning: Indexing a timezone-naive DatetimeIndex with a timezone-aware datetime is deprecated and will raise KeyError in a future version.  Use a timezone-naive object instead.\n",
      "  serie = y_index[start:end].copy()\n"
     ]
    },
    {
     "name": "stdout",
     "output_type": "stream",
     "text": [
      "164\r"
     ]
    },
    {
     "name": "stderr",
     "output_type": "stream",
     "text": [
      "/tmp/ipykernel_29203/1153396954.py:19: FutureWarning: Indexing a timezone-naive DatetimeIndex with a timezone-aware datetime is deprecated and will raise KeyError in a future version.  Use a timezone-naive object instead.\n",
      "  serie = y_index[start:end].copy()\n",
      "/tmp/ipykernel_29203/1153396954.py:19: FutureWarning: Indexing a timezone-naive DatetimeIndex with a timezone-aware datetime is deprecated and will raise KeyError in a future version.  Use a timezone-naive object instead.\n",
      "  serie = y_index[start:end].copy()\n"
     ]
    },
    {
     "name": "stdout",
     "output_type": "stream",
     "text": [
      "166\r"
     ]
    },
    {
     "name": "stderr",
     "output_type": "stream",
     "text": [
      "/tmp/ipykernel_29203/1153396954.py:19: FutureWarning: Indexing a timezone-naive DatetimeIndex with a timezone-aware datetime is deprecated and will raise KeyError in a future version.  Use a timezone-naive object instead.\n",
      "  serie = y_index[start:end].copy()\n",
      "/tmp/ipykernel_29203/1153396954.py:19: FutureWarning: Indexing a timezone-naive DatetimeIndex with a timezone-aware datetime is deprecated and will raise KeyError in a future version.  Use a timezone-naive object instead.\n",
      "  serie = y_index[start:end].copy()\n",
      "/tmp/ipykernel_29203/1153396954.py:19: FutureWarning: Indexing a timezone-naive DatetimeIndex with a timezone-aware datetime is deprecated and will raise KeyError in a future version.  Use a timezone-naive object instead.\n",
      "  serie = y_index[start:end].copy()\n"
     ]
    },
    {
     "name": "stdout",
     "output_type": "stream",
     "text": [
      "169\r"
     ]
    },
    {
     "name": "stderr",
     "output_type": "stream",
     "text": [
      "/tmp/ipykernel_29203/1153396954.py:19: FutureWarning: Indexing a timezone-naive DatetimeIndex with a timezone-aware datetime is deprecated and will raise KeyError in a future version.  Use a timezone-naive object instead.\n",
      "  serie = y_index[start:end].copy()\n"
     ]
    },
    {
     "name": "stdout",
     "output_type": "stream",
     "text": [
      "170\r"
     ]
    },
    {
     "name": "stderr",
     "output_type": "stream",
     "text": [
      "/tmp/ipykernel_29203/1153396954.py:19: FutureWarning: Indexing a timezone-naive DatetimeIndex with a timezone-aware datetime is deprecated and will raise KeyError in a future version.  Use a timezone-naive object instead.\n",
      "  serie = y_index[start:end].copy()\n",
      "/tmp/ipykernel_29203/1153396954.py:19: FutureWarning: Indexing a timezone-naive DatetimeIndex with a timezone-aware datetime is deprecated and will raise KeyError in a future version.  Use a timezone-naive object instead.\n",
      "  serie = y_index[start:end].copy()\n",
      "/tmp/ipykernel_29203/1153396954.py:19: FutureWarning: Indexing a timezone-naive DatetimeIndex with a timezone-aware datetime is deprecated and will raise KeyError in a future version.  Use a timezone-naive object instead.\n",
      "  serie = y_index[start:end].copy()\n"
     ]
    },
    {
     "name": "stdout",
     "output_type": "stream",
     "text": [
      "173\r"
     ]
    },
    {
     "name": "stderr",
     "output_type": "stream",
     "text": [
      "/tmp/ipykernel_29203/1153396954.py:19: FutureWarning: Indexing a timezone-naive DatetimeIndex with a timezone-aware datetime is deprecated and will raise KeyError in a future version.  Use a timezone-naive object instead.\n",
      "  serie = y_index[start:end].copy()\n",
      "/tmp/ipykernel_29203/1153396954.py:19: FutureWarning: Indexing a timezone-naive DatetimeIndex with a timezone-aware datetime is deprecated and will raise KeyError in a future version.  Use a timezone-naive object instead.\n",
      "  serie = y_index[start:end].copy()\n"
     ]
    },
    {
     "name": "stdout",
     "output_type": "stream",
     "text": [
      "175\r"
     ]
    },
    {
     "name": "stderr",
     "output_type": "stream",
     "text": [
      "/tmp/ipykernel_29203/1153396954.py:19: FutureWarning: Indexing a timezone-naive DatetimeIndex with a timezone-aware datetime is deprecated and will raise KeyError in a future version.  Use a timezone-naive object instead.\n",
      "  serie = y_index[start:end].copy()\n"
     ]
    },
    {
     "name": "stdout",
     "output_type": "stream",
     "text": [
      "176\r"
     ]
    },
    {
     "name": "stderr",
     "output_type": "stream",
     "text": [
      "/tmp/ipykernel_29203/1153396954.py:19: FutureWarning: Indexing a timezone-naive DatetimeIndex with a timezone-aware datetime is deprecated and will raise KeyError in a future version.  Use a timezone-naive object instead.\n",
      "  serie = y_index[start:end].copy()\n",
      "/tmp/ipykernel_29203/1153396954.py:19: FutureWarning: Indexing a timezone-naive DatetimeIndex with a timezone-aware datetime is deprecated and will raise KeyError in a future version.  Use a timezone-naive object instead.\n",
      "  serie = y_index[start:end].copy()\n",
      "/tmp/ipykernel_29203/1153396954.py:19: FutureWarning: Indexing a timezone-naive DatetimeIndex with a timezone-aware datetime is deprecated and will raise KeyError in a future version.  Use a timezone-naive object instead.\n",
      "  serie = y_index[start:end].copy()\n",
      "/tmp/ipykernel_29203/1153396954.py:19: FutureWarning: Indexing a timezone-naive DatetimeIndex with a timezone-aware datetime is deprecated and will raise KeyError in a future version.  Use a timezone-naive object instead.\n",
      "  serie = y_index[start:end].copy()\n",
      "/tmp/ipykernel_29203/1153396954.py:19: FutureWarning: Indexing a timezone-naive DatetimeIndex with a timezone-aware datetime is deprecated and will raise KeyError in a future version.  Use a timezone-naive object instead.\n",
      "  serie = y_index[start:end].copy()\n",
      "/tmp/ipykernel_29203/1153396954.py:19: FutureWarning: Indexing a timezone-naive DatetimeIndex with a timezone-aware datetime is deprecated and will raise KeyError in a future version.  Use a timezone-naive object instead.\n",
      "  serie = y_index[start:end].copy()\n"
     ]
    },
    {
     "name": "stdout",
     "output_type": "stream",
     "text": [
      "183\r"
     ]
    },
    {
     "name": "stderr",
     "output_type": "stream",
     "text": [
      "/tmp/ipykernel_29203/1153396954.py:19: FutureWarning: Indexing a timezone-naive DatetimeIndex with a timezone-aware datetime is deprecated and will raise KeyError in a future version.  Use a timezone-naive object instead.\n",
      "  serie = y_index[start:end].copy()\n",
      "/tmp/ipykernel_29203/1153396954.py:19: FutureWarning: Indexing a timezone-naive DatetimeIndex with a timezone-aware datetime is deprecated and will raise KeyError in a future version.  Use a timezone-naive object instead.\n",
      "  serie = y_index[start:end].copy()\n",
      "/tmp/ipykernel_29203/1153396954.py:19: FutureWarning: Indexing a timezone-naive DatetimeIndex with a timezone-aware datetime is deprecated and will raise KeyError in a future version.  Use a timezone-naive object instead.\n",
      "  serie = y_index[start:end].copy()\n",
      "/tmp/ipykernel_29203/1153396954.py:19: FutureWarning: Indexing a timezone-naive DatetimeIndex with a timezone-aware datetime is deprecated and will raise KeyError in a future version.  Use a timezone-naive object instead.\n",
      "  serie = y_index[start:end].copy()\n"
     ]
    },
    {
     "name": "stdout",
     "output_type": "stream",
     "text": [
      "186\r"
     ]
    },
    {
     "name": "stderr",
     "output_type": "stream",
     "text": [
      "/tmp/ipykernel_29203/1153396954.py:19: FutureWarning: Indexing a timezone-naive DatetimeIndex with a timezone-aware datetime is deprecated and will raise KeyError in a future version.  Use a timezone-naive object instead.\n",
      "  serie = y_index[start:end].copy()\n",
      "/tmp/ipykernel_29203/1153396954.py:19: FutureWarning: Indexing a timezone-naive DatetimeIndex with a timezone-aware datetime is deprecated and will raise KeyError in a future version.  Use a timezone-naive object instead.\n",
      "  serie = y_index[start:end].copy()\n"
     ]
    },
    {
     "name": "stdout",
     "output_type": "stream",
     "text": [
      "188\r"
     ]
    },
    {
     "name": "stderr",
     "output_type": "stream",
     "text": [
      "/tmp/ipykernel_29203/1153396954.py:19: FutureWarning: Indexing a timezone-naive DatetimeIndex with a timezone-aware datetime is deprecated and will raise KeyError in a future version.  Use a timezone-naive object instead.\n",
      "  serie = y_index[start:end].copy()\n",
      "/tmp/ipykernel_29203/1153396954.py:19: FutureWarning: Indexing a timezone-naive DatetimeIndex with a timezone-aware datetime is deprecated and will raise KeyError in a future version.  Use a timezone-naive object instead.\n",
      "  serie = y_index[start:end].copy()\n",
      "/tmp/ipykernel_29203/1153396954.py:19: FutureWarning: Indexing a timezone-naive DatetimeIndex with a timezone-aware datetime is deprecated and will raise KeyError in a future version.  Use a timezone-naive object instead.\n",
      "  serie = y_index[start:end].copy()\n",
      "/tmp/ipykernel_29203/1153396954.py:19: FutureWarning: Indexing a timezone-naive DatetimeIndex with a timezone-aware datetime is deprecated and will raise KeyError in a future version.  Use a timezone-naive object instead.\n",
      "  serie = y_index[start:end].copy()\n",
      "/tmp/ipykernel_29203/1153396954.py:19: FutureWarning: Indexing a timezone-naive DatetimeIndex with a timezone-aware datetime is deprecated and will raise KeyError in a future version.  Use a timezone-naive object instead.\n",
      "  serie = y_index[start:end].copy()\n",
      "/tmp/ipykernel_29203/1153396954.py:19: FutureWarning: Indexing a timezone-naive DatetimeIndex with a timezone-aware datetime is deprecated and will raise KeyError in a future version.  Use a timezone-naive object instead.\n",
      "  serie = y_index[start:end].copy()\n"
     ]
    },
    {
     "name": "stdout",
     "output_type": "stream",
     "text": [
      "194\r"
     ]
    },
    {
     "name": "stderr",
     "output_type": "stream",
     "text": [
      "/tmp/ipykernel_29203/1153396954.py:19: FutureWarning: Indexing a timezone-naive DatetimeIndex with a timezone-aware datetime is deprecated and will raise KeyError in a future version.  Use a timezone-naive object instead.\n",
      "  serie = y_index[start:end].copy()\n",
      "/tmp/ipykernel_29203/1153396954.py:19: FutureWarning: Indexing a timezone-naive DatetimeIndex with a timezone-aware datetime is deprecated and will raise KeyError in a future version.  Use a timezone-naive object instead.\n",
      "  serie = y_index[start:end].copy()\n",
      "/tmp/ipykernel_29203/1153396954.py:19: FutureWarning: Indexing a timezone-naive DatetimeIndex with a timezone-aware datetime is deprecated and will raise KeyError in a future version.  Use a timezone-naive object instead.\n",
      "  serie = y_index[start:end].copy()\n"
     ]
    },
    {
     "name": "stdout",
     "output_type": "stream",
     "text": [
      "197\r"
     ]
    },
    {
     "name": "stderr",
     "output_type": "stream",
     "text": [
      "/tmp/ipykernel_29203/1153396954.py:19: FutureWarning: Indexing a timezone-naive DatetimeIndex with a timezone-aware datetime is deprecated and will raise KeyError in a future version.  Use a timezone-naive object instead.\n",
      "  serie = y_index[start:end].copy()\n",
      "/tmp/ipykernel_29203/1153396954.py:19: FutureWarning: Indexing a timezone-naive DatetimeIndex with a timezone-aware datetime is deprecated and will raise KeyError in a future version.  Use a timezone-naive object instead.\n",
      "  serie = y_index[start:end].copy()\n",
      "/tmp/ipykernel_29203/1153396954.py:19: FutureWarning: Indexing a timezone-naive DatetimeIndex with a timezone-aware datetime is deprecated and will raise KeyError in a future version.  Use a timezone-naive object instead.\n",
      "  serie = y_index[start:end].copy()\n"
     ]
    },
    {
     "name": "stdout",
     "output_type": "stream",
     "text": [
      "200\r"
     ]
    },
    {
     "name": "stderr",
     "output_type": "stream",
     "text": [
      "/tmp/ipykernel_29203/1153396954.py:19: FutureWarning: Indexing a timezone-naive DatetimeIndex with a timezone-aware datetime is deprecated and will raise KeyError in a future version.  Use a timezone-naive object instead.\n",
      "  serie = y_index[start:end].copy()\n",
      "/tmp/ipykernel_29203/1153396954.py:19: FutureWarning: Indexing a timezone-naive DatetimeIndex with a timezone-aware datetime is deprecated and will raise KeyError in a future version.  Use a timezone-naive object instead.\n",
      "  serie = y_index[start:end].copy()\n"
     ]
    },
    {
     "name": "stdout",
     "output_type": "stream",
     "text": [
      "202\r"
     ]
    },
    {
     "name": "stderr",
     "output_type": "stream",
     "text": [
      "/tmp/ipykernel_29203/1153396954.py:19: FutureWarning: Indexing a timezone-naive DatetimeIndex with a timezone-aware datetime is deprecated and will raise KeyError in a future version.  Use a timezone-naive object instead.\n",
      "  serie = y_index[start:end].copy()\n"
     ]
    },
    {
     "name": "stdout",
     "output_type": "stream",
     "text": [
      "203\r"
     ]
    },
    {
     "name": "stderr",
     "output_type": "stream",
     "text": [
      "/tmp/ipykernel_29203/1153396954.py:19: FutureWarning: Indexing a timezone-naive DatetimeIndex with a timezone-aware datetime is deprecated and will raise KeyError in a future version.  Use a timezone-naive object instead.\n",
      "  serie = y_index[start:end].copy()\n",
      "/tmp/ipykernel_29203/1153396954.py:19: FutureWarning: Indexing a timezone-naive DatetimeIndex with a timezone-aware datetime is deprecated and will raise KeyError in a future version.  Use a timezone-naive object instead.\n",
      "  serie = y_index[start:end].copy()\n",
      "/tmp/ipykernel_29203/1153396954.py:19: FutureWarning: Indexing a timezone-naive DatetimeIndex with a timezone-aware datetime is deprecated and will raise KeyError in a future version.  Use a timezone-naive object instead.\n",
      "  serie = y_index[start:end].copy()\n",
      "/tmp/ipykernel_29203/1153396954.py:19: FutureWarning: Indexing a timezone-naive DatetimeIndex with a timezone-aware datetime is deprecated and will raise KeyError in a future version.  Use a timezone-naive object instead.\n",
      "  serie = y_index[start:end].copy()\n",
      "/tmp/ipykernel_29203/1153396954.py:19: FutureWarning: Indexing a timezone-naive DatetimeIndex with a timezone-aware datetime is deprecated and will raise KeyError in a future version.  Use a timezone-naive object instead.\n",
      "  serie = y_index[start:end].copy()\n",
      "/tmp/ipykernel_29203/1153396954.py:19: FutureWarning: Indexing a timezone-naive DatetimeIndex with a timezone-aware datetime is deprecated and will raise KeyError in a future version.  Use a timezone-naive object instead.\n",
      "  serie = y_index[start:end].copy()\n"
     ]
    },
    {
     "name": "stdout",
     "output_type": "stream",
     "text": [
      "209\r"
     ]
    },
    {
     "name": "stderr",
     "output_type": "stream",
     "text": [
      "/tmp/ipykernel_29203/1153396954.py:19: FutureWarning: Indexing a timezone-naive DatetimeIndex with a timezone-aware datetime is deprecated and will raise KeyError in a future version.  Use a timezone-naive object instead.\n",
      "  serie = y_index[start:end].copy()\n",
      "/tmp/ipykernel_29203/1153396954.py:19: FutureWarning: Indexing a timezone-naive DatetimeIndex with a timezone-aware datetime is deprecated and will raise KeyError in a future version.  Use a timezone-naive object instead.\n",
      "  serie = y_index[start:end].copy()\n"
     ]
    },
    {
     "name": "stdout",
     "output_type": "stream",
     "text": [
      "211\r"
     ]
    },
    {
     "name": "stderr",
     "output_type": "stream",
     "text": [
      "/tmp/ipykernel_29203/1153396954.py:19: FutureWarning: Indexing a timezone-naive DatetimeIndex with a timezone-aware datetime is deprecated and will raise KeyError in a future version.  Use a timezone-naive object instead.\n",
      "  serie = y_index[start:end].copy()\n"
     ]
    },
    {
     "name": "stdout",
     "output_type": "stream",
     "text": [
      "212\r"
     ]
    },
    {
     "name": "stderr",
     "output_type": "stream",
     "text": [
      "/tmp/ipykernel_29203/1153396954.py:19: FutureWarning: Indexing a timezone-naive DatetimeIndex with a timezone-aware datetime is deprecated and will raise KeyError in a future version.  Use a timezone-naive object instead.\n",
      "  serie = y_index[start:end].copy()\n"
     ]
    },
    {
     "name": "stdout",
     "output_type": "stream",
     "text": [
      "213\r"
     ]
    },
    {
     "name": "stderr",
     "output_type": "stream",
     "text": [
      "/tmp/ipykernel_29203/1153396954.py:19: FutureWarning: Indexing a timezone-naive DatetimeIndex with a timezone-aware datetime is deprecated and will raise KeyError in a future version.  Use a timezone-naive object instead.\n",
      "  serie = y_index[start:end].copy()\n",
      "/tmp/ipykernel_29203/1153396954.py:19: FutureWarning: Indexing a timezone-naive DatetimeIndex with a timezone-aware datetime is deprecated and will raise KeyError in a future version.  Use a timezone-naive object instead.\n",
      "  serie = y_index[start:end].copy()\n"
     ]
    },
    {
     "name": "stdout",
     "output_type": "stream",
     "text": [
      "215\r"
     ]
    },
    {
     "name": "stderr",
     "output_type": "stream",
     "text": [
      "/tmp/ipykernel_29203/1153396954.py:19: FutureWarning: Indexing a timezone-naive DatetimeIndex with a timezone-aware datetime is deprecated and will raise KeyError in a future version.  Use a timezone-naive object instead.\n",
      "  serie = y_index[start:end].copy()\n",
      "/tmp/ipykernel_29203/1153396954.py:19: FutureWarning: Indexing a timezone-naive DatetimeIndex with a timezone-aware datetime is deprecated and will raise KeyError in a future version.  Use a timezone-naive object instead.\n",
      "  serie = y_index[start:end].copy()\n"
     ]
    },
    {
     "name": "stdout",
     "output_type": "stream",
     "text": [
      "217\r"
     ]
    },
    {
     "name": "stderr",
     "output_type": "stream",
     "text": [
      "/tmp/ipykernel_29203/1153396954.py:19: FutureWarning: Indexing a timezone-naive DatetimeIndex with a timezone-aware datetime is deprecated and will raise KeyError in a future version.  Use a timezone-naive object instead.\n",
      "  serie = y_index[start:end].copy()\n",
      "/tmp/ipykernel_29203/1153396954.py:19: FutureWarning: Indexing a timezone-naive DatetimeIndex with a timezone-aware datetime is deprecated and will raise KeyError in a future version.  Use a timezone-naive object instead.\n",
      "  serie = y_index[start:end].copy()\n",
      "/tmp/ipykernel_29203/1153396954.py:19: FutureWarning: Indexing a timezone-naive DatetimeIndex with a timezone-aware datetime is deprecated and will raise KeyError in a future version.  Use a timezone-naive object instead.\n",
      "  serie = y_index[start:end].copy()\n",
      "/tmp/ipykernel_29203/1153396954.py:19: FutureWarning: Indexing a timezone-naive DatetimeIndex with a timezone-aware datetime is deprecated and will raise KeyError in a future version.  Use a timezone-naive object instead.\n",
      "  serie = y_index[start:end].copy()\n",
      "/tmp/ipykernel_29203/1153396954.py:19: FutureWarning: Indexing a timezone-naive DatetimeIndex with a timezone-aware datetime is deprecated and will raise KeyError in a future version.  Use a timezone-naive object instead.\n",
      "  serie = y_index[start:end].copy()\n",
      "/tmp/ipykernel_29203/1153396954.py:19: FutureWarning: Indexing a timezone-naive DatetimeIndex with a timezone-aware datetime is deprecated and will raise KeyError in a future version.  Use a timezone-naive object instead.\n",
      "  serie = y_index[start:end].copy()\n"
     ]
    },
    {
     "name": "stdout",
     "output_type": "stream",
     "text": [
      "223\r"
     ]
    },
    {
     "name": "stderr",
     "output_type": "stream",
     "text": [
      "/tmp/ipykernel_29203/1153396954.py:19: FutureWarning: Indexing a timezone-naive DatetimeIndex with a timezone-aware datetime is deprecated and will raise KeyError in a future version.  Use a timezone-naive object instead.\n",
      "  serie = y_index[start:end].copy()\n",
      "/tmp/ipykernel_29203/1153396954.py:19: FutureWarning: Indexing a timezone-naive DatetimeIndex with a timezone-aware datetime is deprecated and will raise KeyError in a future version.  Use a timezone-naive object instead.\n",
      "  serie = y_index[start:end].copy()\n",
      "/tmp/ipykernel_29203/1153396954.py:19: FutureWarning: Indexing a timezone-naive DatetimeIndex with a timezone-aware datetime is deprecated and will raise KeyError in a future version.  Use a timezone-naive object instead.\n",
      "  serie = y_index[start:end].copy()\n"
     ]
    },
    {
     "name": "stdout",
     "output_type": "stream",
     "text": [
      "226\r"
     ]
    },
    {
     "name": "stderr",
     "output_type": "stream",
     "text": [
      "/tmp/ipykernel_29203/1153396954.py:19: FutureWarning: Indexing a timezone-naive DatetimeIndex with a timezone-aware datetime is deprecated and will raise KeyError in a future version.  Use a timezone-naive object instead.\n",
      "  serie = y_index[start:end].copy()\n",
      "/tmp/ipykernel_29203/1153396954.py:19: FutureWarning: Indexing a timezone-naive DatetimeIndex with a timezone-aware datetime is deprecated and will raise KeyError in a future version.  Use a timezone-naive object instead.\n",
      "  serie = y_index[start:end].copy()\n",
      "/tmp/ipykernel_29203/1153396954.py:19: FutureWarning: Indexing a timezone-naive DatetimeIndex with a timezone-aware datetime is deprecated and will raise KeyError in a future version.  Use a timezone-naive object instead.\n",
      "  serie = y_index[start:end].copy()\n",
      "/tmp/ipykernel_29203/1153396954.py:19: FutureWarning: Indexing a timezone-naive DatetimeIndex with a timezone-aware datetime is deprecated and will raise KeyError in a future version.  Use a timezone-naive object instead.\n",
      "  serie = y_index[start:end].copy()\n",
      "/tmp/ipykernel_29203/1153396954.py:19: FutureWarning: Indexing a timezone-naive DatetimeIndex with a timezone-aware datetime is deprecated and will raise KeyError in a future version.  Use a timezone-naive object instead.\n",
      "  serie = y_index[start:end].copy()\n",
      "/tmp/ipykernel_29203/1153396954.py:19: FutureWarning: Indexing a timezone-naive DatetimeIndex with a timezone-aware datetime is deprecated and will raise KeyError in a future version.  Use a timezone-naive object instead.\n",
      "  serie = y_index[start:end].copy()\n",
      "/tmp/ipykernel_29203/1153396954.py:19: FutureWarning: Indexing a timezone-naive DatetimeIndex with a timezone-aware datetime is deprecated and will raise KeyError in a future version.  Use a timezone-naive object instead.\n",
      "  serie = y_index[start:end].copy()\n"
     ]
    },
    {
     "name": "stdout",
     "output_type": "stream",
     "text": [
      "233\r"
     ]
    },
    {
     "name": "stderr",
     "output_type": "stream",
     "text": [
      "/tmp/ipykernel_29203/1153396954.py:19: FutureWarning: Indexing a timezone-naive DatetimeIndex with a timezone-aware datetime is deprecated and will raise KeyError in a future version.  Use a timezone-naive object instead.\n",
      "  serie = y_index[start:end].copy()\n"
     ]
    },
    {
     "name": "stdout",
     "output_type": "stream",
     "text": [
      "234\r"
     ]
    },
    {
     "name": "stderr",
     "output_type": "stream",
     "text": [
      "/tmp/ipykernel_29203/1153396954.py:19: FutureWarning: Indexing a timezone-naive DatetimeIndex with a timezone-aware datetime is deprecated and will raise KeyError in a future version.  Use a timezone-naive object instead.\n",
      "  serie = y_index[start:end].copy()\n"
     ]
    },
    {
     "name": "stdout",
     "output_type": "stream",
     "text": [
      "235\r"
     ]
    },
    {
     "name": "stderr",
     "output_type": "stream",
     "text": [
      "/tmp/ipykernel_29203/1153396954.py:19: FutureWarning: Indexing a timezone-naive DatetimeIndex with a timezone-aware datetime is deprecated and will raise KeyError in a future version.  Use a timezone-naive object instead.\n",
      "  serie = y_index[start:end].copy()\n"
     ]
    },
    {
     "name": "stdout",
     "output_type": "stream",
     "text": [
      "236\r"
     ]
    },
    {
     "name": "stderr",
     "output_type": "stream",
     "text": [
      "/tmp/ipykernel_29203/1153396954.py:19: FutureWarning: Indexing a timezone-naive DatetimeIndex with a timezone-aware datetime is deprecated and will raise KeyError in a future version.  Use a timezone-naive object instead.\n",
      "  serie = y_index[start:end].copy()\n",
      "/tmp/ipykernel_29203/1153396954.py:19: FutureWarning: Indexing a timezone-naive DatetimeIndex with a timezone-aware datetime is deprecated and will raise KeyError in a future version.  Use a timezone-naive object instead.\n",
      "  serie = y_index[start:end].copy()\n",
      "/tmp/ipykernel_29203/1153396954.py:19: FutureWarning: Indexing a timezone-naive DatetimeIndex with a timezone-aware datetime is deprecated and will raise KeyError in a future version.  Use a timezone-naive object instead.\n",
      "  serie = y_index[start:end].copy()\n",
      "/tmp/ipykernel_29203/1153396954.py:19: FutureWarning: Indexing a timezone-naive DatetimeIndex with a timezone-aware datetime is deprecated and will raise KeyError in a future version.  Use a timezone-naive object instead.\n",
      "  serie = y_index[start:end].copy()\n",
      "/tmp/ipykernel_29203/1153396954.py:19: FutureWarning: Indexing a timezone-naive DatetimeIndex with a timezone-aware datetime is deprecated and will raise KeyError in a future version.  Use a timezone-naive object instead.\n",
      "  serie = y_index[start:end].copy()\n",
      "/tmp/ipykernel_29203/1153396954.py:19: FutureWarning: Indexing a timezone-naive DatetimeIndex with a timezone-aware datetime is deprecated and will raise KeyError in a future version.  Use a timezone-naive object instead.\n",
      "  serie = y_index[start:end].copy()\n"
     ]
    },
    {
     "name": "stdout",
     "output_type": "stream",
     "text": [
      "242\r"
     ]
    },
    {
     "name": "stderr",
     "output_type": "stream",
     "text": [
      "/tmp/ipykernel_29203/1153396954.py:19: FutureWarning: Indexing a timezone-naive DatetimeIndex with a timezone-aware datetime is deprecated and will raise KeyError in a future version.  Use a timezone-naive object instead.\n",
      "  serie = y_index[start:end].copy()\n"
     ]
    },
    {
     "name": "stdout",
     "output_type": "stream",
     "text": [
      "243\r"
     ]
    },
    {
     "name": "stderr",
     "output_type": "stream",
     "text": [
      "/tmp/ipykernel_29203/1153396954.py:19: FutureWarning: Indexing a timezone-naive DatetimeIndex with a timezone-aware datetime is deprecated and will raise KeyError in a future version.  Use a timezone-naive object instead.\n",
      "  serie = y_index[start:end].copy()\n"
     ]
    },
    {
     "name": "stdout",
     "output_type": "stream",
     "text": [
      "244\r"
     ]
    },
    {
     "name": "stderr",
     "output_type": "stream",
     "text": [
      "/tmp/ipykernel_29203/1153396954.py:19: FutureWarning: Indexing a timezone-naive DatetimeIndex with a timezone-aware datetime is deprecated and will raise KeyError in a future version.  Use a timezone-naive object instead.\n",
      "  serie = y_index[start:end].copy()\n",
      "/tmp/ipykernel_29203/1153396954.py:19: FutureWarning: Indexing a timezone-naive DatetimeIndex with a timezone-aware datetime is deprecated and will raise KeyError in a future version.  Use a timezone-naive object instead.\n",
      "  serie = y_index[start:end].copy()\n",
      "/tmp/ipykernel_29203/1153396954.py:19: FutureWarning: Indexing a timezone-naive DatetimeIndex with a timezone-aware datetime is deprecated and will raise KeyError in a future version.  Use a timezone-naive object instead.\n",
      "  serie = y_index[start:end].copy()\n",
      "/tmp/ipykernel_29203/1153396954.py:19: FutureWarning: Indexing a timezone-naive DatetimeIndex with a timezone-aware datetime is deprecated and will raise KeyError in a future version.  Use a timezone-naive object instead.\n",
      "  serie = y_index[start:end].copy()\n",
      "/tmp/ipykernel_29203/1153396954.py:19: FutureWarning: Indexing a timezone-naive DatetimeIndex with a timezone-aware datetime is deprecated and will raise KeyError in a future version.  Use a timezone-naive object instead.\n",
      "  serie = y_index[start:end].copy()\n",
      "/tmp/ipykernel_29203/1153396954.py:19: FutureWarning: Indexing a timezone-naive DatetimeIndex with a timezone-aware datetime is deprecated and will raise KeyError in a future version.  Use a timezone-naive object instead.\n",
      "  serie = y_index[start:end].copy()\n"
     ]
    },
    {
     "name": "stdout",
     "output_type": "stream",
     "text": [
      "250\r"
     ]
    },
    {
     "name": "stderr",
     "output_type": "stream",
     "text": [
      "/tmp/ipykernel_29203/1153396954.py:19: FutureWarning: Indexing a timezone-naive DatetimeIndex with a timezone-aware datetime is deprecated and will raise KeyError in a future version.  Use a timezone-naive object instead.\n",
      "  serie = y_index[start:end].copy()\n",
      "/tmp/ipykernel_29203/1153396954.py:19: FutureWarning: Indexing a timezone-naive DatetimeIndex with a timezone-aware datetime is deprecated and will raise KeyError in a future version.  Use a timezone-naive object instead.\n",
      "  serie = y_index[start:end].copy()\n",
      "/tmp/ipykernel_29203/1153396954.py:19: FutureWarning: Indexing a timezone-naive DatetimeIndex with a timezone-aware datetime is deprecated and will raise KeyError in a future version.  Use a timezone-naive object instead.\n",
      "  serie = y_index[start:end].copy()\n",
      "/tmp/ipykernel_29203/1153396954.py:19: FutureWarning: Indexing a timezone-naive DatetimeIndex with a timezone-aware datetime is deprecated and will raise KeyError in a future version.  Use a timezone-naive object instead.\n",
      "  serie = y_index[start:end].copy()\n"
     ]
    },
    {
     "name": "stdout",
     "output_type": "stream",
     "text": [
      "254\r"
     ]
    },
    {
     "name": "stderr",
     "output_type": "stream",
     "text": [
      "/tmp/ipykernel_29203/1153396954.py:19: FutureWarning: Indexing a timezone-naive DatetimeIndex with a timezone-aware datetime is deprecated and will raise KeyError in a future version.  Use a timezone-naive object instead.\n",
      "  serie = y_index[start:end].copy()\n",
      "/tmp/ipykernel_29203/1153396954.py:19: FutureWarning: Indexing a timezone-naive DatetimeIndex with a timezone-aware datetime is deprecated and will raise KeyError in a future version.  Use a timezone-naive object instead.\n",
      "  serie = y_index[start:end].copy()\n",
      "/tmp/ipykernel_29203/1153396954.py:19: FutureWarning: Indexing a timezone-naive DatetimeIndex with a timezone-aware datetime is deprecated and will raise KeyError in a future version.  Use a timezone-naive object instead.\n",
      "  serie = y_index[start:end].copy()\n",
      "/tmp/ipykernel_29203/1153396954.py:19: FutureWarning: Indexing a timezone-naive DatetimeIndex with a timezone-aware datetime is deprecated and will raise KeyError in a future version.  Use a timezone-naive object instead.\n",
      "  serie = y_index[start:end].copy()\n"
     ]
    },
    {
     "name": "stdout",
     "output_type": "stream",
     "text": [
      "258\r"
     ]
    },
    {
     "name": "stderr",
     "output_type": "stream",
     "text": [
      "/tmp/ipykernel_29203/1153396954.py:19: FutureWarning: Indexing a timezone-naive DatetimeIndex with a timezone-aware datetime is deprecated and will raise KeyError in a future version.  Use a timezone-naive object instead.\n",
      "  serie = y_index[start:end].copy()\n"
     ]
    },
    {
     "name": "stdout",
     "output_type": "stream",
     "text": [
      "259\r"
     ]
    },
    {
     "name": "stderr",
     "output_type": "stream",
     "text": [
      "/tmp/ipykernel_29203/1153396954.py:19: FutureWarning: Indexing a timezone-naive DatetimeIndex with a timezone-aware datetime is deprecated and will raise KeyError in a future version.  Use a timezone-naive object instead.\n",
      "  serie = y_index[start:end].copy()\n",
      "/tmp/ipykernel_29203/1153396954.py:19: FutureWarning: Indexing a timezone-naive DatetimeIndex with a timezone-aware datetime is deprecated and will raise KeyError in a future version.  Use a timezone-naive object instead.\n",
      "  serie = y_index[start:end].copy()\n",
      "/tmp/ipykernel_29203/1153396954.py:19: FutureWarning: Indexing a timezone-naive DatetimeIndex with a timezone-aware datetime is deprecated and will raise KeyError in a future version.  Use a timezone-naive object instead.\n",
      "  serie = y_index[start:end].copy()\n",
      "/tmp/ipykernel_29203/1153396954.py:19: FutureWarning: Indexing a timezone-naive DatetimeIndex with a timezone-aware datetime is deprecated and will raise KeyError in a future version.  Use a timezone-naive object instead.\n",
      "  serie = y_index[start:end].copy()\n",
      "/tmp/ipykernel_29203/1153396954.py:19: FutureWarning: Indexing a timezone-naive DatetimeIndex with a timezone-aware datetime is deprecated and will raise KeyError in a future version.  Use a timezone-naive object instead.\n",
      "  serie = y_index[start:end].copy()\n"
     ]
    },
    {
     "name": "stdout",
     "output_type": "stream",
     "text": [
      "264\r"
     ]
    },
    {
     "name": "stderr",
     "output_type": "stream",
     "text": [
      "/tmp/ipykernel_29203/1153396954.py:19: FutureWarning: Indexing a timezone-naive DatetimeIndex with a timezone-aware datetime is deprecated and will raise KeyError in a future version.  Use a timezone-naive object instead.\n",
      "  serie = y_index[start:end].copy()\n",
      "/tmp/ipykernel_29203/1153396954.py:19: FutureWarning: Indexing a timezone-naive DatetimeIndex with a timezone-aware datetime is deprecated and will raise KeyError in a future version.  Use a timezone-naive object instead.\n",
      "  serie = y_index[start:end].copy()\n",
      "/tmp/ipykernel_29203/1153396954.py:19: FutureWarning: Indexing a timezone-naive DatetimeIndex with a timezone-aware datetime is deprecated and will raise KeyError in a future version.  Use a timezone-naive object instead.\n",
      "  serie = y_index[start:end].copy()\n"
     ]
    },
    {
     "name": "stdout",
     "output_type": "stream",
     "text": [
      "267\r"
     ]
    },
    {
     "name": "stderr",
     "output_type": "stream",
     "text": [
      "/tmp/ipykernel_29203/1153396954.py:19: FutureWarning: Indexing a timezone-naive DatetimeIndex with a timezone-aware datetime is deprecated and will raise KeyError in a future version.  Use a timezone-naive object instead.\n",
      "  serie = y_index[start:end].copy()\n"
     ]
    },
    {
     "name": "stdout",
     "output_type": "stream",
     "text": [
      "268\r"
     ]
    },
    {
     "name": "stderr",
     "output_type": "stream",
     "text": [
      "/tmp/ipykernel_29203/1153396954.py:19: FutureWarning: Indexing a timezone-naive DatetimeIndex with a timezone-aware datetime is deprecated and will raise KeyError in a future version.  Use a timezone-naive object instead.\n",
      "  serie = y_index[start:end].copy()\n"
     ]
    },
    {
     "name": "stdout",
     "output_type": "stream",
     "text": [
      "269\r"
     ]
    },
    {
     "name": "stderr",
     "output_type": "stream",
     "text": [
      "/tmp/ipykernel_29203/1153396954.py:19: FutureWarning: Indexing a timezone-naive DatetimeIndex with a timezone-aware datetime is deprecated and will raise KeyError in a future version.  Use a timezone-naive object instead.\n",
      "  serie = y_index[start:end].copy()\n",
      "/tmp/ipykernel_29203/1153396954.py:19: FutureWarning: Indexing a timezone-naive DatetimeIndex with a timezone-aware datetime is deprecated and will raise KeyError in a future version.  Use a timezone-naive object instead.\n",
      "  serie = y_index[start:end].copy()\n",
      "/tmp/ipykernel_29203/1153396954.py:19: FutureWarning: Indexing a timezone-naive DatetimeIndex with a timezone-aware datetime is deprecated and will raise KeyError in a future version.  Use a timezone-naive object instead.\n",
      "  serie = y_index[start:end].copy()\n"
     ]
    },
    {
     "name": "stdout",
     "output_type": "stream",
     "text": [
      "272\r"
     ]
    },
    {
     "name": "stderr",
     "output_type": "stream",
     "text": [
      "/tmp/ipykernel_29203/1153396954.py:19: FutureWarning: Indexing a timezone-naive DatetimeIndex with a timezone-aware datetime is deprecated and will raise KeyError in a future version.  Use a timezone-naive object instead.\n",
      "  serie = y_index[start:end].copy()\n",
      "/tmp/ipykernel_29203/1153396954.py:19: FutureWarning: Indexing a timezone-naive DatetimeIndex with a timezone-aware datetime is deprecated and will raise KeyError in a future version.  Use a timezone-naive object instead.\n",
      "  serie = y_index[start:end].copy()\n",
      "/tmp/ipykernel_29203/1153396954.py:19: FutureWarning: Indexing a timezone-naive DatetimeIndex with a timezone-aware datetime is deprecated and will raise KeyError in a future version.  Use a timezone-naive object instead.\n",
      "  serie = y_index[start:end].copy()\n",
      "/tmp/ipykernel_29203/1153396954.py:19: FutureWarning: Indexing a timezone-naive DatetimeIndex with a timezone-aware datetime is deprecated and will raise KeyError in a future version.  Use a timezone-naive object instead.\n",
      "  serie = y_index[start:end].copy()\n",
      "/tmp/ipykernel_29203/1153396954.py:19: FutureWarning: Indexing a timezone-naive DatetimeIndex with a timezone-aware datetime is deprecated and will raise KeyError in a future version.  Use a timezone-naive object instead.\n",
      "  serie = y_index[start:end].copy()\n"
     ]
    },
    {
     "name": "stdout",
     "output_type": "stream",
     "text": [
      "277\r"
     ]
    },
    {
     "name": "stderr",
     "output_type": "stream",
     "text": [
      "/tmp/ipykernel_29203/1153396954.py:19: FutureWarning: Indexing a timezone-naive DatetimeIndex with a timezone-aware datetime is deprecated and will raise KeyError in a future version.  Use a timezone-naive object instead.\n",
      "  serie = y_index[start:end].copy()\n",
      "/tmp/ipykernel_29203/1153396954.py:19: FutureWarning: Indexing a timezone-naive DatetimeIndex with a timezone-aware datetime is deprecated and will raise KeyError in a future version.  Use a timezone-naive object instead.\n",
      "  serie = y_index[start:end].copy()\n",
      "/tmp/ipykernel_29203/1153396954.py:19: FutureWarning: Indexing a timezone-naive DatetimeIndex with a timezone-aware datetime is deprecated and will raise KeyError in a future version.  Use a timezone-naive object instead.\n",
      "  serie = y_index[start:end].copy()\n",
      "/tmp/ipykernel_29203/1153396954.py:19: FutureWarning: Indexing a timezone-naive DatetimeIndex with a timezone-aware datetime is deprecated and will raise KeyError in a future version.  Use a timezone-naive object instead.\n",
      "  serie = y_index[start:end].copy()\n",
      "/tmp/ipykernel_29203/1153396954.py:19: FutureWarning: Indexing a timezone-naive DatetimeIndex with a timezone-aware datetime is deprecated and will raise KeyError in a future version.  Use a timezone-naive object instead.\n",
      "  serie = y_index[start:end].copy()\n"
     ]
    },
    {
     "name": "stdout",
     "output_type": "stream",
     "text": [
      "283\r"
     ]
    },
    {
     "name": "stderr",
     "output_type": "stream",
     "text": [
      "/tmp/ipykernel_29203/1153396954.py:19: FutureWarning: Indexing a timezone-naive DatetimeIndex with a timezone-aware datetime is deprecated and will raise KeyError in a future version.  Use a timezone-naive object instead.\n",
      "  serie = y_index[start:end].copy()\n",
      "/tmp/ipykernel_29203/1153396954.py:19: FutureWarning: Indexing a timezone-naive DatetimeIndex with a timezone-aware datetime is deprecated and will raise KeyError in a future version.  Use a timezone-naive object instead.\n",
      "  serie = y_index[start:end].copy()\n"
     ]
    },
    {
     "name": "stdout",
     "output_type": "stream",
     "text": [
      "284\r"
     ]
    },
    {
     "name": "stderr",
     "output_type": "stream",
     "text": [
      "/tmp/ipykernel_29203/1153396954.py:19: FutureWarning: Indexing a timezone-naive DatetimeIndex with a timezone-aware datetime is deprecated and will raise KeyError in a future version.  Use a timezone-naive object instead.\n",
      "  serie = y_index[start:end].copy()\n"
     ]
    },
    {
     "name": "stdout",
     "output_type": "stream",
     "text": [
      "285\r"
     ]
    },
    {
     "name": "stderr",
     "output_type": "stream",
     "text": [
      "/tmp/ipykernel_29203/1153396954.py:19: FutureWarning: Indexing a timezone-naive DatetimeIndex with a timezone-aware datetime is deprecated and will raise KeyError in a future version.  Use a timezone-naive object instead.\n",
      "  serie = y_index[start:end].copy()\n"
     ]
    },
    {
     "name": "stdout",
     "output_type": "stream",
     "text": [
      "286\r"
     ]
    },
    {
     "name": "stderr",
     "output_type": "stream",
     "text": [
      "/tmp/ipykernel_29203/1153396954.py:19: FutureWarning: Indexing a timezone-naive DatetimeIndex with a timezone-aware datetime is deprecated and will raise KeyError in a future version.  Use a timezone-naive object instead.\n",
      "  serie = y_index[start:end].copy()\n"
     ]
    },
    {
     "name": "stdout",
     "output_type": "stream",
     "text": [
      "287\r"
     ]
    },
    {
     "name": "stderr",
     "output_type": "stream",
     "text": [
      "/tmp/ipykernel_29203/1153396954.py:19: FutureWarning: Indexing a timezone-naive DatetimeIndex with a timezone-aware datetime is deprecated and will raise KeyError in a future version.  Use a timezone-naive object instead.\n",
      "  serie = y_index[start:end].copy()\n"
     ]
    },
    {
     "name": "stdout",
     "output_type": "stream",
     "text": [
      "288\r"
     ]
    },
    {
     "name": "stderr",
     "output_type": "stream",
     "text": [
      "/tmp/ipykernel_29203/1153396954.py:19: FutureWarning: Indexing a timezone-naive DatetimeIndex with a timezone-aware datetime is deprecated and will raise KeyError in a future version.  Use a timezone-naive object instead.\n",
      "  serie = y_index[start:end].copy()\n"
     ]
    },
    {
     "name": "stdout",
     "output_type": "stream",
     "text": [
      "289\r"
     ]
    },
    {
     "name": "stderr",
     "output_type": "stream",
     "text": [
      "/tmp/ipykernel_29203/1153396954.py:19: FutureWarning: Indexing a timezone-naive DatetimeIndex with a timezone-aware datetime is deprecated and will raise KeyError in a future version.  Use a timezone-naive object instead.\n",
      "  serie = y_index[start:end].copy()\n",
      "/tmp/ipykernel_29203/1153396954.py:19: FutureWarning: Indexing a timezone-naive DatetimeIndex with a timezone-aware datetime is deprecated and will raise KeyError in a future version.  Use a timezone-naive object instead.\n",
      "  serie = y_index[start:end].copy()\n",
      "/tmp/ipykernel_29203/1153396954.py:19: FutureWarning: Indexing a timezone-naive DatetimeIndex with a timezone-aware datetime is deprecated and will raise KeyError in a future version.  Use a timezone-naive object instead.\n",
      "  serie = y_index[start:end].copy()\n",
      "/tmp/ipykernel_29203/1153396954.py:19: FutureWarning: Indexing a timezone-naive DatetimeIndex with a timezone-aware datetime is deprecated and will raise KeyError in a future version.  Use a timezone-naive object instead.\n",
      "  serie = y_index[start:end].copy()\n",
      "/tmp/ipykernel_29203/1153396954.py:19: FutureWarning: Indexing a timezone-naive DatetimeIndex with a timezone-aware datetime is deprecated and will raise KeyError in a future version.  Use a timezone-naive object instead.\n",
      "  serie = y_index[start:end].copy()\n",
      "/tmp/ipykernel_29203/1153396954.py:19: FutureWarning: Indexing a timezone-naive DatetimeIndex with a timezone-aware datetime is deprecated and will raise KeyError in a future version.  Use a timezone-naive object instead.\n",
      "  serie = y_index[start:end].copy()\n",
      "/tmp/ipykernel_29203/1153396954.py:19: FutureWarning: Indexing a timezone-naive DatetimeIndex with a timezone-aware datetime is deprecated and will raise KeyError in a future version.  Use a timezone-naive object instead.\n",
      "  serie = y_index[start:end].copy()\n"
     ]
    },
    {
     "name": "stdout",
     "output_type": "stream",
     "text": [
      "296\r"
     ]
    },
    {
     "name": "stderr",
     "output_type": "stream",
     "text": [
      "/tmp/ipykernel_29203/1153396954.py:19: FutureWarning: Indexing a timezone-naive DatetimeIndex with a timezone-aware datetime is deprecated and will raise KeyError in a future version.  Use a timezone-naive object instead.\n",
      "  serie = y_index[start:end].copy()\n"
     ]
    },
    {
     "name": "stdout",
     "output_type": "stream",
     "text": [
      "297\r"
     ]
    },
    {
     "name": "stderr",
     "output_type": "stream",
     "text": [
      "/tmp/ipykernel_29203/1153396954.py:19: FutureWarning: Indexing a timezone-naive DatetimeIndex with a timezone-aware datetime is deprecated and will raise KeyError in a future version.  Use a timezone-naive object instead.\n",
      "  serie = y_index[start:end].copy()\n",
      "/tmp/ipykernel_29203/1153396954.py:19: FutureWarning: Indexing a timezone-naive DatetimeIndex with a timezone-aware datetime is deprecated and will raise KeyError in a future version.  Use a timezone-naive object instead.\n",
      "  serie = y_index[start:end].copy()\n",
      "/tmp/ipykernel_29203/1153396954.py:19: FutureWarning: Indexing a timezone-naive DatetimeIndex with a timezone-aware datetime is deprecated and will raise KeyError in a future version.  Use a timezone-naive object instead.\n",
      "  serie = y_index[start:end].copy()\n"
     ]
    },
    {
     "name": "stdout",
     "output_type": "stream",
     "text": [
      "300\r"
     ]
    },
    {
     "name": "stderr",
     "output_type": "stream",
     "text": [
      "/tmp/ipykernel_29203/1153396954.py:19: FutureWarning: Indexing a timezone-naive DatetimeIndex with a timezone-aware datetime is deprecated and will raise KeyError in a future version.  Use a timezone-naive object instead.\n",
      "  serie = y_index[start:end].copy()\n"
     ]
    },
    {
     "name": "stdout",
     "output_type": "stream",
     "text": [
      "301\r"
     ]
    },
    {
     "name": "stderr",
     "output_type": "stream",
     "text": [
      "/tmp/ipykernel_29203/1153396954.py:19: FutureWarning: Indexing a timezone-naive DatetimeIndex with a timezone-aware datetime is deprecated and will raise KeyError in a future version.  Use a timezone-naive object instead.\n",
      "  serie = y_index[start:end].copy()\n",
      "/tmp/ipykernel_29203/1153396954.py:19: FutureWarning: Indexing a timezone-naive DatetimeIndex with a timezone-aware datetime is deprecated and will raise KeyError in a future version.  Use a timezone-naive object instead.\n",
      "  serie = y_index[start:end].copy()\n",
      "/tmp/ipykernel_29203/1153396954.py:19: FutureWarning: Indexing a timezone-naive DatetimeIndex with a timezone-aware datetime is deprecated and will raise KeyError in a future version.  Use a timezone-naive object instead.\n",
      "  serie = y_index[start:end].copy()\n",
      "/tmp/ipykernel_29203/1153396954.py:19: FutureWarning: Indexing a timezone-naive DatetimeIndex with a timezone-aware datetime is deprecated and will raise KeyError in a future version.  Use a timezone-naive object instead.\n",
      "  serie = y_index[start:end].copy()\n",
      "/tmp/ipykernel_29203/1153396954.py:19: FutureWarning: Indexing a timezone-naive DatetimeIndex with a timezone-aware datetime is deprecated and will raise KeyError in a future version.  Use a timezone-naive object instead.\n",
      "  serie = y_index[start:end].copy()\n"
     ]
    },
    {
     "name": "stdout",
     "output_type": "stream",
     "text": [
      "306\r"
     ]
    },
    {
     "name": "stderr",
     "output_type": "stream",
     "text": [
      "/tmp/ipykernel_29203/1153396954.py:19: FutureWarning: Indexing a timezone-naive DatetimeIndex with a timezone-aware datetime is deprecated and will raise KeyError in a future version.  Use a timezone-naive object instead.\n",
      "  serie = y_index[start:end].copy()\n",
      "/tmp/ipykernel_29203/1153396954.py:19: FutureWarning: Indexing a timezone-naive DatetimeIndex with a timezone-aware datetime is deprecated and will raise KeyError in a future version.  Use a timezone-naive object instead.\n",
      "  serie = y_index[start:end].copy()\n",
      "/tmp/ipykernel_29203/1153396954.py:19: FutureWarning: Indexing a timezone-naive DatetimeIndex with a timezone-aware datetime is deprecated and will raise KeyError in a future version.  Use a timezone-naive object instead.\n",
      "  serie = y_index[start:end].copy()\n",
      "/tmp/ipykernel_29203/1153396954.py:19: FutureWarning: Indexing a timezone-naive DatetimeIndex with a timezone-aware datetime is deprecated and will raise KeyError in a future version.  Use a timezone-naive object instead.\n",
      "  serie = y_index[start:end].copy()\n"
     ]
    },
    {
     "name": "stdout",
     "output_type": "stream",
     "text": [
      "310\r"
     ]
    },
    {
     "name": "stderr",
     "output_type": "stream",
     "text": [
      "/tmp/ipykernel_29203/1153396954.py:19: FutureWarning: Indexing a timezone-naive DatetimeIndex with a timezone-aware datetime is deprecated and will raise KeyError in a future version.  Use a timezone-naive object instead.\n",
      "  serie = y_index[start:end].copy()\n",
      "/tmp/ipykernel_29203/1153396954.py:19: FutureWarning: Indexing a timezone-naive DatetimeIndex with a timezone-aware datetime is deprecated and will raise KeyError in a future version.  Use a timezone-naive object instead.\n",
      "  serie = y_index[start:end].copy()\n",
      "/tmp/ipykernel_29203/1153396954.py:19: FutureWarning: Indexing a timezone-naive DatetimeIndex with a timezone-aware datetime is deprecated and will raise KeyError in a future version.  Use a timezone-naive object instead.\n",
      "  serie = y_index[start:end].copy()\n",
      "/tmp/ipykernel_29203/1153396954.py:19: FutureWarning: Indexing a timezone-naive DatetimeIndex with a timezone-aware datetime is deprecated and will raise KeyError in a future version.  Use a timezone-naive object instead.\n",
      "  serie = y_index[start:end].copy()\n",
      "/tmp/ipykernel_29203/1153396954.py:19: FutureWarning: Indexing a timezone-naive DatetimeIndex with a timezone-aware datetime is deprecated and will raise KeyError in a future version.  Use a timezone-naive object instead.\n",
      "  serie = y_index[start:end].copy()\n"
     ]
    },
    {
     "name": "stdout",
     "output_type": "stream",
     "text": [
      "315\r"
     ]
    },
    {
     "name": "stderr",
     "output_type": "stream",
     "text": [
      "/tmp/ipykernel_29203/1153396954.py:19: FutureWarning: Indexing a timezone-naive DatetimeIndex with a timezone-aware datetime is deprecated and will raise KeyError in a future version.  Use a timezone-naive object instead.\n",
      "  serie = y_index[start:end].copy()\n",
      "/tmp/ipykernel_29203/1153396954.py:19: FutureWarning: Indexing a timezone-naive DatetimeIndex with a timezone-aware datetime is deprecated and will raise KeyError in a future version.  Use a timezone-naive object instead.\n",
      "  serie = y_index[start:end].copy()\n",
      "/tmp/ipykernel_29203/1153396954.py:19: FutureWarning: Indexing a timezone-naive DatetimeIndex with a timezone-aware datetime is deprecated and will raise KeyError in a future version.  Use a timezone-naive object instead.\n",
      "  serie = y_index[start:end].copy()\n",
      "/tmp/ipykernel_29203/1153396954.py:19: FutureWarning: Indexing a timezone-naive DatetimeIndex with a timezone-aware datetime is deprecated and will raise KeyError in a future version.  Use a timezone-naive object instead.\n",
      "  serie = y_index[start:end].copy()\n",
      "/tmp/ipykernel_29203/1153396954.py:19: FutureWarning: Indexing a timezone-naive DatetimeIndex with a timezone-aware datetime is deprecated and will raise KeyError in a future version.  Use a timezone-naive object instead.\n",
      "  serie = y_index[start:end].copy()\n",
      "/tmp/ipykernel_29203/1153396954.py:19: FutureWarning: Indexing a timezone-naive DatetimeIndex with a timezone-aware datetime is deprecated and will raise KeyError in a future version.  Use a timezone-naive object instead.\n",
      "  serie = y_index[start:end].copy()\n"
     ]
    },
    {
     "name": "stdout",
     "output_type": "stream",
     "text": [
      "321\r"
     ]
    },
    {
     "name": "stderr",
     "output_type": "stream",
     "text": [
      "/tmp/ipykernel_29203/1153396954.py:19: FutureWarning: Indexing a timezone-naive DatetimeIndex with a timezone-aware datetime is deprecated and will raise KeyError in a future version.  Use a timezone-naive object instead.\n",
      "  serie = y_index[start:end].copy()\n",
      "/tmp/ipykernel_29203/1153396954.py:19: FutureWarning: Indexing a timezone-naive DatetimeIndex with a timezone-aware datetime is deprecated and will raise KeyError in a future version.  Use a timezone-naive object instead.\n",
      "  serie = y_index[start:end].copy()\n",
      "/tmp/ipykernel_29203/1153396954.py:19: FutureWarning: Indexing a timezone-naive DatetimeIndex with a timezone-aware datetime is deprecated and will raise KeyError in a future version.  Use a timezone-naive object instead.\n",
      "  serie = y_index[start:end].copy()\n",
      "/tmp/ipykernel_29203/1153396954.py:19: FutureWarning: Indexing a timezone-naive DatetimeIndex with a timezone-aware datetime is deprecated and will raise KeyError in a future version.  Use a timezone-naive object instead.\n",
      "  serie = y_index[start:end].copy()\n"
     ]
    },
    {
     "name": "stdout",
     "output_type": "stream",
     "text": [
      "325\r"
     ]
    },
    {
     "name": "stderr",
     "output_type": "stream",
     "text": [
      "/tmp/ipykernel_29203/1153396954.py:19: FutureWarning: Indexing a timezone-naive DatetimeIndex with a timezone-aware datetime is deprecated and will raise KeyError in a future version.  Use a timezone-naive object instead.\n",
      "  serie = y_index[start:end].copy()\n",
      "/tmp/ipykernel_29203/1153396954.py:19: FutureWarning: Indexing a timezone-naive DatetimeIndex with a timezone-aware datetime is deprecated and will raise KeyError in a future version.  Use a timezone-naive object instead.\n",
      "  serie = y_index[start:end].copy()\n",
      "/tmp/ipykernel_29203/1153396954.py:19: FutureWarning: Indexing a timezone-naive DatetimeIndex with a timezone-aware datetime is deprecated and will raise KeyError in a future version.  Use a timezone-naive object instead.\n",
      "  serie = y_index[start:end].copy()\n",
      "/tmp/ipykernel_29203/1153396954.py:19: FutureWarning: Indexing a timezone-naive DatetimeIndex with a timezone-aware datetime is deprecated and will raise KeyError in a future version.  Use a timezone-naive object instead.\n",
      "  serie = y_index[start:end].copy()\n",
      "/tmp/ipykernel_29203/1153396954.py:19: FutureWarning: Indexing a timezone-naive DatetimeIndex with a timezone-aware datetime is deprecated and will raise KeyError in a future version.  Use a timezone-naive object instead.\n",
      "  serie = y_index[start:end].copy()\n"
     ]
    },
    {
     "name": "stdout",
     "output_type": "stream",
     "text": [
      "330\r"
     ]
    },
    {
     "name": "stderr",
     "output_type": "stream",
     "text": [
      "/tmp/ipykernel_29203/1153396954.py:19: FutureWarning: Indexing a timezone-naive DatetimeIndex with a timezone-aware datetime is deprecated and will raise KeyError in a future version.  Use a timezone-naive object instead.\n",
      "  serie = y_index[start:end].copy()\n",
      "/tmp/ipykernel_29203/1153396954.py:19: FutureWarning: Indexing a timezone-naive DatetimeIndex with a timezone-aware datetime is deprecated and will raise KeyError in a future version.  Use a timezone-naive object instead.\n",
      "  serie = y_index[start:end].copy()\n",
      "/tmp/ipykernel_29203/1153396954.py:19: FutureWarning: Indexing a timezone-naive DatetimeIndex with a timezone-aware datetime is deprecated and will raise KeyError in a future version.  Use a timezone-naive object instead.\n",
      "  serie = y_index[start:end].copy()\n",
      "/tmp/ipykernel_29203/1153396954.py:19: FutureWarning: Indexing a timezone-naive DatetimeIndex with a timezone-aware datetime is deprecated and will raise KeyError in a future version.  Use a timezone-naive object instead.\n",
      "  serie = y_index[start:end].copy()\n",
      "/tmp/ipykernel_29203/1153396954.py:19: FutureWarning: Indexing a timezone-naive DatetimeIndex with a timezone-aware datetime is deprecated and will raise KeyError in a future version.  Use a timezone-naive object instead.\n",
      "  serie = y_index[start:end].copy()\n",
      "/tmp/ipykernel_29203/1153396954.py:19: FutureWarning: Indexing a timezone-naive DatetimeIndex with a timezone-aware datetime is deprecated and will raise KeyError in a future version.  Use a timezone-naive object instead.\n",
      "  serie = y_index[start:end].copy()\n",
      "/tmp/ipykernel_29203/1153396954.py:19: FutureWarning: Indexing a timezone-naive DatetimeIndex with a timezone-aware datetime is deprecated and will raise KeyError in a future version.  Use a timezone-naive object instead.\n",
      "  serie = y_index[start:end].copy()\n"
     ]
    },
    {
     "name": "stdout",
     "output_type": "stream",
     "text": [
      "337\r"
     ]
    },
    {
     "name": "stderr",
     "output_type": "stream",
     "text": [
      "/tmp/ipykernel_29203/1153396954.py:19: FutureWarning: Indexing a timezone-naive DatetimeIndex with a timezone-aware datetime is deprecated and will raise KeyError in a future version.  Use a timezone-naive object instead.\n",
      "  serie = y_index[start:end].copy()\n"
     ]
    },
    {
     "name": "stdout",
     "output_type": "stream",
     "text": [
      "338\r"
     ]
    },
    {
     "name": "stderr",
     "output_type": "stream",
     "text": [
      "/tmp/ipykernel_29203/1153396954.py:19: FutureWarning: Indexing a timezone-naive DatetimeIndex with a timezone-aware datetime is deprecated and will raise KeyError in a future version.  Use a timezone-naive object instead.\n",
      "  serie = y_index[start:end].copy()\n",
      "/tmp/ipykernel_29203/1153396954.py:19: FutureWarning: Indexing a timezone-naive DatetimeIndex with a timezone-aware datetime is deprecated and will raise KeyError in a future version.  Use a timezone-naive object instead.\n",
      "  serie = y_index[start:end].copy()\n",
      "/tmp/ipykernel_29203/1153396954.py:19: FutureWarning: Indexing a timezone-naive DatetimeIndex with a timezone-aware datetime is deprecated and will raise KeyError in a future version.  Use a timezone-naive object instead.\n",
      "  serie = y_index[start:end].copy()\n",
      "/tmp/ipykernel_29203/1153396954.py:19: FutureWarning: Indexing a timezone-naive DatetimeIndex with a timezone-aware datetime is deprecated and will raise KeyError in a future version.  Use a timezone-naive object instead.\n",
      "  serie = y_index[start:end].copy()\n",
      "/tmp/ipykernel_29203/1153396954.py:19: FutureWarning: Indexing a timezone-naive DatetimeIndex with a timezone-aware datetime is deprecated and will raise KeyError in a future version.  Use a timezone-naive object instead.\n",
      "  serie = y_index[start:end].copy()\n",
      "/tmp/ipykernel_29203/1153396954.py:19: FutureWarning: Indexing a timezone-naive DatetimeIndex with a timezone-aware datetime is deprecated and will raise KeyError in a future version.  Use a timezone-naive object instead.\n",
      "  serie = y_index[start:end].copy()\n",
      "/tmp/ipykernel_29203/1153396954.py:19: FutureWarning: Indexing a timezone-naive DatetimeIndex with a timezone-aware datetime is deprecated and will raise KeyError in a future version.  Use a timezone-naive object instead.\n",
      "  serie = y_index[start:end].copy()\n"
     ]
    },
    {
     "name": "stdout",
     "output_type": "stream",
     "text": [
      "345\r"
     ]
    },
    {
     "name": "stderr",
     "output_type": "stream",
     "text": [
      "/tmp/ipykernel_29203/1153396954.py:19: FutureWarning: Indexing a timezone-naive DatetimeIndex with a timezone-aware datetime is deprecated and will raise KeyError in a future version.  Use a timezone-naive object instead.\n",
      "  serie = y_index[start:end].copy()\n",
      "/tmp/ipykernel_29203/1153396954.py:19: FutureWarning: Indexing a timezone-naive DatetimeIndex with a timezone-aware datetime is deprecated and will raise KeyError in a future version.  Use a timezone-naive object instead.\n",
      "  serie = y_index[start:end].copy()\n"
     ]
    },
    {
     "name": "stdout",
     "output_type": "stream",
     "text": [
      "347\r"
     ]
    },
    {
     "name": "stderr",
     "output_type": "stream",
     "text": [
      "/tmp/ipykernel_29203/1153396954.py:19: FutureWarning: Indexing a timezone-naive DatetimeIndex with a timezone-aware datetime is deprecated and will raise KeyError in a future version.  Use a timezone-naive object instead.\n",
      "  serie = y_index[start:end].copy()\n",
      "/tmp/ipykernel_29203/1153396954.py:19: FutureWarning: Indexing a timezone-naive DatetimeIndex with a timezone-aware datetime is deprecated and will raise KeyError in a future version.  Use a timezone-naive object instead.\n",
      "  serie = y_index[start:end].copy()\n",
      "/tmp/ipykernel_29203/1153396954.py:19: FutureWarning: Indexing a timezone-naive DatetimeIndex with a timezone-aware datetime is deprecated and will raise KeyError in a future version.  Use a timezone-naive object instead.\n",
      "  serie = y_index[start:end].copy()\n"
     ]
    },
    {
     "name": "stdout",
     "output_type": "stream",
     "text": [
      "350\r"
     ]
    },
    {
     "name": "stderr",
     "output_type": "stream",
     "text": [
      "/tmp/ipykernel_29203/1153396954.py:19: FutureWarning: Indexing a timezone-naive DatetimeIndex with a timezone-aware datetime is deprecated and will raise KeyError in a future version.  Use a timezone-naive object instead.\n",
      "  serie = y_index[start:end].copy()\n",
      "/tmp/ipykernel_29203/1153396954.py:19: FutureWarning: Indexing a timezone-naive DatetimeIndex with a timezone-aware datetime is deprecated and will raise KeyError in a future version.  Use a timezone-naive object instead.\n",
      "  serie = y_index[start:end].copy()\n",
      "/tmp/ipykernel_29203/1153396954.py:19: FutureWarning: Indexing a timezone-naive DatetimeIndex with a timezone-aware datetime is deprecated and will raise KeyError in a future version.  Use a timezone-naive object instead.\n",
      "  serie = y_index[start:end].copy()\n",
      "/tmp/ipykernel_29203/1153396954.py:19: FutureWarning: Indexing a timezone-naive DatetimeIndex with a timezone-aware datetime is deprecated and will raise KeyError in a future version.  Use a timezone-naive object instead.\n",
      "  serie = y_index[start:end].copy()\n"
     ]
    },
    {
     "name": "stdout",
     "output_type": "stream",
     "text": [
      "354\r"
     ]
    },
    {
     "name": "stderr",
     "output_type": "stream",
     "text": [
      "/tmp/ipykernel_29203/1153396954.py:19: FutureWarning: Indexing a timezone-naive DatetimeIndex with a timezone-aware datetime is deprecated and will raise KeyError in a future version.  Use a timezone-naive object instead.\n",
      "  serie = y_index[start:end].copy()\n",
      "/tmp/ipykernel_29203/1153396954.py:19: FutureWarning: Indexing a timezone-naive DatetimeIndex with a timezone-aware datetime is deprecated and will raise KeyError in a future version.  Use a timezone-naive object instead.\n",
      "  serie = y_index[start:end].copy()\n"
     ]
    },
    {
     "name": "stdout",
     "output_type": "stream",
     "text": [
      "356\r"
     ]
    },
    {
     "name": "stderr",
     "output_type": "stream",
     "text": [
      "/tmp/ipykernel_29203/1153396954.py:19: FutureWarning: Indexing a timezone-naive DatetimeIndex with a timezone-aware datetime is deprecated and will raise KeyError in a future version.  Use a timezone-naive object instead.\n",
      "  serie = y_index[start:end].copy()\n",
      "/tmp/ipykernel_29203/1153396954.py:19: FutureWarning: Indexing a timezone-naive DatetimeIndex with a timezone-aware datetime is deprecated and will raise KeyError in a future version.  Use a timezone-naive object instead.\n",
      "  serie = y_index[start:end].copy()\n"
     ]
    },
    {
     "name": "stdout",
     "output_type": "stream",
     "text": [
      "358\r"
     ]
    },
    {
     "name": "stderr",
     "output_type": "stream",
     "text": [
      "/tmp/ipykernel_29203/1153396954.py:19: FutureWarning: Indexing a timezone-naive DatetimeIndex with a timezone-aware datetime is deprecated and will raise KeyError in a future version.  Use a timezone-naive object instead.\n",
      "  serie = y_index[start:end].copy()\n",
      "/tmp/ipykernel_29203/1153396954.py:19: FutureWarning: Indexing a timezone-naive DatetimeIndex with a timezone-aware datetime is deprecated and will raise KeyError in a future version.  Use a timezone-naive object instead.\n",
      "  serie = y_index[start:end].copy()\n",
      "/tmp/ipykernel_29203/1153396954.py:19: FutureWarning: Indexing a timezone-naive DatetimeIndex with a timezone-aware datetime is deprecated and will raise KeyError in a future version.  Use a timezone-naive object instead.\n",
      "  serie = y_index[start:end].copy()\n",
      "/tmp/ipykernel_29203/1153396954.py:19: FutureWarning: Indexing a timezone-naive DatetimeIndex with a timezone-aware datetime is deprecated and will raise KeyError in a future version.  Use a timezone-naive object instead.\n",
      "  serie = y_index[start:end].copy()\n"
     ]
    },
    {
     "name": "stdout",
     "output_type": "stream",
     "text": [
      "362\r"
     ]
    },
    {
     "name": "stderr",
     "output_type": "stream",
     "text": [
      "/tmp/ipykernel_29203/1153396954.py:19: FutureWarning: Indexing a timezone-naive DatetimeIndex with a timezone-aware datetime is deprecated and will raise KeyError in a future version.  Use a timezone-naive object instead.\n",
      "  serie = y_index[start:end].copy()\n",
      "/tmp/ipykernel_29203/1153396954.py:19: FutureWarning: Indexing a timezone-naive DatetimeIndex with a timezone-aware datetime is deprecated and will raise KeyError in a future version.  Use a timezone-naive object instead.\n",
      "  serie = y_index[start:end].copy()\n"
     ]
    },
    {
     "name": "stdout",
     "output_type": "stream",
     "text": [
      "364\r"
     ]
    },
    {
     "name": "stderr",
     "output_type": "stream",
     "text": [
      "/tmp/ipykernel_29203/1153396954.py:19: FutureWarning: Indexing a timezone-naive DatetimeIndex with a timezone-aware datetime is deprecated and will raise KeyError in a future version.  Use a timezone-naive object instead.\n",
      "  serie = y_index[start:end].copy()\n"
     ]
    },
    {
     "name": "stdout",
     "output_type": "stream",
     "text": [
      "365\r"
     ]
    },
    {
     "name": "stderr",
     "output_type": "stream",
     "text": [
      "/tmp/ipykernel_29203/1153396954.py:19: FutureWarning: Indexing a timezone-naive DatetimeIndex with a timezone-aware datetime is deprecated and will raise KeyError in a future version.  Use a timezone-naive object instead.\n",
      "  serie = y_index[start:end].copy()\n",
      "/tmp/ipykernel_29203/1153396954.py:19: FutureWarning: Indexing a timezone-naive DatetimeIndex with a timezone-aware datetime is deprecated and will raise KeyError in a future version.  Use a timezone-naive object instead.\n",
      "  serie = y_index[start:end].copy()\n",
      "/tmp/ipykernel_29203/1153396954.py:19: FutureWarning: Indexing a timezone-naive DatetimeIndex with a timezone-aware datetime is deprecated and will raise KeyError in a future version.  Use a timezone-naive object instead.\n",
      "  serie = y_index[start:end].copy()\n",
      "/tmp/ipykernel_29203/1153396954.py:19: FutureWarning: Indexing a timezone-naive DatetimeIndex with a timezone-aware datetime is deprecated and will raise KeyError in a future version.  Use a timezone-naive object instead.\n",
      "  serie = y_index[start:end].copy()\n",
      "/tmp/ipykernel_29203/1153396954.py:19: FutureWarning: Indexing a timezone-naive DatetimeIndex with a timezone-aware datetime is deprecated and will raise KeyError in a future version.  Use a timezone-naive object instead.\n",
      "  serie = y_index[start:end].copy()\n",
      "/tmp/ipykernel_29203/1153396954.py:19: FutureWarning: Indexing a timezone-naive DatetimeIndex with a timezone-aware datetime is deprecated and will raise KeyError in a future version.  Use a timezone-naive object instead.\n",
      "  serie = y_index[start:end].copy()\n"
     ]
    },
    {
     "name": "stdout",
     "output_type": "stream",
     "text": [
      "371\r"
     ]
    },
    {
     "name": "stderr",
     "output_type": "stream",
     "text": [
      "/tmp/ipykernel_29203/1153396954.py:19: FutureWarning: Indexing a timezone-naive DatetimeIndex with a timezone-aware datetime is deprecated and will raise KeyError in a future version.  Use a timezone-naive object instead.\n",
      "  serie = y_index[start:end].copy()\n",
      "/tmp/ipykernel_29203/1153396954.py:19: FutureWarning: Indexing a timezone-naive DatetimeIndex with a timezone-aware datetime is deprecated and will raise KeyError in a future version.  Use a timezone-naive object instead.\n",
      "  serie = y_index[start:end].copy()\n"
     ]
    },
    {
     "name": "stdout",
     "output_type": "stream",
     "text": [
      "373\r"
     ]
    },
    {
     "name": "stderr",
     "output_type": "stream",
     "text": [
      "/tmp/ipykernel_29203/1153396954.py:19: FutureWarning: Indexing a timezone-naive DatetimeIndex with a timezone-aware datetime is deprecated and will raise KeyError in a future version.  Use a timezone-naive object instead.\n",
      "  serie = y_index[start:end].copy()\n"
     ]
    },
    {
     "name": "stdout",
     "output_type": "stream",
     "text": [
      "374\r"
     ]
    },
    {
     "name": "stderr",
     "output_type": "stream",
     "text": [
      "/tmp/ipykernel_29203/1153396954.py:19: FutureWarning: Indexing a timezone-naive DatetimeIndex with a timezone-aware datetime is deprecated and will raise KeyError in a future version.  Use a timezone-naive object instead.\n",
      "  serie = y_index[start:end].copy()\n",
      "/tmp/ipykernel_29203/1153396954.py:19: FutureWarning: Indexing a timezone-naive DatetimeIndex with a timezone-aware datetime is deprecated and will raise KeyError in a future version.  Use a timezone-naive object instead.\n",
      "  serie = y_index[start:end].copy()\n",
      "/tmp/ipykernel_29203/1153396954.py:19: FutureWarning: Indexing a timezone-naive DatetimeIndex with a timezone-aware datetime is deprecated and will raise KeyError in a future version.  Use a timezone-naive object instead.\n",
      "  serie = y_index[start:end].copy()\n"
     ]
    },
    {
     "name": "stdout",
     "output_type": "stream",
     "text": [
      "377\r"
     ]
    },
    {
     "name": "stderr",
     "output_type": "stream",
     "text": [
      "/tmp/ipykernel_29203/1153396954.py:19: FutureWarning: Indexing a timezone-naive DatetimeIndex with a timezone-aware datetime is deprecated and will raise KeyError in a future version.  Use a timezone-naive object instead.\n",
      "  serie = y_index[start:end].copy()\n",
      "/tmp/ipykernel_29203/1153396954.py:19: FutureWarning: Indexing a timezone-naive DatetimeIndex with a timezone-aware datetime is deprecated and will raise KeyError in a future version.  Use a timezone-naive object instead.\n",
      "  serie = y_index[start:end].copy()\n",
      "/tmp/ipykernel_29203/1153396954.py:19: FutureWarning: Indexing a timezone-naive DatetimeIndex with a timezone-aware datetime is deprecated and will raise KeyError in a future version.  Use a timezone-naive object instead.\n",
      "  serie = y_index[start:end].copy()\n",
      "/tmp/ipykernel_29203/1153396954.py:19: FutureWarning: Indexing a timezone-naive DatetimeIndex with a timezone-aware datetime is deprecated and will raise KeyError in a future version.  Use a timezone-naive object instead.\n",
      "  serie = y_index[start:end].copy()\n",
      "/tmp/ipykernel_29203/1153396954.py:19: FutureWarning: Indexing a timezone-naive DatetimeIndex with a timezone-aware datetime is deprecated and will raise KeyError in a future version.  Use a timezone-naive object instead.\n",
      "  serie = y_index[start:end].copy()\n",
      "/tmp/ipykernel_29203/1153396954.py:19: FutureWarning: Indexing a timezone-naive DatetimeIndex with a timezone-aware datetime is deprecated and will raise KeyError in a future version.  Use a timezone-naive object instead.\n",
      "  serie = y_index[start:end].copy()\n"
     ]
    },
    {
     "name": "stdout",
     "output_type": "stream",
     "text": [
      "383\r"
     ]
    },
    {
     "name": "stderr",
     "output_type": "stream",
     "text": [
      "/tmp/ipykernel_29203/1153396954.py:19: FutureWarning: Indexing a timezone-naive DatetimeIndex with a timezone-aware datetime is deprecated and will raise KeyError in a future version.  Use a timezone-naive object instead.\n",
      "  serie = y_index[start:end].copy()\n"
     ]
    },
    {
     "name": "stdout",
     "output_type": "stream",
     "text": [
      "384\r"
     ]
    },
    {
     "name": "stderr",
     "output_type": "stream",
     "text": [
      "/tmp/ipykernel_29203/1153396954.py:19: FutureWarning: Indexing a timezone-naive DatetimeIndex with a timezone-aware datetime is deprecated and will raise KeyError in a future version.  Use a timezone-naive object instead.\n",
      "  serie = y_index[start:end].copy()\n",
      "/tmp/ipykernel_29203/1153396954.py:19: FutureWarning: Indexing a timezone-naive DatetimeIndex with a timezone-aware datetime is deprecated and will raise KeyError in a future version.  Use a timezone-naive object instead.\n",
      "  serie = y_index[start:end].copy()\n",
      "/tmp/ipykernel_29203/1153396954.py:19: FutureWarning: Indexing a timezone-naive DatetimeIndex with a timezone-aware datetime is deprecated and will raise KeyError in a future version.  Use a timezone-naive object instead.\n",
      "  serie = y_index[start:end].copy()\n",
      "/tmp/ipykernel_29203/1153396954.py:19: FutureWarning: Indexing a timezone-naive DatetimeIndex with a timezone-aware datetime is deprecated and will raise KeyError in a future version.  Use a timezone-naive object instead.\n",
      "  serie = y_index[start:end].copy()\n",
      "/tmp/ipykernel_29203/1153396954.py:19: FutureWarning: Indexing a timezone-naive DatetimeIndex with a timezone-aware datetime is deprecated and will raise KeyError in a future version.  Use a timezone-naive object instead.\n",
      "  serie = y_index[start:end].copy()\n",
      "/tmp/ipykernel_29203/1153396954.py:19: FutureWarning: Indexing a timezone-naive DatetimeIndex with a timezone-aware datetime is deprecated and will raise KeyError in a future version.  Use a timezone-naive object instead.\n",
      "  serie = y_index[start:end].copy()\n"
     ]
    },
    {
     "name": "stdout",
     "output_type": "stream",
     "text": [
      "391\r"
     ]
    },
    {
     "name": "stderr",
     "output_type": "stream",
     "text": [
      "/tmp/ipykernel_29203/1153396954.py:19: FutureWarning: Indexing a timezone-naive DatetimeIndex with a timezone-aware datetime is deprecated and will raise KeyError in a future version.  Use a timezone-naive object instead.\n",
      "  serie = y_index[start:end].copy()\n",
      "/tmp/ipykernel_29203/1153396954.py:19: FutureWarning: Indexing a timezone-naive DatetimeIndex with a timezone-aware datetime is deprecated and will raise KeyError in a future version.  Use a timezone-naive object instead.\n",
      "  serie = y_index[start:end].copy()\n",
      "/tmp/ipykernel_29203/1153396954.py:19: FutureWarning: Indexing a timezone-naive DatetimeIndex with a timezone-aware datetime is deprecated and will raise KeyError in a future version.  Use a timezone-naive object instead.\n",
      "  serie = y_index[start:end].copy()\n",
      "/tmp/ipykernel_29203/1153396954.py:19: FutureWarning: Indexing a timezone-naive DatetimeIndex with a timezone-aware datetime is deprecated and will raise KeyError in a future version.  Use a timezone-naive object instead.\n",
      "  serie = y_index[start:end].copy()\n"
     ]
    },
    {
     "name": "stdout",
     "output_type": "stream",
     "text": [
      "394\r"
     ]
    },
    {
     "name": "stderr",
     "output_type": "stream",
     "text": [
      "/tmp/ipykernel_29203/1153396954.py:19: FutureWarning: Indexing a timezone-naive DatetimeIndex with a timezone-aware datetime is deprecated and will raise KeyError in a future version.  Use a timezone-naive object instead.\n",
      "  serie = y_index[start:end].copy()\n",
      "/tmp/ipykernel_29203/1153396954.py:19: FutureWarning: Indexing a timezone-naive DatetimeIndex with a timezone-aware datetime is deprecated and will raise KeyError in a future version.  Use a timezone-naive object instead.\n",
      "  serie = y_index[start:end].copy()\n",
      "/tmp/ipykernel_29203/1153396954.py:19: FutureWarning: Indexing a timezone-naive DatetimeIndex with a timezone-aware datetime is deprecated and will raise KeyError in a future version.  Use a timezone-naive object instead.\n",
      "  serie = y_index[start:end].copy()\n",
      "/tmp/ipykernel_29203/1153396954.py:19: FutureWarning: Indexing a timezone-naive DatetimeIndex with a timezone-aware datetime is deprecated and will raise KeyError in a future version.  Use a timezone-naive object instead.\n",
      "  serie = y_index[start:end].copy()\n",
      "/tmp/ipykernel_29203/1153396954.py:19: FutureWarning: Indexing a timezone-naive DatetimeIndex with a timezone-aware datetime is deprecated and will raise KeyError in a future version.  Use a timezone-naive object instead.\n",
      "  serie = y_index[start:end].copy()\n",
      "/tmp/ipykernel_29203/1153396954.py:19: FutureWarning: Indexing a timezone-naive DatetimeIndex with a timezone-aware datetime is deprecated and will raise KeyError in a future version.  Use a timezone-naive object instead.\n",
      "  serie = y_index[start:end].copy()\n"
     ]
    },
    {
     "name": "stdout",
     "output_type": "stream",
     "text": [
      "400\r"
     ]
    },
    {
     "name": "stderr",
     "output_type": "stream",
     "text": [
      "/tmp/ipykernel_29203/1153396954.py:19: FutureWarning: Indexing a timezone-naive DatetimeIndex with a timezone-aware datetime is deprecated and will raise KeyError in a future version.  Use a timezone-naive object instead.\n",
      "  serie = y_index[start:end].copy()\n",
      "/tmp/ipykernel_29203/1153396954.py:19: FutureWarning: Indexing a timezone-naive DatetimeIndex with a timezone-aware datetime is deprecated and will raise KeyError in a future version.  Use a timezone-naive object instead.\n",
      "  serie = y_index[start:end].copy()\n"
     ]
    },
    {
     "name": "stdout",
     "output_type": "stream",
     "text": [
      "402\r"
     ]
    },
    {
     "name": "stderr",
     "output_type": "stream",
     "text": [
      "/tmp/ipykernel_29203/1153396954.py:19: FutureWarning: Indexing a timezone-naive DatetimeIndex with a timezone-aware datetime is deprecated and will raise KeyError in a future version.  Use a timezone-naive object instead.\n",
      "  serie = y_index[start:end].copy()\n",
      "/tmp/ipykernel_29203/1153396954.py:19: FutureWarning: Indexing a timezone-naive DatetimeIndex with a timezone-aware datetime is deprecated and will raise KeyError in a future version.  Use a timezone-naive object instead.\n",
      "  serie = y_index[start:end].copy()\n"
     ]
    },
    {
     "name": "stdout",
     "output_type": "stream",
     "text": [
      "404\r"
     ]
    },
    {
     "name": "stderr",
     "output_type": "stream",
     "text": [
      "/tmp/ipykernel_29203/1153396954.py:19: FutureWarning: Indexing a timezone-naive DatetimeIndex with a timezone-aware datetime is deprecated and will raise KeyError in a future version.  Use a timezone-naive object instead.\n",
      "  serie = y_index[start:end].copy()\n",
      "/tmp/ipykernel_29203/1153396954.py:19: FutureWarning: Indexing a timezone-naive DatetimeIndex with a timezone-aware datetime is deprecated and will raise KeyError in a future version.  Use a timezone-naive object instead.\n",
      "  serie = y_index[start:end].copy()\n"
     ]
    },
    {
     "name": "stdout",
     "output_type": "stream",
     "text": [
      "406\r"
     ]
    },
    {
     "name": "stderr",
     "output_type": "stream",
     "text": [
      "/tmp/ipykernel_29203/1153396954.py:19: FutureWarning: Indexing a timezone-naive DatetimeIndex with a timezone-aware datetime is deprecated and will raise KeyError in a future version.  Use a timezone-naive object instead.\n",
      "  serie = y_index[start:end].copy()\n",
      "/tmp/ipykernel_29203/1153396954.py:19: FutureWarning: Indexing a timezone-naive DatetimeIndex with a timezone-aware datetime is deprecated and will raise KeyError in a future version.  Use a timezone-naive object instead.\n",
      "  serie = y_index[start:end].copy()\n",
      "/tmp/ipykernel_29203/1153396954.py:19: FutureWarning: Indexing a timezone-naive DatetimeIndex with a timezone-aware datetime is deprecated and will raise KeyError in a future version.  Use a timezone-naive object instead.\n",
      "  serie = y_index[start:end].copy()\n"
     ]
    },
    {
     "name": "stdout",
     "output_type": "stream",
     "text": [
      "409\r"
     ]
    },
    {
     "name": "stderr",
     "output_type": "stream",
     "text": [
      "/tmp/ipykernel_29203/1153396954.py:19: FutureWarning: Indexing a timezone-naive DatetimeIndex with a timezone-aware datetime is deprecated and will raise KeyError in a future version.  Use a timezone-naive object instead.\n",
      "  serie = y_index[start:end].copy()\n",
      "/tmp/ipykernel_29203/1153396954.py:19: FutureWarning: Indexing a timezone-naive DatetimeIndex with a timezone-aware datetime is deprecated and will raise KeyError in a future version.  Use a timezone-naive object instead.\n",
      "  serie = y_index[start:end].copy()\n",
      "/tmp/ipykernel_29203/1153396954.py:19: FutureWarning: Indexing a timezone-naive DatetimeIndex with a timezone-aware datetime is deprecated and will raise KeyError in a future version.  Use a timezone-naive object instead.\n",
      "  serie = y_index[start:end].copy()\n",
      "/tmp/ipykernel_29203/1153396954.py:19: FutureWarning: Indexing a timezone-naive DatetimeIndex with a timezone-aware datetime is deprecated and will raise KeyError in a future version.  Use a timezone-naive object instead.\n",
      "  serie = y_index[start:end].copy()\n",
      "/tmp/ipykernel_29203/1153396954.py:19: FutureWarning: Indexing a timezone-naive DatetimeIndex with a timezone-aware datetime is deprecated and will raise KeyError in a future version.  Use a timezone-naive object instead.\n",
      "  serie = y_index[start:end].copy()\n"
     ]
    },
    {
     "name": "stdout",
     "output_type": "stream",
     "text": [
      "414\r"
     ]
    },
    {
     "name": "stderr",
     "output_type": "stream",
     "text": [
      "/tmp/ipykernel_29203/1153396954.py:19: FutureWarning: Indexing a timezone-naive DatetimeIndex with a timezone-aware datetime is deprecated and will raise KeyError in a future version.  Use a timezone-naive object instead.\n",
      "  serie = y_index[start:end].copy()\n",
      "/tmp/ipykernel_29203/1153396954.py:19: FutureWarning: Indexing a timezone-naive DatetimeIndex with a timezone-aware datetime is deprecated and will raise KeyError in a future version.  Use a timezone-naive object instead.\n",
      "  serie = y_index[start:end].copy()\n",
      "/tmp/ipykernel_29203/1153396954.py:19: FutureWarning: Indexing a timezone-naive DatetimeIndex with a timezone-aware datetime is deprecated and will raise KeyError in a future version.  Use a timezone-naive object instead.\n",
      "  serie = y_index[start:end].copy()\n",
      "/tmp/ipykernel_29203/1153396954.py:19: FutureWarning: Indexing a timezone-naive DatetimeIndex with a timezone-aware datetime is deprecated and will raise KeyError in a future version.  Use a timezone-naive object instead.\n",
      "  serie = y_index[start:end].copy()\n",
      "/tmp/ipykernel_29203/1153396954.py:19: FutureWarning: Indexing a timezone-naive DatetimeIndex with a timezone-aware datetime is deprecated and will raise KeyError in a future version.  Use a timezone-naive object instead.\n",
      "  serie = y_index[start:end].copy()\n",
      "/tmp/ipykernel_29203/1153396954.py:19: FutureWarning: Indexing a timezone-naive DatetimeIndex with a timezone-aware datetime is deprecated and will raise KeyError in a future version.  Use a timezone-naive object instead.\n",
      "  serie = y_index[start:end].copy()\n"
     ]
    },
    {
     "name": "stdout",
     "output_type": "stream",
     "text": [
      "420\r"
     ]
    },
    {
     "name": "stderr",
     "output_type": "stream",
     "text": [
      "/tmp/ipykernel_29203/1153396954.py:19: FutureWarning: Indexing a timezone-naive DatetimeIndex with a timezone-aware datetime is deprecated and will raise KeyError in a future version.  Use a timezone-naive object instead.\n",
      "  serie = y_index[start:end].copy()\n"
     ]
    },
    {
     "name": "stdout",
     "output_type": "stream",
     "text": [
      "421\r"
     ]
    },
    {
     "name": "stderr",
     "output_type": "stream",
     "text": [
      "/tmp/ipykernel_29203/1153396954.py:19: FutureWarning: Indexing a timezone-naive DatetimeIndex with a timezone-aware datetime is deprecated and will raise KeyError in a future version.  Use a timezone-naive object instead.\n",
      "  serie = y_index[start:end].copy()\n",
      "/tmp/ipykernel_29203/1153396954.py:19: FutureWarning: Indexing a timezone-naive DatetimeIndex with a timezone-aware datetime is deprecated and will raise KeyError in a future version.  Use a timezone-naive object instead.\n",
      "  serie = y_index[start:end].copy()\n",
      "/tmp/ipykernel_29203/1153396954.py:19: FutureWarning: Indexing a timezone-naive DatetimeIndex with a timezone-aware datetime is deprecated and will raise KeyError in a future version.  Use a timezone-naive object instead.\n",
      "  serie = y_index[start:end].copy()\n",
      "/tmp/ipykernel_29203/1153396954.py:19: FutureWarning: Indexing a timezone-naive DatetimeIndex with a timezone-aware datetime is deprecated and will raise KeyError in a future version.  Use a timezone-naive object instead.\n",
      "  serie = y_index[start:end].copy()\n",
      "/tmp/ipykernel_29203/1153396954.py:19: FutureWarning: Indexing a timezone-naive DatetimeIndex with a timezone-aware datetime is deprecated and will raise KeyError in a future version.  Use a timezone-naive object instead.\n",
      "  serie = y_index[start:end].copy()\n"
     ]
    },
    {
     "name": "stdout",
     "output_type": "stream",
     "text": [
      "426\r"
     ]
    },
    {
     "name": "stderr",
     "output_type": "stream",
     "text": [
      "/tmp/ipykernel_29203/1153396954.py:19: FutureWarning: Indexing a timezone-naive DatetimeIndex with a timezone-aware datetime is deprecated and will raise KeyError in a future version.  Use a timezone-naive object instead.\n",
      "  serie = y_index[start:end].copy()\n"
     ]
    },
    {
     "name": "stdout",
     "output_type": "stream",
     "text": [
      "427\r"
     ]
    },
    {
     "name": "stderr",
     "output_type": "stream",
     "text": [
      "/tmp/ipykernel_29203/1153396954.py:19: FutureWarning: Indexing a timezone-naive DatetimeIndex with a timezone-aware datetime is deprecated and will raise KeyError in a future version.  Use a timezone-naive object instead.\n",
      "  serie = y_index[start:end].copy()\n",
      "/tmp/ipykernel_29203/1153396954.py:19: FutureWarning: Indexing a timezone-naive DatetimeIndex with a timezone-aware datetime is deprecated and will raise KeyError in a future version.  Use a timezone-naive object instead.\n",
      "  serie = y_index[start:end].copy()\n"
     ]
    },
    {
     "name": "stdout",
     "output_type": "stream",
     "text": [
      "429\r"
     ]
    },
    {
     "name": "stderr",
     "output_type": "stream",
     "text": [
      "/tmp/ipykernel_29203/1153396954.py:19: FutureWarning: Indexing a timezone-naive DatetimeIndex with a timezone-aware datetime is deprecated and will raise KeyError in a future version.  Use a timezone-naive object instead.\n",
      "  serie = y_index[start:end].copy()\n",
      "/tmp/ipykernel_29203/1153396954.py:19: FutureWarning: Indexing a timezone-naive DatetimeIndex with a timezone-aware datetime is deprecated and will raise KeyError in a future version.  Use a timezone-naive object instead.\n",
      "  serie = y_index[start:end].copy()\n",
      "/tmp/ipykernel_29203/1153396954.py:19: FutureWarning: Indexing a timezone-naive DatetimeIndex with a timezone-aware datetime is deprecated and will raise KeyError in a future version.  Use a timezone-naive object instead.\n",
      "  serie = y_index[start:end].copy()\n"
     ]
    },
    {
     "name": "stdout",
     "output_type": "stream",
     "text": [
      "432\r"
     ]
    },
    {
     "name": "stderr",
     "output_type": "stream",
     "text": [
      "/tmp/ipykernel_29203/1153396954.py:19: FutureWarning: Indexing a timezone-naive DatetimeIndex with a timezone-aware datetime is deprecated and will raise KeyError in a future version.  Use a timezone-naive object instead.\n",
      "  serie = y_index[start:end].copy()\n",
      "/tmp/ipykernel_29203/1153396954.py:19: FutureWarning: Indexing a timezone-naive DatetimeIndex with a timezone-aware datetime is deprecated and will raise KeyError in a future version.  Use a timezone-naive object instead.\n",
      "  serie = y_index[start:end].copy()\n",
      "/tmp/ipykernel_29203/1153396954.py:19: FutureWarning: Indexing a timezone-naive DatetimeIndex with a timezone-aware datetime is deprecated and will raise KeyError in a future version.  Use a timezone-naive object instead.\n",
      "  serie = y_index[start:end].copy()\n"
     ]
    },
    {
     "name": "stdout",
     "output_type": "stream",
     "text": [
      "435\r"
     ]
    },
    {
     "name": "stderr",
     "output_type": "stream",
     "text": [
      "/tmp/ipykernel_29203/1153396954.py:19: FutureWarning: Indexing a timezone-naive DatetimeIndex with a timezone-aware datetime is deprecated and will raise KeyError in a future version.  Use a timezone-naive object instead.\n",
      "  serie = y_index[start:end].copy()\n",
      "/tmp/ipykernel_29203/1153396954.py:19: FutureWarning: Indexing a timezone-naive DatetimeIndex with a timezone-aware datetime is deprecated and will raise KeyError in a future version.  Use a timezone-naive object instead.\n",
      "  serie = y_index[start:end].copy()\n",
      "/tmp/ipykernel_29203/1153396954.py:19: FutureWarning: Indexing a timezone-naive DatetimeIndex with a timezone-aware datetime is deprecated and will raise KeyError in a future version.  Use a timezone-naive object instead.\n",
      "  serie = y_index[start:end].copy()\n"
     ]
    },
    {
     "name": "stdout",
     "output_type": "stream",
     "text": [
      "438\r"
     ]
    },
    {
     "name": "stderr",
     "output_type": "stream",
     "text": [
      "/tmp/ipykernel_29203/1153396954.py:19: FutureWarning: Indexing a timezone-naive DatetimeIndex with a timezone-aware datetime is deprecated and will raise KeyError in a future version.  Use a timezone-naive object instead.\n",
      "  serie = y_index[start:end].copy()\n"
     ]
    },
    {
     "name": "stdout",
     "output_type": "stream",
     "text": [
      "439\r"
     ]
    },
    {
     "name": "stderr",
     "output_type": "stream",
     "text": [
      "/tmp/ipykernel_29203/1153396954.py:19: FutureWarning: Indexing a timezone-naive DatetimeIndex with a timezone-aware datetime is deprecated and will raise KeyError in a future version.  Use a timezone-naive object instead.\n",
      "  serie = y_index[start:end].copy()\n",
      "/tmp/ipykernel_29203/1153396954.py:19: FutureWarning: Indexing a timezone-naive DatetimeIndex with a timezone-aware datetime is deprecated and will raise KeyError in a future version.  Use a timezone-naive object instead.\n",
      "  serie = y_index[start:end].copy()\n",
      "/tmp/ipykernel_29203/1153396954.py:19: FutureWarning: Indexing a timezone-naive DatetimeIndex with a timezone-aware datetime is deprecated and will raise KeyError in a future version.  Use a timezone-naive object instead.\n",
      "  serie = y_index[start:end].copy()\n"
     ]
    },
    {
     "name": "stdout",
     "output_type": "stream",
     "text": [
      "442\r"
     ]
    },
    {
     "name": "stderr",
     "output_type": "stream",
     "text": [
      "/tmp/ipykernel_29203/1153396954.py:19: FutureWarning: Indexing a timezone-naive DatetimeIndex with a timezone-aware datetime is deprecated and will raise KeyError in a future version.  Use a timezone-naive object instead.\n",
      "  serie = y_index[start:end].copy()\n"
     ]
    },
    {
     "name": "stdout",
     "output_type": "stream",
     "text": [
      "443\r"
     ]
    },
    {
     "name": "stderr",
     "output_type": "stream",
     "text": [
      "/tmp/ipykernel_29203/1153396954.py:19: FutureWarning: Indexing a timezone-naive DatetimeIndex with a timezone-aware datetime is deprecated and will raise KeyError in a future version.  Use a timezone-naive object instead.\n",
      "  serie = y_index[start:end].copy()\n",
      "/tmp/ipykernel_29203/1153396954.py:19: FutureWarning: Indexing a timezone-naive DatetimeIndex with a timezone-aware datetime is deprecated and will raise KeyError in a future version.  Use a timezone-naive object instead.\n",
      "  serie = y_index[start:end].copy()\n"
     ]
    },
    {
     "name": "stdout",
     "output_type": "stream",
     "text": [
      "445\r"
     ]
    },
    {
     "name": "stderr",
     "output_type": "stream",
     "text": [
      "/tmp/ipykernel_29203/1153396954.py:19: FutureWarning: Indexing a timezone-naive DatetimeIndex with a timezone-aware datetime is deprecated and will raise KeyError in a future version.  Use a timezone-naive object instead.\n",
      "  serie = y_index[start:end].copy()\n",
      "/tmp/ipykernel_29203/1153396954.py:19: FutureWarning: Indexing a timezone-naive DatetimeIndex with a timezone-aware datetime is deprecated and will raise KeyError in a future version.  Use a timezone-naive object instead.\n",
      "  serie = y_index[start:end].copy()\n",
      "/tmp/ipykernel_29203/1153396954.py:19: FutureWarning: Indexing a timezone-naive DatetimeIndex with a timezone-aware datetime is deprecated and will raise KeyError in a future version.  Use a timezone-naive object instead.\n",
      "  serie = y_index[start:end].copy()\n",
      "/tmp/ipykernel_29203/1153396954.py:19: FutureWarning: Indexing a timezone-naive DatetimeIndex with a timezone-aware datetime is deprecated and will raise KeyError in a future version.  Use a timezone-naive object instead.\n",
      "  serie = y_index[start:end].copy()\n",
      "/tmp/ipykernel_29203/1153396954.py:19: FutureWarning: Indexing a timezone-naive DatetimeIndex with a timezone-aware datetime is deprecated and will raise KeyError in a future version.  Use a timezone-naive object instead.\n",
      "  serie = y_index[start:end].copy()\n",
      "/tmp/ipykernel_29203/1153396954.py:19: FutureWarning: Indexing a timezone-naive DatetimeIndex with a timezone-aware datetime is deprecated and will raise KeyError in a future version.  Use a timezone-naive object instead.\n",
      "  serie = y_index[start:end].copy()\n",
      "/tmp/ipykernel_29203/1153396954.py:19: FutureWarning: Indexing a timezone-naive DatetimeIndex with a timezone-aware datetime is deprecated and will raise KeyError in a future version.  Use a timezone-naive object instead.\n",
      "  serie = y_index[start:end].copy()\n"
     ]
    },
    {
     "name": "stdout",
     "output_type": "stream",
     "text": [
      "452\r"
     ]
    },
    {
     "name": "stderr",
     "output_type": "stream",
     "text": [
      "/tmp/ipykernel_29203/1153396954.py:19: FutureWarning: Indexing a timezone-naive DatetimeIndex with a timezone-aware datetime is deprecated and will raise KeyError in a future version.  Use a timezone-naive object instead.\n",
      "  serie = y_index[start:end].copy()\n",
      "/tmp/ipykernel_29203/1153396954.py:19: FutureWarning: Indexing a timezone-naive DatetimeIndex with a timezone-aware datetime is deprecated and will raise KeyError in a future version.  Use a timezone-naive object instead.\n",
      "  serie = y_index[start:end].copy()\n",
      "/tmp/ipykernel_29203/1153396954.py:19: FutureWarning: Indexing a timezone-naive DatetimeIndex with a timezone-aware datetime is deprecated and will raise KeyError in a future version.  Use a timezone-naive object instead.\n",
      "  serie = y_index[start:end].copy()\n",
      "/tmp/ipykernel_29203/1153396954.py:19: FutureWarning: Indexing a timezone-naive DatetimeIndex with a timezone-aware datetime is deprecated and will raise KeyError in a future version.  Use a timezone-naive object instead.\n",
      "  serie = y_index[start:end].copy()\n",
      "/tmp/ipykernel_29203/1153396954.py:19: FutureWarning: Indexing a timezone-naive DatetimeIndex with a timezone-aware datetime is deprecated and will raise KeyError in a future version.  Use a timezone-naive object instead.\n",
      "  serie = y_index[start:end].copy()\n",
      "/tmp/ipykernel_29203/1153396954.py:19: FutureWarning: Indexing a timezone-naive DatetimeIndex with a timezone-aware datetime is deprecated and will raise KeyError in a future version.  Use a timezone-naive object instead.\n",
      "  serie = y_index[start:end].copy()\n",
      "/tmp/ipykernel_29203/1153396954.py:19: FutureWarning: Indexing a timezone-naive DatetimeIndex with a timezone-aware datetime is deprecated and will raise KeyError in a future version.  Use a timezone-naive object instead.\n",
      "  serie = y_index[start:end].copy()\n"
     ]
    },
    {
     "name": "stdout",
     "output_type": "stream",
     "text": [
      "459\r"
     ]
    },
    {
     "name": "stderr",
     "output_type": "stream",
     "text": [
      "/tmp/ipykernel_29203/1153396954.py:19: FutureWarning: Indexing a timezone-naive DatetimeIndex with a timezone-aware datetime is deprecated and will raise KeyError in a future version.  Use a timezone-naive object instead.\n",
      "  serie = y_index[start:end].copy()\n",
      "/tmp/ipykernel_29203/1153396954.py:19: FutureWarning: Indexing a timezone-naive DatetimeIndex with a timezone-aware datetime is deprecated and will raise KeyError in a future version.  Use a timezone-naive object instead.\n",
      "  serie = y_index[start:end].copy()\n"
     ]
    },
    {
     "name": "stdout",
     "output_type": "stream",
     "text": [
      "461\r"
     ]
    },
    {
     "name": "stderr",
     "output_type": "stream",
     "text": [
      "/tmp/ipykernel_29203/1153396954.py:19: FutureWarning: Indexing a timezone-naive DatetimeIndex with a timezone-aware datetime is deprecated and will raise KeyError in a future version.  Use a timezone-naive object instead.\n",
      "  serie = y_index[start:end].copy()\n"
     ]
    },
    {
     "name": "stdout",
     "output_type": "stream",
     "text": [
      "462\r"
     ]
    },
    {
     "name": "stderr",
     "output_type": "stream",
     "text": [
      "/tmp/ipykernel_29203/1153396954.py:19: FutureWarning: Indexing a timezone-naive DatetimeIndex with a timezone-aware datetime is deprecated and will raise KeyError in a future version.  Use a timezone-naive object instead.\n",
      "  serie = y_index[start:end].copy()\n",
      "/tmp/ipykernel_29203/1153396954.py:19: FutureWarning: Indexing a timezone-naive DatetimeIndex with a timezone-aware datetime is deprecated and will raise KeyError in a future version.  Use a timezone-naive object instead.\n",
      "  serie = y_index[start:end].copy()\n"
     ]
    },
    {
     "name": "stdout",
     "output_type": "stream",
     "text": [
      "464\r"
     ]
    },
    {
     "name": "stderr",
     "output_type": "stream",
     "text": [
      "/tmp/ipykernel_29203/1153396954.py:19: FutureWarning: Indexing a timezone-naive DatetimeIndex with a timezone-aware datetime is deprecated and will raise KeyError in a future version.  Use a timezone-naive object instead.\n",
      "  serie = y_index[start:end].copy()\n",
      "/tmp/ipykernel_29203/1153396954.py:19: FutureWarning: Indexing a timezone-naive DatetimeIndex with a timezone-aware datetime is deprecated and will raise KeyError in a future version.  Use a timezone-naive object instead.\n",
      "  serie = y_index[start:end].copy()\n"
     ]
    },
    {
     "name": "stdout",
     "output_type": "stream",
     "text": [
      "466\r"
     ]
    },
    {
     "name": "stderr",
     "output_type": "stream",
     "text": [
      "/tmp/ipykernel_29203/1153396954.py:19: FutureWarning: Indexing a timezone-naive DatetimeIndex with a timezone-aware datetime is deprecated and will raise KeyError in a future version.  Use a timezone-naive object instead.\n",
      "  serie = y_index[start:end].copy()\n",
      "/tmp/ipykernel_29203/1153396954.py:19: FutureWarning: Indexing a timezone-naive DatetimeIndex with a timezone-aware datetime is deprecated and will raise KeyError in a future version.  Use a timezone-naive object instead.\n",
      "  serie = y_index[start:end].copy()\n",
      "/tmp/ipykernel_29203/1153396954.py:19: FutureWarning: Indexing a timezone-naive DatetimeIndex with a timezone-aware datetime is deprecated and will raise KeyError in a future version.  Use a timezone-naive object instead.\n",
      "  serie = y_index[start:end].copy()\n",
      "/tmp/ipykernel_29203/1153396954.py:19: FutureWarning: Indexing a timezone-naive DatetimeIndex with a timezone-aware datetime is deprecated and will raise KeyError in a future version.  Use a timezone-naive object instead.\n",
      "  serie = y_index[start:end].copy()\n",
      "/tmp/ipykernel_29203/1153396954.py:19: FutureWarning: Indexing a timezone-naive DatetimeIndex with a timezone-aware datetime is deprecated and will raise KeyError in a future version.  Use a timezone-naive object instead.\n",
      "  serie = y_index[start:end].copy()\n",
      "/tmp/ipykernel_29203/1153396954.py:19: FutureWarning: Indexing a timezone-naive DatetimeIndex with a timezone-aware datetime is deprecated and will raise KeyError in a future version.  Use a timezone-naive object instead.\n",
      "  serie = y_index[start:end].copy()\n",
      "/tmp/ipykernel_29203/1153396954.py:19: FutureWarning: Indexing a timezone-naive DatetimeIndex with a timezone-aware datetime is deprecated and will raise KeyError in a future version.  Use a timezone-naive object instead.\n",
      "  serie = y_index[start:end].copy()\n"
     ]
    },
    {
     "name": "stdout",
     "output_type": "stream",
     "text": [
      "473\r"
     ]
    },
    {
     "name": "stderr",
     "output_type": "stream",
     "text": [
      "/tmp/ipykernel_29203/1153396954.py:19: FutureWarning: Indexing a timezone-naive DatetimeIndex with a timezone-aware datetime is deprecated and will raise KeyError in a future version.  Use a timezone-naive object instead.\n",
      "  serie = y_index[start:end].copy()\n",
      "/tmp/ipykernel_29203/1153396954.py:19: FutureWarning: Indexing a timezone-naive DatetimeIndex with a timezone-aware datetime is deprecated and will raise KeyError in a future version.  Use a timezone-naive object instead.\n",
      "  serie = y_index[start:end].copy()\n",
      "/tmp/ipykernel_29203/1153396954.py:19: FutureWarning: Indexing a timezone-naive DatetimeIndex with a timezone-aware datetime is deprecated and will raise KeyError in a future version.  Use a timezone-naive object instead.\n",
      "  serie = y_index[start:end].copy()\n",
      "/tmp/ipykernel_29203/1153396954.py:19: FutureWarning: Indexing a timezone-naive DatetimeIndex with a timezone-aware datetime is deprecated and will raise KeyError in a future version.  Use a timezone-naive object instead.\n",
      "  serie = y_index[start:end].copy()\n",
      "/tmp/ipykernel_29203/1153396954.py:19: FutureWarning: Indexing a timezone-naive DatetimeIndex with a timezone-aware datetime is deprecated and will raise KeyError in a future version.  Use a timezone-naive object instead.\n",
      "  serie = y_index[start:end].copy()\n"
     ]
    },
    {
     "name": "stdout",
     "output_type": "stream",
     "text": [
      "478\r"
     ]
    },
    {
     "name": "stderr",
     "output_type": "stream",
     "text": [
      "/tmp/ipykernel_29203/1153396954.py:19: FutureWarning: Indexing a timezone-naive DatetimeIndex with a timezone-aware datetime is deprecated and will raise KeyError in a future version.  Use a timezone-naive object instead.\n",
      "  serie = y_index[start:end].copy()\n",
      "/tmp/ipykernel_29203/1153396954.py:19: FutureWarning: Indexing a timezone-naive DatetimeIndex with a timezone-aware datetime is deprecated and will raise KeyError in a future version.  Use a timezone-naive object instead.\n",
      "  serie = y_index[start:end].copy()\n"
     ]
    },
    {
     "name": "stdout",
     "output_type": "stream",
     "text": [
      "480\r"
     ]
    },
    {
     "name": "stderr",
     "output_type": "stream",
     "text": [
      "/tmp/ipykernel_29203/1153396954.py:19: FutureWarning: Indexing a timezone-naive DatetimeIndex with a timezone-aware datetime is deprecated and will raise KeyError in a future version.  Use a timezone-naive object instead.\n",
      "  serie = y_index[start:end].copy()\n",
      "/tmp/ipykernel_29203/1153396954.py:19: FutureWarning: Indexing a timezone-naive DatetimeIndex with a timezone-aware datetime is deprecated and will raise KeyError in a future version.  Use a timezone-naive object instead.\n",
      "  serie = y_index[start:end].copy()\n",
      "/tmp/ipykernel_29203/1153396954.py:19: FutureWarning: Indexing a timezone-naive DatetimeIndex with a timezone-aware datetime is deprecated and will raise KeyError in a future version.  Use a timezone-naive object instead.\n",
      "  serie = y_index[start:end].copy()\n",
      "/tmp/ipykernel_29203/1153396954.py:19: FutureWarning: Indexing a timezone-naive DatetimeIndex with a timezone-aware datetime is deprecated and will raise KeyError in a future version.  Use a timezone-naive object instead.\n",
      "  serie = y_index[start:end].copy()\n"
     ]
    },
    {
     "name": "stdout",
     "output_type": "stream",
     "text": [
      "484\r"
     ]
    },
    {
     "name": "stderr",
     "output_type": "stream",
     "text": [
      "/tmp/ipykernel_29203/1153396954.py:19: FutureWarning: Indexing a timezone-naive DatetimeIndex with a timezone-aware datetime is deprecated and will raise KeyError in a future version.  Use a timezone-naive object instead.\n",
      "  serie = y_index[start:end].copy()\n",
      "/tmp/ipykernel_29203/1153396954.py:19: FutureWarning: Indexing a timezone-naive DatetimeIndex with a timezone-aware datetime is deprecated and will raise KeyError in a future version.  Use a timezone-naive object instead.\n",
      "  serie = y_index[start:end].copy()\n",
      "/tmp/ipykernel_29203/1153396954.py:19: FutureWarning: Indexing a timezone-naive DatetimeIndex with a timezone-aware datetime is deprecated and will raise KeyError in a future version.  Use a timezone-naive object instead.\n",
      "  serie = y_index[start:end].copy()\n",
      "/tmp/ipykernel_29203/1153396954.py:19: FutureWarning: Indexing a timezone-naive DatetimeIndex with a timezone-aware datetime is deprecated and will raise KeyError in a future version.  Use a timezone-naive object instead.\n",
      "  serie = y_index[start:end].copy()\n",
      "/tmp/ipykernel_29203/1153396954.py:19: FutureWarning: Indexing a timezone-naive DatetimeIndex with a timezone-aware datetime is deprecated and will raise KeyError in a future version.  Use a timezone-naive object instead.\n",
      "  serie = y_index[start:end].copy()\n",
      "/tmp/ipykernel_29203/1153396954.py:19: FutureWarning: Indexing a timezone-naive DatetimeIndex with a timezone-aware datetime is deprecated and will raise KeyError in a future version.  Use a timezone-naive object instead.\n",
      "  serie = y_index[start:end].copy()\n"
     ]
    },
    {
     "name": "stdout",
     "output_type": "stream",
     "text": [
      "490\r"
     ]
    },
    {
     "name": "stderr",
     "output_type": "stream",
     "text": [
      "/tmp/ipykernel_29203/1153396954.py:19: FutureWarning: Indexing a timezone-naive DatetimeIndex with a timezone-aware datetime is deprecated and will raise KeyError in a future version.  Use a timezone-naive object instead.\n",
      "  serie = y_index[start:end].copy()\n",
      "/tmp/ipykernel_29203/1153396954.py:19: FutureWarning: Indexing a timezone-naive DatetimeIndex with a timezone-aware datetime is deprecated and will raise KeyError in a future version.  Use a timezone-naive object instead.\n",
      "  serie = y_index[start:end].copy()\n",
      "/tmp/ipykernel_29203/1153396954.py:19: FutureWarning: Indexing a timezone-naive DatetimeIndex with a timezone-aware datetime is deprecated and will raise KeyError in a future version.  Use a timezone-naive object instead.\n",
      "  serie = y_index[start:end].copy()\n"
     ]
    },
    {
     "name": "stdout",
     "output_type": "stream",
     "text": [
      "493\r"
     ]
    },
    {
     "name": "stderr",
     "output_type": "stream",
     "text": [
      "/tmp/ipykernel_29203/1153396954.py:19: FutureWarning: Indexing a timezone-naive DatetimeIndex with a timezone-aware datetime is deprecated and will raise KeyError in a future version.  Use a timezone-naive object instead.\n",
      "  serie = y_index[start:end].copy()\n",
      "/tmp/ipykernel_29203/1153396954.py:19: FutureWarning: Indexing a timezone-naive DatetimeIndex with a timezone-aware datetime is deprecated and will raise KeyError in a future version.  Use a timezone-naive object instead.\n",
      "  serie = y_index[start:end].copy()\n"
     ]
    },
    {
     "name": "stdout",
     "output_type": "stream",
     "text": [
      "495\r"
     ]
    },
    {
     "name": "stderr",
     "output_type": "stream",
     "text": [
      "/tmp/ipykernel_29203/1153396954.py:19: FutureWarning: Indexing a timezone-naive DatetimeIndex with a timezone-aware datetime is deprecated and will raise KeyError in a future version.  Use a timezone-naive object instead.\n",
      "  serie = y_index[start:end].copy()\n",
      "/tmp/ipykernel_29203/1153396954.py:19: FutureWarning: Indexing a timezone-naive DatetimeIndex with a timezone-aware datetime is deprecated and will raise KeyError in a future version.  Use a timezone-naive object instead.\n",
      "  serie = y_index[start:end].copy()\n",
      "/tmp/ipykernel_29203/1153396954.py:19: FutureWarning: Indexing a timezone-naive DatetimeIndex with a timezone-aware datetime is deprecated and will raise KeyError in a future version.  Use a timezone-naive object instead.\n",
      "  serie = y_index[start:end].copy()\n",
      "/tmp/ipykernel_29203/1153396954.py:19: FutureWarning: Indexing a timezone-naive DatetimeIndex with a timezone-aware datetime is deprecated and will raise KeyError in a future version.  Use a timezone-naive object instead.\n",
      "  serie = y_index[start:end].copy()\n",
      "/tmp/ipykernel_29203/1153396954.py:19: FutureWarning: Indexing a timezone-naive DatetimeIndex with a timezone-aware datetime is deprecated and will raise KeyError in a future version.  Use a timezone-naive object instead.\n",
      "  serie = y_index[start:end].copy()\n",
      "/tmp/ipykernel_29203/1153396954.py:19: FutureWarning: Indexing a timezone-naive DatetimeIndex with a timezone-aware datetime is deprecated and will raise KeyError in a future version.  Use a timezone-naive object instead.\n",
      "  serie = y_index[start:end].copy()\n",
      "/tmp/ipykernel_29203/1153396954.py:19: FutureWarning: Indexing a timezone-naive DatetimeIndex with a timezone-aware datetime is deprecated and will raise KeyError in a future version.  Use a timezone-naive object instead.\n",
      "  serie = y_index[start:end].copy()\n"
     ]
    },
    {
     "name": "stdout",
     "output_type": "stream",
     "text": [
      "502\r"
     ]
    },
    {
     "name": "stderr",
     "output_type": "stream",
     "text": [
      "/tmp/ipykernel_29203/1153396954.py:19: FutureWarning: Indexing a timezone-naive DatetimeIndex with a timezone-aware datetime is deprecated and will raise KeyError in a future version.  Use a timezone-naive object instead.\n",
      "  serie = y_index[start:end].copy()\n",
      "/tmp/ipykernel_29203/1153396954.py:19: FutureWarning: Indexing a timezone-naive DatetimeIndex with a timezone-aware datetime is deprecated and will raise KeyError in a future version.  Use a timezone-naive object instead.\n",
      "  serie = y_index[start:end].copy()\n"
     ]
    },
    {
     "name": "stdout",
     "output_type": "stream",
     "text": [
      "504\r"
     ]
    },
    {
     "name": "stderr",
     "output_type": "stream",
     "text": [
      "/tmp/ipykernel_29203/1153396954.py:19: FutureWarning: Indexing a timezone-naive DatetimeIndex with a timezone-aware datetime is deprecated and will raise KeyError in a future version.  Use a timezone-naive object instead.\n",
      "  serie = y_index[start:end].copy()\n",
      "/tmp/ipykernel_29203/1153396954.py:19: FutureWarning: Indexing a timezone-naive DatetimeIndex with a timezone-aware datetime is deprecated and will raise KeyError in a future version.  Use a timezone-naive object instead.\n",
      "  serie = y_index[start:end].copy()\n",
      "/tmp/ipykernel_29203/1153396954.py:19: FutureWarning: Indexing a timezone-naive DatetimeIndex with a timezone-aware datetime is deprecated and will raise KeyError in a future version.  Use a timezone-naive object instead.\n",
      "  serie = y_index[start:end].copy()\n",
      "/tmp/ipykernel_29203/1153396954.py:19: FutureWarning: Indexing a timezone-naive DatetimeIndex with a timezone-aware datetime is deprecated and will raise KeyError in a future version.  Use a timezone-naive object instead.\n",
      "  serie = y_index[start:end].copy()\n",
      "/tmp/ipykernel_29203/1153396954.py:19: FutureWarning: Indexing a timezone-naive DatetimeIndex with a timezone-aware datetime is deprecated and will raise KeyError in a future version.  Use a timezone-naive object instead.\n",
      "  serie = y_index[start:end].copy()\n"
     ]
    },
    {
     "name": "stdout",
     "output_type": "stream",
     "text": [
      "509\r"
     ]
    },
    {
     "name": "stderr",
     "output_type": "stream",
     "text": [
      "/tmp/ipykernel_29203/1153396954.py:19: FutureWarning: Indexing a timezone-naive DatetimeIndex with a timezone-aware datetime is deprecated and will raise KeyError in a future version.  Use a timezone-naive object instead.\n",
      "  serie = y_index[start:end].copy()\n",
      "/tmp/ipykernel_29203/1153396954.py:19: FutureWarning: Indexing a timezone-naive DatetimeIndex with a timezone-aware datetime is deprecated and will raise KeyError in a future version.  Use a timezone-naive object instead.\n",
      "  serie = y_index[start:end].copy()\n",
      "/tmp/ipykernel_29203/1153396954.py:19: FutureWarning: Indexing a timezone-naive DatetimeIndex with a timezone-aware datetime is deprecated and will raise KeyError in a future version.  Use a timezone-naive object instead.\n",
      "  serie = y_index[start:end].copy()\n",
      "/tmp/ipykernel_29203/1153396954.py:19: FutureWarning: Indexing a timezone-naive DatetimeIndex with a timezone-aware datetime is deprecated and will raise KeyError in a future version.  Use a timezone-naive object instead.\n",
      "  serie = y_index[start:end].copy()\n",
      "/tmp/ipykernel_29203/1153396954.py:19: FutureWarning: Indexing a timezone-naive DatetimeIndex with a timezone-aware datetime is deprecated and will raise KeyError in a future version.  Use a timezone-naive object instead.\n",
      "  serie = y_index[start:end].copy()\n",
      "/tmp/ipykernel_29203/1153396954.py:19: FutureWarning: Indexing a timezone-naive DatetimeIndex with a timezone-aware datetime is deprecated and will raise KeyError in a future version.  Use a timezone-naive object instead.\n",
      "  serie = y_index[start:end].copy()\n"
     ]
    },
    {
     "name": "stdout",
     "output_type": "stream",
     "text": [
      "515\r"
     ]
    },
    {
     "name": "stderr",
     "output_type": "stream",
     "text": [
      "/tmp/ipykernel_29203/1153396954.py:19: FutureWarning: Indexing a timezone-naive DatetimeIndex with a timezone-aware datetime is deprecated and will raise KeyError in a future version.  Use a timezone-naive object instead.\n",
      "  serie = y_index[start:end].copy()\n"
     ]
    },
    {
     "name": "stdout",
     "output_type": "stream",
     "text": [
      "516\r"
     ]
    },
    {
     "name": "stderr",
     "output_type": "stream",
     "text": [
      "/tmp/ipykernel_29203/1153396954.py:19: FutureWarning: Indexing a timezone-naive DatetimeIndex with a timezone-aware datetime is deprecated and will raise KeyError in a future version.  Use a timezone-naive object instead.\n",
      "  serie = y_index[start:end].copy()\n",
      "/tmp/ipykernel_29203/1153396954.py:19: FutureWarning: Indexing a timezone-naive DatetimeIndex with a timezone-aware datetime is deprecated and will raise KeyError in a future version.  Use a timezone-naive object instead.\n",
      "  serie = y_index[start:end].copy()\n",
      "/tmp/ipykernel_29203/1153396954.py:19: FutureWarning: Indexing a timezone-naive DatetimeIndex with a timezone-aware datetime is deprecated and will raise KeyError in a future version.  Use a timezone-naive object instead.\n",
      "  serie = y_index[start:end].copy()\n",
      "/tmp/ipykernel_29203/1153396954.py:19: FutureWarning: Indexing a timezone-naive DatetimeIndex with a timezone-aware datetime is deprecated and will raise KeyError in a future version.  Use a timezone-naive object instead.\n",
      "  serie = y_index[start:end].copy()\n",
      "/tmp/ipykernel_29203/1153396954.py:19: FutureWarning: Indexing a timezone-naive DatetimeIndex with a timezone-aware datetime is deprecated and will raise KeyError in a future version.  Use a timezone-naive object instead.\n",
      "  serie = y_index[start:end].copy()\n",
      "/tmp/ipykernel_29203/1153396954.py:19: FutureWarning: Indexing a timezone-naive DatetimeIndex with a timezone-aware datetime is deprecated and will raise KeyError in a future version.  Use a timezone-naive object instead.\n",
      "  serie = y_index[start:end].copy()\n",
      "/tmp/ipykernel_29203/1153396954.py:19: FutureWarning: Indexing a timezone-naive DatetimeIndex with a timezone-aware datetime is deprecated and will raise KeyError in a future version.  Use a timezone-naive object instead.\n",
      "  serie = y_index[start:end].copy()\n",
      "/tmp/ipykernel_29203/1153396954.py:19: FutureWarning: Indexing a timezone-naive DatetimeIndex with a timezone-aware datetime is deprecated and will raise KeyError in a future version.  Use a timezone-naive object instead.\n",
      "  serie = y_index[start:end].copy()\n"
     ]
    },
    {
     "name": "stdout",
     "output_type": "stream",
     "text": [
      "524\r"
     ]
    },
    {
     "name": "stderr",
     "output_type": "stream",
     "text": [
      "/tmp/ipykernel_29203/1153396954.py:19: FutureWarning: Indexing a timezone-naive DatetimeIndex with a timezone-aware datetime is deprecated and will raise KeyError in a future version.  Use a timezone-naive object instead.\n",
      "  serie = y_index[start:end].copy()\n",
      "/tmp/ipykernel_29203/1153396954.py:19: FutureWarning: Indexing a timezone-naive DatetimeIndex with a timezone-aware datetime is deprecated and will raise KeyError in a future version.  Use a timezone-naive object instead.\n",
      "  serie = y_index[start:end].copy()\n",
      "/tmp/ipykernel_29203/1153396954.py:19: FutureWarning: Indexing a timezone-naive DatetimeIndex with a timezone-aware datetime is deprecated and will raise KeyError in a future version.  Use a timezone-naive object instead.\n",
      "  serie = y_index[start:end].copy()\n",
      "/tmp/ipykernel_29203/1153396954.py:19: FutureWarning: Indexing a timezone-naive DatetimeIndex with a timezone-aware datetime is deprecated and will raise KeyError in a future version.  Use a timezone-naive object instead.\n",
      "  serie = y_index[start:end].copy()\n"
     ]
    },
    {
     "name": "stdout",
     "output_type": "stream",
     "text": [
      "528\r"
     ]
    },
    {
     "name": "stderr",
     "output_type": "stream",
     "text": [
      "/tmp/ipykernel_29203/1153396954.py:19: FutureWarning: Indexing a timezone-naive DatetimeIndex with a timezone-aware datetime is deprecated and will raise KeyError in a future version.  Use a timezone-naive object instead.\n",
      "  serie = y_index[start:end].copy()\n",
      "/tmp/ipykernel_29203/1153396954.py:19: FutureWarning: Indexing a timezone-naive DatetimeIndex with a timezone-aware datetime is deprecated and will raise KeyError in a future version.  Use a timezone-naive object instead.\n",
      "  serie = y_index[start:end].copy()\n"
     ]
    },
    {
     "name": "stdout",
     "output_type": "stream",
     "text": [
      "530\r"
     ]
    },
    {
     "name": "stderr",
     "output_type": "stream",
     "text": [
      "/tmp/ipykernel_29203/1153396954.py:19: FutureWarning: Indexing a timezone-naive DatetimeIndex with a timezone-aware datetime is deprecated and will raise KeyError in a future version.  Use a timezone-naive object instead.\n",
      "  serie = y_index[start:end].copy()\n",
      "/tmp/ipykernel_29203/1153396954.py:19: FutureWarning: Indexing a timezone-naive DatetimeIndex with a timezone-aware datetime is deprecated and will raise KeyError in a future version.  Use a timezone-naive object instead.\n",
      "  serie = y_index[start:end].copy()\n",
      "/tmp/ipykernel_29203/1153396954.py:19: FutureWarning: Indexing a timezone-naive DatetimeIndex with a timezone-aware datetime is deprecated and will raise KeyError in a future version.  Use a timezone-naive object instead.\n",
      "  serie = y_index[start:end].copy()\n",
      "/tmp/ipykernel_29203/1153396954.py:19: FutureWarning: Indexing a timezone-naive DatetimeIndex with a timezone-aware datetime is deprecated and will raise KeyError in a future version.  Use a timezone-naive object instead.\n",
      "  serie = y_index[start:end].copy()\n",
      "/tmp/ipykernel_29203/1153396954.py:19: FutureWarning: Indexing a timezone-naive DatetimeIndex with a timezone-aware datetime is deprecated and will raise KeyError in a future version.  Use a timezone-naive object instead.\n",
      "  serie = y_index[start:end].copy()\n",
      "/tmp/ipykernel_29203/1153396954.py:19: FutureWarning: Indexing a timezone-naive DatetimeIndex with a timezone-aware datetime is deprecated and will raise KeyError in a future version.  Use a timezone-naive object instead.\n",
      "  serie = y_index[start:end].copy()\n",
      "/tmp/ipykernel_29203/1153396954.py:19: FutureWarning: Indexing a timezone-naive DatetimeIndex with a timezone-aware datetime is deprecated and will raise KeyError in a future version.  Use a timezone-naive object instead.\n",
      "  serie = y_index[start:end].copy()\n"
     ]
    },
    {
     "name": "stdout",
     "output_type": "stream",
     "text": [
      "537\r"
     ]
    },
    {
     "name": "stderr",
     "output_type": "stream",
     "text": [
      "/tmp/ipykernel_29203/1153396954.py:19: FutureWarning: Indexing a timezone-naive DatetimeIndex with a timezone-aware datetime is deprecated and will raise KeyError in a future version.  Use a timezone-naive object instead.\n",
      "  serie = y_index[start:end].copy()\n",
      "/tmp/ipykernel_29203/1153396954.py:19: FutureWarning: Indexing a timezone-naive DatetimeIndex with a timezone-aware datetime is deprecated and will raise KeyError in a future version.  Use a timezone-naive object instead.\n",
      "  serie = y_index[start:end].copy()\n",
      "/tmp/ipykernel_29203/1153396954.py:19: FutureWarning: Indexing a timezone-naive DatetimeIndex with a timezone-aware datetime is deprecated and will raise KeyError in a future version.  Use a timezone-naive object instead.\n",
      "  serie = y_index[start:end].copy()\n",
      "/tmp/ipykernel_29203/1153396954.py:19: FutureWarning: Indexing a timezone-naive DatetimeIndex with a timezone-aware datetime is deprecated and will raise KeyError in a future version.  Use a timezone-naive object instead.\n",
      "  serie = y_index[start:end].copy()\n",
      "/tmp/ipykernel_29203/1153396954.py:19: FutureWarning: Indexing a timezone-naive DatetimeIndex with a timezone-aware datetime is deprecated and will raise KeyError in a future version.  Use a timezone-naive object instead.\n",
      "  serie = y_index[start:end].copy()\n",
      "/tmp/ipykernel_29203/1153396954.py:19: FutureWarning: Indexing a timezone-naive DatetimeIndex with a timezone-aware datetime is deprecated and will raise KeyError in a future version.  Use a timezone-naive object instead.\n",
      "  serie = y_index[start:end].copy()\n",
      "/tmp/ipykernel_29203/1153396954.py:19: FutureWarning: Indexing a timezone-naive DatetimeIndex with a timezone-aware datetime is deprecated and will raise KeyError in a future version.  Use a timezone-naive object instead.\n",
      "  serie = y_index[start:end].copy()\n"
     ]
    },
    {
     "name": "stdout",
     "output_type": "stream",
     "text": [
      "544\r"
     ]
    },
    {
     "name": "stderr",
     "output_type": "stream",
     "text": [
      "/tmp/ipykernel_29203/1153396954.py:19: FutureWarning: Indexing a timezone-naive DatetimeIndex with a timezone-aware datetime is deprecated and will raise KeyError in a future version.  Use a timezone-naive object instead.\n",
      "  serie = y_index[start:end].copy()\n",
      "/tmp/ipykernel_29203/1153396954.py:19: FutureWarning: Indexing a timezone-naive DatetimeIndex with a timezone-aware datetime is deprecated and will raise KeyError in a future version.  Use a timezone-naive object instead.\n",
      "  serie = y_index[start:end].copy()\n",
      "/tmp/ipykernel_29203/1153396954.py:19: FutureWarning: Indexing a timezone-naive DatetimeIndex with a timezone-aware datetime is deprecated and will raise KeyError in a future version.  Use a timezone-naive object instead.\n",
      "  serie = y_index[start:end].copy()\n",
      "/tmp/ipykernel_29203/1153396954.py:19: FutureWarning: Indexing a timezone-naive DatetimeIndex with a timezone-aware datetime is deprecated and will raise KeyError in a future version.  Use a timezone-naive object instead.\n",
      "  serie = y_index[start:end].copy()\n",
      "/tmp/ipykernel_29203/1153396954.py:19: FutureWarning: Indexing a timezone-naive DatetimeIndex with a timezone-aware datetime is deprecated and will raise KeyError in a future version.  Use a timezone-naive object instead.\n",
      "  serie = y_index[start:end].copy()\n",
      "/tmp/ipykernel_29203/1153396954.py:19: FutureWarning: Indexing a timezone-naive DatetimeIndex with a timezone-aware datetime is deprecated and will raise KeyError in a future version.  Use a timezone-naive object instead.\n",
      "  serie = y_index[start:end].copy()\n",
      "/tmp/ipykernel_29203/1153396954.py:19: FutureWarning: Indexing a timezone-naive DatetimeIndex with a timezone-aware datetime is deprecated and will raise KeyError in a future version.  Use a timezone-naive object instead.\n",
      "  serie = y_index[start:end].copy()\n",
      "/tmp/ipykernel_29203/1153396954.py:19: FutureWarning: Indexing a timezone-naive DatetimeIndex with a timezone-aware datetime is deprecated and will raise KeyError in a future version.  Use a timezone-naive object instead.\n",
      "  serie = y_index[start:end].copy()\n"
     ]
    },
    {
     "name": "stdout",
     "output_type": "stream",
     "text": [
      "552\r"
     ]
    },
    {
     "name": "stderr",
     "output_type": "stream",
     "text": [
      "/tmp/ipykernel_29203/1153396954.py:19: FutureWarning: Indexing a timezone-naive DatetimeIndex with a timezone-aware datetime is deprecated and will raise KeyError in a future version.  Use a timezone-naive object instead.\n",
      "  serie = y_index[start:end].copy()\n",
      "/tmp/ipykernel_29203/1153396954.py:19: FutureWarning: Indexing a timezone-naive DatetimeIndex with a timezone-aware datetime is deprecated and will raise KeyError in a future version.  Use a timezone-naive object instead.\n",
      "  serie = y_index[start:end].copy()\n",
      "/tmp/ipykernel_29203/1153396954.py:19: FutureWarning: Indexing a timezone-naive DatetimeIndex with a timezone-aware datetime is deprecated and will raise KeyError in a future version.  Use a timezone-naive object instead.\n",
      "  serie = y_index[start:end].copy()\n"
     ]
    },
    {
     "name": "stdout",
     "output_type": "stream",
     "text": [
      "555\r"
     ]
    },
    {
     "name": "stderr",
     "output_type": "stream",
     "text": [
      "/tmp/ipykernel_29203/1153396954.py:19: FutureWarning: Indexing a timezone-naive DatetimeIndex with a timezone-aware datetime is deprecated and will raise KeyError in a future version.  Use a timezone-naive object instead.\n",
      "  serie = y_index[start:end].copy()\n",
      "/tmp/ipykernel_29203/1153396954.py:19: FutureWarning: Indexing a timezone-naive DatetimeIndex with a timezone-aware datetime is deprecated and will raise KeyError in a future version.  Use a timezone-naive object instead.\n",
      "  serie = y_index[start:end].copy()\n",
      "/tmp/ipykernel_29203/1153396954.py:19: FutureWarning: Indexing a timezone-naive DatetimeIndex with a timezone-aware datetime is deprecated and will raise KeyError in a future version.  Use a timezone-naive object instead.\n",
      "  serie = y_index[start:end].copy()\n",
      "/tmp/ipykernel_29203/1153396954.py:19: FutureWarning: Indexing a timezone-naive DatetimeIndex with a timezone-aware datetime is deprecated and will raise KeyError in a future version.  Use a timezone-naive object instead.\n",
      "  serie = y_index[start:end].copy()\n",
      "/tmp/ipykernel_29203/1153396954.py:19: FutureWarning: Indexing a timezone-naive DatetimeIndex with a timezone-aware datetime is deprecated and will raise KeyError in a future version.  Use a timezone-naive object instead.\n",
      "  serie = y_index[start:end].copy()\n"
     ]
    },
    {
     "name": "stdout",
     "output_type": "stream",
     "text": [
      "560\r"
     ]
    },
    {
     "name": "stderr",
     "output_type": "stream",
     "text": [
      "/tmp/ipykernel_29203/1153396954.py:19: FutureWarning: Indexing a timezone-naive DatetimeIndex with a timezone-aware datetime is deprecated and will raise KeyError in a future version.  Use a timezone-naive object instead.\n",
      "  serie = y_index[start:end].copy()\n",
      "/tmp/ipykernel_29203/1153396954.py:19: FutureWarning: Indexing a timezone-naive DatetimeIndex with a timezone-aware datetime is deprecated and will raise KeyError in a future version.  Use a timezone-naive object instead.\n",
      "  serie = y_index[start:end].copy()\n",
      "/tmp/ipykernel_29203/1153396954.py:19: FutureWarning: Indexing a timezone-naive DatetimeIndex with a timezone-aware datetime is deprecated and will raise KeyError in a future version.  Use a timezone-naive object instead.\n",
      "  serie = y_index[start:end].copy()\n",
      "/tmp/ipykernel_29203/1153396954.py:19: FutureWarning: Indexing a timezone-naive DatetimeIndex with a timezone-aware datetime is deprecated and will raise KeyError in a future version.  Use a timezone-naive object instead.\n",
      "  serie = y_index[start:end].copy()\n",
      "/tmp/ipykernel_29203/1153396954.py:19: FutureWarning: Indexing a timezone-naive DatetimeIndex with a timezone-aware datetime is deprecated and will raise KeyError in a future version.  Use a timezone-naive object instead.\n",
      "  serie = y_index[start:end].copy()\n",
      "/tmp/ipykernel_29203/1153396954.py:19: FutureWarning: Indexing a timezone-naive DatetimeIndex with a timezone-aware datetime is deprecated and will raise KeyError in a future version.  Use a timezone-naive object instead.\n",
      "  serie = y_index[start:end].copy()\n",
      "/tmp/ipykernel_29203/1153396954.py:19: FutureWarning: Indexing a timezone-naive DatetimeIndex with a timezone-aware datetime is deprecated and will raise KeyError in a future version.  Use a timezone-naive object instead.\n",
      "  serie = y_index[start:end].copy()\n"
     ]
    },
    {
     "name": "stdout",
     "output_type": "stream",
     "text": [
      "567\r"
     ]
    },
    {
     "name": "stderr",
     "output_type": "stream",
     "text": [
      "/tmp/ipykernel_29203/1153396954.py:19: FutureWarning: Indexing a timezone-naive DatetimeIndex with a timezone-aware datetime is deprecated and will raise KeyError in a future version.  Use a timezone-naive object instead.\n",
      "  serie = y_index[start:end].copy()\n",
      "/tmp/ipykernel_29203/1153396954.py:19: FutureWarning: Indexing a timezone-naive DatetimeIndex with a timezone-aware datetime is deprecated and will raise KeyError in a future version.  Use a timezone-naive object instead.\n",
      "  serie = y_index[start:end].copy()\n",
      "/tmp/ipykernel_29203/1153396954.py:19: FutureWarning: Indexing a timezone-naive DatetimeIndex with a timezone-aware datetime is deprecated and will raise KeyError in a future version.  Use a timezone-naive object instead.\n",
      "  serie = y_index[start:end].copy()\n",
      "/tmp/ipykernel_29203/1153396954.py:19: FutureWarning: Indexing a timezone-naive DatetimeIndex with a timezone-aware datetime is deprecated and will raise KeyError in a future version.  Use a timezone-naive object instead.\n",
      "  serie = y_index[start:end].copy()\n",
      "/tmp/ipykernel_29203/1153396954.py:19: FutureWarning: Indexing a timezone-naive DatetimeIndex with a timezone-aware datetime is deprecated and will raise KeyError in a future version.  Use a timezone-naive object instead.\n",
      "  serie = y_index[start:end].copy()\n",
      "/tmp/ipykernel_29203/1153396954.py:19: FutureWarning: Indexing a timezone-naive DatetimeIndex with a timezone-aware datetime is deprecated and will raise KeyError in a future version.  Use a timezone-naive object instead.\n",
      "  serie = y_index[start:end].copy()\n",
      "/tmp/ipykernel_29203/1153396954.py:19: FutureWarning: Indexing a timezone-naive DatetimeIndex with a timezone-aware datetime is deprecated and will raise KeyError in a future version.  Use a timezone-naive object instead.\n",
      "  serie = y_index[start:end].copy()\n"
     ]
    },
    {
     "name": "stdout",
     "output_type": "stream",
     "text": [
      "574\r"
     ]
    },
    {
     "name": "stderr",
     "output_type": "stream",
     "text": [
      "/tmp/ipykernel_29203/1153396954.py:19: FutureWarning: Indexing a timezone-naive DatetimeIndex with a timezone-aware datetime is deprecated and will raise KeyError in a future version.  Use a timezone-naive object instead.\n",
      "  serie = y_index[start:end].copy()\n",
      "/tmp/ipykernel_29203/1153396954.py:19: FutureWarning: Indexing a timezone-naive DatetimeIndex with a timezone-aware datetime is deprecated and will raise KeyError in a future version.  Use a timezone-naive object instead.\n",
      "  serie = y_index[start:end].copy()\n",
      "/tmp/ipykernel_29203/1153396954.py:19: FutureWarning: Indexing a timezone-naive DatetimeIndex with a timezone-aware datetime is deprecated and will raise KeyError in a future version.  Use a timezone-naive object instead.\n",
      "  serie = y_index[start:end].copy()\n",
      "/tmp/ipykernel_29203/1153396954.py:19: FutureWarning: Indexing a timezone-naive DatetimeIndex with a timezone-aware datetime is deprecated and will raise KeyError in a future version.  Use a timezone-naive object instead.\n",
      "  serie = y_index[start:end].copy()\n",
      "/tmp/ipykernel_29203/1153396954.py:19: FutureWarning: Indexing a timezone-naive DatetimeIndex with a timezone-aware datetime is deprecated and will raise KeyError in a future version.  Use a timezone-naive object instead.\n",
      "  serie = y_index[start:end].copy()\n",
      "/tmp/ipykernel_29203/1153396954.py:19: FutureWarning: Indexing a timezone-naive DatetimeIndex with a timezone-aware datetime is deprecated and will raise KeyError in a future version.  Use a timezone-naive object instead.\n",
      "  serie = y_index[start:end].copy()\n"
     ]
    },
    {
     "name": "stdout",
     "output_type": "stream",
     "text": [
      "580\r"
     ]
    },
    {
     "name": "stderr",
     "output_type": "stream",
     "text": [
      "/tmp/ipykernel_29203/1153396954.py:19: FutureWarning: Indexing a timezone-naive DatetimeIndex with a timezone-aware datetime is deprecated and will raise KeyError in a future version.  Use a timezone-naive object instead.\n",
      "  serie = y_index[start:end].copy()\n",
      "/tmp/ipykernel_29203/1153396954.py:19: FutureWarning: Indexing a timezone-naive DatetimeIndex with a timezone-aware datetime is deprecated and will raise KeyError in a future version.  Use a timezone-naive object instead.\n",
      "  serie = y_index[start:end].copy()\n",
      "/tmp/ipykernel_29203/1153396954.py:19: FutureWarning: Indexing a timezone-naive DatetimeIndex with a timezone-aware datetime is deprecated and will raise KeyError in a future version.  Use a timezone-naive object instead.\n",
      "  serie = y_index[start:end].copy()\n"
     ]
    },
    {
     "name": "stdout",
     "output_type": "stream",
     "text": [
      "583\r"
     ]
    },
    {
     "name": "stderr",
     "output_type": "stream",
     "text": [
      "/tmp/ipykernel_29203/1153396954.py:19: FutureWarning: Indexing a timezone-naive DatetimeIndex with a timezone-aware datetime is deprecated and will raise KeyError in a future version.  Use a timezone-naive object instead.\n",
      "  serie = y_index[start:end].copy()\n",
      "/tmp/ipykernel_29203/1153396954.py:19: FutureWarning: Indexing a timezone-naive DatetimeIndex with a timezone-aware datetime is deprecated and will raise KeyError in a future version.  Use a timezone-naive object instead.\n",
      "  serie = y_index[start:end].copy()\n",
      "/tmp/ipykernel_29203/1153396954.py:19: FutureWarning: Indexing a timezone-naive DatetimeIndex with a timezone-aware datetime is deprecated and will raise KeyError in a future version.  Use a timezone-naive object instead.\n",
      "  serie = y_index[start:end].copy()\n",
      "/tmp/ipykernel_29203/1153396954.py:19: FutureWarning: Indexing a timezone-naive DatetimeIndex with a timezone-aware datetime is deprecated and will raise KeyError in a future version.  Use a timezone-naive object instead.\n",
      "  serie = y_index[start:end].copy()\n",
      "/tmp/ipykernel_29203/1153396954.py:19: FutureWarning: Indexing a timezone-naive DatetimeIndex with a timezone-aware datetime is deprecated and will raise KeyError in a future version.  Use a timezone-naive object instead.\n",
      "  serie = y_index[start:end].copy()\n",
      "/tmp/ipykernel_29203/1153396954.py:19: FutureWarning: Indexing a timezone-naive DatetimeIndex with a timezone-aware datetime is deprecated and will raise KeyError in a future version.  Use a timezone-naive object instead.\n",
      "  serie = y_index[start:end].copy()\n",
      "/tmp/ipykernel_29203/1153396954.py:19: FutureWarning: Indexing a timezone-naive DatetimeIndex with a timezone-aware datetime is deprecated and will raise KeyError in a future version.  Use a timezone-naive object instead.\n",
      "  serie = y_index[start:end].copy()\n"
     ]
    },
    {
     "name": "stdout",
     "output_type": "stream",
     "text": [
      "590\r"
     ]
    },
    {
     "name": "stderr",
     "output_type": "stream",
     "text": [
      "/tmp/ipykernel_29203/1153396954.py:19: FutureWarning: Indexing a timezone-naive DatetimeIndex with a timezone-aware datetime is deprecated and will raise KeyError in a future version.  Use a timezone-naive object instead.\n",
      "  serie = y_index[start:end].copy()\n",
      "/tmp/ipykernel_29203/1153396954.py:19: FutureWarning: Indexing a timezone-naive DatetimeIndex with a timezone-aware datetime is deprecated and will raise KeyError in a future version.  Use a timezone-naive object instead.\n",
      "  serie = y_index[start:end].copy()\n",
      "/tmp/ipykernel_29203/1153396954.py:19: FutureWarning: Indexing a timezone-naive DatetimeIndex with a timezone-aware datetime is deprecated and will raise KeyError in a future version.  Use a timezone-naive object instead.\n",
      "  serie = y_index[start:end].copy()\n",
      "/tmp/ipykernel_29203/1153396954.py:19: FutureWarning: Indexing a timezone-naive DatetimeIndex with a timezone-aware datetime is deprecated and will raise KeyError in a future version.  Use a timezone-naive object instead.\n",
      "  serie = y_index[start:end].copy()\n",
      "/tmp/ipykernel_29203/1153396954.py:19: FutureWarning: Indexing a timezone-naive DatetimeIndex with a timezone-aware datetime is deprecated and will raise KeyError in a future version.  Use a timezone-naive object instead.\n",
      "  serie = y_index[start:end].copy()\n",
      "/tmp/ipykernel_29203/1153396954.py:19: FutureWarning: Indexing a timezone-naive DatetimeIndex with a timezone-aware datetime is deprecated and will raise KeyError in a future version.  Use a timezone-naive object instead.\n",
      "  serie = y_index[start:end].copy()\n",
      "/tmp/ipykernel_29203/1153396954.py:19: FutureWarning: Indexing a timezone-naive DatetimeIndex with a timezone-aware datetime is deprecated and will raise KeyError in a future version.  Use a timezone-naive object instead.\n",
      "  serie = y_index[start:end].copy()\n",
      "/tmp/ipykernel_29203/1153396954.py:19: FutureWarning: Indexing a timezone-naive DatetimeIndex with a timezone-aware datetime is deprecated and will raise KeyError in a future version.  Use a timezone-naive object instead.\n",
      "  serie = y_index[start:end].copy()\n"
     ]
    },
    {
     "name": "stdout",
     "output_type": "stream",
     "text": [
      "598\r"
     ]
    },
    {
     "name": "stderr",
     "output_type": "stream",
     "text": [
      "/tmp/ipykernel_29203/1153396954.py:19: FutureWarning: Indexing a timezone-naive DatetimeIndex with a timezone-aware datetime is deprecated and will raise KeyError in a future version.  Use a timezone-naive object instead.\n",
      "  serie = y_index[start:end].copy()\n",
      "/tmp/ipykernel_29203/1153396954.py:19: FutureWarning: Indexing a timezone-naive DatetimeIndex with a timezone-aware datetime is deprecated and will raise KeyError in a future version.  Use a timezone-naive object instead.\n",
      "  serie = y_index[start:end].copy()\n"
     ]
    },
    {
     "name": "stdout",
     "output_type": "stream",
     "text": [
      "600\r"
     ]
    },
    {
     "name": "stderr",
     "output_type": "stream",
     "text": [
      "/tmp/ipykernel_29203/1153396954.py:19: FutureWarning: Indexing a timezone-naive DatetimeIndex with a timezone-aware datetime is deprecated and will raise KeyError in a future version.  Use a timezone-naive object instead.\n",
      "  serie = y_index[start:end].copy()\n",
      "/tmp/ipykernel_29203/1153396954.py:19: FutureWarning: Indexing a timezone-naive DatetimeIndex with a timezone-aware datetime is deprecated and will raise KeyError in a future version.  Use a timezone-naive object instead.\n",
      "  serie = y_index[start:end].copy()\n",
      "/tmp/ipykernel_29203/1153396954.py:19: FutureWarning: Indexing a timezone-naive DatetimeIndex with a timezone-aware datetime is deprecated and will raise KeyError in a future version.  Use a timezone-naive object instead.\n",
      "  serie = y_index[start:end].copy()\n",
      "/tmp/ipykernel_29203/1153396954.py:19: FutureWarning: Indexing a timezone-naive DatetimeIndex with a timezone-aware datetime is deprecated and will raise KeyError in a future version.  Use a timezone-naive object instead.\n",
      "  serie = y_index[start:end].copy()\n",
      "/tmp/ipykernel_29203/1153396954.py:19: FutureWarning: Indexing a timezone-naive DatetimeIndex with a timezone-aware datetime is deprecated and will raise KeyError in a future version.  Use a timezone-naive object instead.\n",
      "  serie = y_index[start:end].copy()\n",
      "/tmp/ipykernel_29203/1153396954.py:19: FutureWarning: Indexing a timezone-naive DatetimeIndex with a timezone-aware datetime is deprecated and will raise KeyError in a future version.  Use a timezone-naive object instead.\n",
      "  serie = y_index[start:end].copy()\n",
      "/tmp/ipykernel_29203/1153396954.py:19: FutureWarning: Indexing a timezone-naive DatetimeIndex with a timezone-aware datetime is deprecated and will raise KeyError in a future version.  Use a timezone-naive object instead.\n",
      "  serie = y_index[start:end].copy()\n"
     ]
    },
    {
     "name": "stdout",
     "output_type": "stream",
     "text": [
      "607\r"
     ]
    },
    {
     "name": "stderr",
     "output_type": "stream",
     "text": [
      "/tmp/ipykernel_29203/1153396954.py:19: FutureWarning: Indexing a timezone-naive DatetimeIndex with a timezone-aware datetime is deprecated and will raise KeyError in a future version.  Use a timezone-naive object instead.\n",
      "  serie = y_index[start:end].copy()\n",
      "/tmp/ipykernel_29203/1153396954.py:19: FutureWarning: Indexing a timezone-naive DatetimeIndex with a timezone-aware datetime is deprecated and will raise KeyError in a future version.  Use a timezone-naive object instead.\n",
      "  serie = y_index[start:end].copy()\n",
      "/tmp/ipykernel_29203/1153396954.py:19: FutureWarning: Indexing a timezone-naive DatetimeIndex with a timezone-aware datetime is deprecated and will raise KeyError in a future version.  Use a timezone-naive object instead.\n",
      "  serie = y_index[start:end].copy()\n",
      "/tmp/ipykernel_29203/1153396954.py:19: FutureWarning: Indexing a timezone-naive DatetimeIndex with a timezone-aware datetime is deprecated and will raise KeyError in a future version.  Use a timezone-naive object instead.\n",
      "  serie = y_index[start:end].copy()\n"
     ]
    },
    {
     "name": "stdout",
     "output_type": "stream",
     "text": [
      "611\r"
     ]
    },
    {
     "name": "stderr",
     "output_type": "stream",
     "text": [
      "/tmp/ipykernel_29203/1153396954.py:19: FutureWarning: Indexing a timezone-naive DatetimeIndex with a timezone-aware datetime is deprecated and will raise KeyError in a future version.  Use a timezone-naive object instead.\n",
      "  serie = y_index[start:end].copy()\n"
     ]
    },
    {
     "name": "stdout",
     "output_type": "stream",
     "text": [
      "612\r"
     ]
    },
    {
     "name": "stderr",
     "output_type": "stream",
     "text": [
      "/tmp/ipykernel_29203/1153396954.py:19: FutureWarning: Indexing a timezone-naive DatetimeIndex with a timezone-aware datetime is deprecated and will raise KeyError in a future version.  Use a timezone-naive object instead.\n",
      "  serie = y_index[start:end].copy()\n",
      "/tmp/ipykernel_29203/1153396954.py:19: FutureWarning: Indexing a timezone-naive DatetimeIndex with a timezone-aware datetime is deprecated and will raise KeyError in a future version.  Use a timezone-naive object instead.\n",
      "  serie = y_index[start:end].copy()\n"
     ]
    },
    {
     "name": "stdout",
     "output_type": "stream",
     "text": [
      "614\r"
     ]
    },
    {
     "name": "stderr",
     "output_type": "stream",
     "text": [
      "/tmp/ipykernel_29203/1153396954.py:19: FutureWarning: Indexing a timezone-naive DatetimeIndex with a timezone-aware datetime is deprecated and will raise KeyError in a future version.  Use a timezone-naive object instead.\n",
      "  serie = y_index[start:end].copy()\n",
      "/tmp/ipykernel_29203/1153396954.py:19: FutureWarning: Indexing a timezone-naive DatetimeIndex with a timezone-aware datetime is deprecated and will raise KeyError in a future version.  Use a timezone-naive object instead.\n",
      "  serie = y_index[start:end].copy()\n",
      "/tmp/ipykernel_29203/1153396954.py:19: FutureWarning: Indexing a timezone-naive DatetimeIndex with a timezone-aware datetime is deprecated and will raise KeyError in a future version.  Use a timezone-naive object instead.\n",
      "  serie = y_index[start:end].copy()\n",
      "/tmp/ipykernel_29203/1153396954.py:19: FutureWarning: Indexing a timezone-naive DatetimeIndex with a timezone-aware datetime is deprecated and will raise KeyError in a future version.  Use a timezone-naive object instead.\n",
      "  serie = y_index[start:end].copy()\n",
      "/tmp/ipykernel_29203/1153396954.py:19: FutureWarning: Indexing a timezone-naive DatetimeIndex with a timezone-aware datetime is deprecated and will raise KeyError in a future version.  Use a timezone-naive object instead.\n",
      "  serie = y_index[start:end].copy()\n",
      "/tmp/ipykernel_29203/1153396954.py:19: FutureWarning: Indexing a timezone-naive DatetimeIndex with a timezone-aware datetime is deprecated and will raise KeyError in a future version.  Use a timezone-naive object instead.\n",
      "  serie = y_index[start:end].copy()\n"
     ]
    },
    {
     "name": "stdout",
     "output_type": "stream",
     "text": [
      "620\r"
     ]
    },
    {
     "name": "stderr",
     "output_type": "stream",
     "text": [
      "/tmp/ipykernel_29203/1153396954.py:19: FutureWarning: Indexing a timezone-naive DatetimeIndex with a timezone-aware datetime is deprecated and will raise KeyError in a future version.  Use a timezone-naive object instead.\n",
      "  serie = y_index[start:end].copy()\n",
      "/tmp/ipykernel_29203/1153396954.py:19: FutureWarning: Indexing a timezone-naive DatetimeIndex with a timezone-aware datetime is deprecated and will raise KeyError in a future version.  Use a timezone-naive object instead.\n",
      "  serie = y_index[start:end].copy()\n",
      "/tmp/ipykernel_29203/1153396954.py:19: FutureWarning: Indexing a timezone-naive DatetimeIndex with a timezone-aware datetime is deprecated and will raise KeyError in a future version.  Use a timezone-naive object instead.\n",
      "  serie = y_index[start:end].copy()\n",
      "/tmp/ipykernel_29203/1153396954.py:19: FutureWarning: Indexing a timezone-naive DatetimeIndex with a timezone-aware datetime is deprecated and will raise KeyError in a future version.  Use a timezone-naive object instead.\n",
      "  serie = y_index[start:end].copy()\n"
     ]
    },
    {
     "name": "stdout",
     "output_type": "stream",
     "text": [
      "624\r"
     ]
    },
    {
     "name": "stderr",
     "output_type": "stream",
     "text": [
      "/tmp/ipykernel_29203/1153396954.py:19: FutureWarning: Indexing a timezone-naive DatetimeIndex with a timezone-aware datetime is deprecated and will raise KeyError in a future version.  Use a timezone-naive object instead.\n",
      "  serie = y_index[start:end].copy()\n",
      "/tmp/ipykernel_29203/1153396954.py:19: FutureWarning: Indexing a timezone-naive DatetimeIndex with a timezone-aware datetime is deprecated and will raise KeyError in a future version.  Use a timezone-naive object instead.\n",
      "  serie = y_index[start:end].copy()\n",
      "/tmp/ipykernel_29203/1153396954.py:19: FutureWarning: Indexing a timezone-naive DatetimeIndex with a timezone-aware datetime is deprecated and will raise KeyError in a future version.  Use a timezone-naive object instead.\n",
      "  serie = y_index[start:end].copy()\n",
      "/tmp/ipykernel_29203/1153396954.py:19: FutureWarning: Indexing a timezone-naive DatetimeIndex with a timezone-aware datetime is deprecated and will raise KeyError in a future version.  Use a timezone-naive object instead.\n",
      "  serie = y_index[start:end].copy()\n",
      "/tmp/ipykernel_29203/1153396954.py:19: FutureWarning: Indexing a timezone-naive DatetimeIndex with a timezone-aware datetime is deprecated and will raise KeyError in a future version.  Use a timezone-naive object instead.\n",
      "  serie = y_index[start:end].copy()\n",
      "/tmp/ipykernel_29203/1153396954.py:19: FutureWarning: Indexing a timezone-naive DatetimeIndex with a timezone-aware datetime is deprecated and will raise KeyError in a future version.  Use a timezone-naive object instead.\n",
      "  serie = y_index[start:end].copy()\n",
      "/tmp/ipykernel_29203/1153396954.py:19: FutureWarning: Indexing a timezone-naive DatetimeIndex with a timezone-aware datetime is deprecated and will raise KeyError in a future version.  Use a timezone-naive object instead.\n",
      "  serie = y_index[start:end].copy()\n",
      "/tmp/ipykernel_29203/1153396954.py:19: FutureWarning: Indexing a timezone-naive DatetimeIndex with a timezone-aware datetime is deprecated and will raise KeyError in a future version.  Use a timezone-naive object instead.\n",
      "  serie = y_index[start:end].copy()\n"
     ]
    },
    {
     "name": "stdout",
     "output_type": "stream",
     "text": [
      "632\r"
     ]
    },
    {
     "name": "stderr",
     "output_type": "stream",
     "text": [
      "/tmp/ipykernel_29203/1153396954.py:19: FutureWarning: Indexing a timezone-naive DatetimeIndex with a timezone-aware datetime is deprecated and will raise KeyError in a future version.  Use a timezone-naive object instead.\n",
      "  serie = y_index[start:end].copy()\n",
      "/tmp/ipykernel_29203/1153396954.py:19: FutureWarning: Indexing a timezone-naive DatetimeIndex with a timezone-aware datetime is deprecated and will raise KeyError in a future version.  Use a timezone-naive object instead.\n",
      "  serie = y_index[start:end].copy()\n",
      "/tmp/ipykernel_29203/1153396954.py:19: FutureWarning: Indexing a timezone-naive DatetimeIndex with a timezone-aware datetime is deprecated and will raise KeyError in a future version.  Use a timezone-naive object instead.\n",
      "  serie = y_index[start:end].copy()\n",
      "/tmp/ipykernel_29203/1153396954.py:19: FutureWarning: Indexing a timezone-naive DatetimeIndex with a timezone-aware datetime is deprecated and will raise KeyError in a future version.  Use a timezone-naive object instead.\n",
      "  serie = y_index[start:end].copy()\n",
      "/tmp/ipykernel_29203/1153396954.py:19: FutureWarning: Indexing a timezone-naive DatetimeIndex with a timezone-aware datetime is deprecated and will raise KeyError in a future version.  Use a timezone-naive object instead.\n",
      "  serie = y_index[start:end].copy()\n"
     ]
    },
    {
     "name": "stdout",
     "output_type": "stream",
     "text": [
      "637\r"
     ]
    },
    {
     "name": "stderr",
     "output_type": "stream",
     "text": [
      "/tmp/ipykernel_29203/1153396954.py:19: FutureWarning: Indexing a timezone-naive DatetimeIndex with a timezone-aware datetime is deprecated and will raise KeyError in a future version.  Use a timezone-naive object instead.\n",
      "  serie = y_index[start:end].copy()\n",
      "/tmp/ipykernel_29203/1153396954.py:19: FutureWarning: Indexing a timezone-naive DatetimeIndex with a timezone-aware datetime is deprecated and will raise KeyError in a future version.  Use a timezone-naive object instead.\n",
      "  serie = y_index[start:end].copy()\n",
      "/tmp/ipykernel_29203/1153396954.py:19: FutureWarning: Indexing a timezone-naive DatetimeIndex with a timezone-aware datetime is deprecated and will raise KeyError in a future version.  Use a timezone-naive object instead.\n",
      "  serie = y_index[start:end].copy()\n",
      "/tmp/ipykernel_29203/1153396954.py:19: FutureWarning: Indexing a timezone-naive DatetimeIndex with a timezone-aware datetime is deprecated and will raise KeyError in a future version.  Use a timezone-naive object instead.\n",
      "  serie = y_index[start:end].copy()\n",
      "/tmp/ipykernel_29203/1153396954.py:19: FutureWarning: Indexing a timezone-naive DatetimeIndex with a timezone-aware datetime is deprecated and will raise KeyError in a future version.  Use a timezone-naive object instead.\n",
      "  serie = y_index[start:end].copy()\n",
      "/tmp/ipykernel_29203/1153396954.py:19: FutureWarning: Indexing a timezone-naive DatetimeIndex with a timezone-aware datetime is deprecated and will raise KeyError in a future version.  Use a timezone-naive object instead.\n",
      "  serie = y_index[start:end].copy()\n",
      "/tmp/ipykernel_29203/1153396954.py:19: FutureWarning: Indexing a timezone-naive DatetimeIndex with a timezone-aware datetime is deprecated and will raise KeyError in a future version.  Use a timezone-naive object instead.\n",
      "  serie = y_index[start:end].copy()\n",
      "/tmp/ipykernel_29203/1153396954.py:19: FutureWarning: Indexing a timezone-naive DatetimeIndex with a timezone-aware datetime is deprecated and will raise KeyError in a future version.  Use a timezone-naive object instead.\n",
      "  serie = y_index[start:end].copy()\n"
     ]
    },
    {
     "name": "stdout",
     "output_type": "stream",
     "text": [
      "645\r"
     ]
    },
    {
     "name": "stderr",
     "output_type": "stream",
     "text": [
      "/tmp/ipykernel_29203/1153396954.py:19: FutureWarning: Indexing a timezone-naive DatetimeIndex with a timezone-aware datetime is deprecated and will raise KeyError in a future version.  Use a timezone-naive object instead.\n",
      "  serie = y_index[start:end].copy()\n"
     ]
    },
    {
     "name": "stdout",
     "output_type": "stream",
     "text": [
      "652\r"
     ]
    },
    {
     "name": "stderr",
     "output_type": "stream",
     "text": [
      "/tmp/ipykernel_29203/1153396954.py:19: FutureWarning: Indexing a timezone-naive DatetimeIndex with a timezone-aware datetime is deprecated and will raise KeyError in a future version.  Use a timezone-naive object instead.\n",
      "  serie = y_index[start:end].copy()\n",
      "/tmp/ipykernel_29203/1153396954.py:19: FutureWarning: Indexing a timezone-naive DatetimeIndex with a timezone-aware datetime is deprecated and will raise KeyError in a future version.  Use a timezone-naive object instead.\n",
      "  serie = y_index[start:end].copy()\n",
      "/tmp/ipykernel_29203/1153396954.py:19: FutureWarning: Indexing a timezone-naive DatetimeIndex with a timezone-aware datetime is deprecated and will raise KeyError in a future version.  Use a timezone-naive object instead.\n",
      "  serie = y_index[start:end].copy()\n",
      "/tmp/ipykernel_29203/1153396954.py:19: FutureWarning: Indexing a timezone-naive DatetimeIndex with a timezone-aware datetime is deprecated and will raise KeyError in a future version.  Use a timezone-naive object instead.\n",
      "  serie = y_index[start:end].copy()\n",
      "/tmp/ipykernel_29203/1153396954.py:19: FutureWarning: Indexing a timezone-naive DatetimeIndex with a timezone-aware datetime is deprecated and will raise KeyError in a future version.  Use a timezone-naive object instead.\n",
      "  serie = y_index[start:end].copy()\n",
      "/tmp/ipykernel_29203/1153396954.py:19: FutureWarning: Indexing a timezone-naive DatetimeIndex with a timezone-aware datetime is deprecated and will raise KeyError in a future version.  Use a timezone-naive object instead.\n",
      "  serie = y_index[start:end].copy()\n",
      "/tmp/ipykernel_29203/1153396954.py:19: FutureWarning: Indexing a timezone-naive DatetimeIndex with a timezone-aware datetime is deprecated and will raise KeyError in a future version.  Use a timezone-naive object instead.\n",
      "  serie = y_index[start:end].copy()\n"
     ]
    }
   ],
   "source": [
    "wind_timeseries = []\n",
    "y_label = []\n",
    "for i, elt in enumerate(evtList):\n",
    "    print(i, end='\\r')\n",
    "    duration = elt.end-elt.begin\n",
    "    \n",
    "    prod_duration = np.random.uniform(0.15, 0.5)\n",
    "    prop_left = np.random.uniform(0, 1-prod_duration)\n",
    "    start = elt.begin-duration*prop_left/prod_duration\n",
    "    end = start+duration/prod_duration\n",
    "    \n",
    "    data = spz.get_data(amda.Parameters.Wind.MFI.wnd_mfi_kp.wnd_b,start_time = start, stop_time=end)\n",
    "    df = data.to_dataframe(datetime_index=True).dropna()\n",
    "    freq = (df.index[-1]-df.index[0])/2079\n",
    "    df = df.resample(freq).mean().interpolate()\n",
    "    \n",
    "    wind_timeseries.append(df)\n",
    "    \n",
    "    serie = y_index[start:end].copy()\n",
    "    freq = (serie.index[-1]-serie.index[0])/2079\n",
    "    serie = serie.resample(freq).mean().interpolate()\n",
    "    y_label.append(serie)\n",
    "    \n"
   ]
  },
  {
   "cell_type": "code",
   "execution_count": 10,
   "id": "bec10f9f-7398-4688-bc15-6b6389c7ed30",
   "metadata": {},
   "outputs": [],
   "source": [
    "np.save('/DATA/nguyen/timeSeries_interval/Wind_FR.npy', np.asarray(wind_timeseries))"
   ]
  },
  {
   "cell_type": "code",
   "execution_count": 11,
   "id": "c81919a4-55fb-45a8-a18e-988a18d2dac8",
   "metadata": {},
   "outputs": [],
   "source": [
    "np.save('/DATA/nguyen/timeSeries_interval/Wind_FR_label.npy', np.asarray(y_label))"
   ]
  },
  {
   "cell_type": "code",
   "execution_count": 65,
   "id": "0caa35a2-5b58-4575-8459-28e47f9f3fce",
   "metadata": {},
   "outputs": [],
   "source": [
    "seum = np.load('/DATA/nguyen/timeSeries_interval/Wind_FR.npy', allow_pickle=True)"
   ]
  },
  {
   "cell_type": "markdown",
   "id": "e4f84fa5-63c2-439e-95bb-9620525153ee",
   "metadata": {
    "tags": []
   },
   "source": [
    "## Cluster 1"
   ]
  },
  {
   "cell_type": "code",
   "execution_count": 4,
   "id": "8cef6379-5342-414a-94c4-1c5402069dc6",
   "metadata": {},
   "outputs": [],
   "source": [
    "df = pd.read_csv('Custer_FTE_full.txt', sep='\\t').dropna()\n",
    "df['tbegin'] = pd.to_datetime(df['tbegin'])\n",
    "\n",
    "df['tend'] = pd.to_datetime(df['tend'])\n",
    "evtList = [evt.Event(df['tbegin'][i], df['tend'][i])for i in range(0, len(df))]"
   ]
  },
  {
   "cell_type": "code",
   "execution_count": 5,
   "id": "16c15667-12ca-40f8-a13f-398ae3dd38de",
   "metadata": {},
   "outputs": [],
   "source": [
    "date_range = pd.date_range(datetime.datetime(2002, 11, 1),\n",
    "                           datetime.datetime(2003,7,1),\n",
    "                           freq='0.1S')\n",
    "y_index = pd.Series(index=date_range, data=0)\n",
    "\n",
    "for elt in evtList:\n",
    "    y_index[elt.begin:elt.end]=1"
   ]
  },
  {
   "cell_type": "code",
   "execution_count": 6,
   "id": "4a17111e-48b4-4196-8863-e800cdaf44e2",
   "metadata": {},
   "outputs": [
    {
     "name": "stdout",
     "output_type": "stream",
     "text": [
      "0 days 00:00:18.461999212\n",
      "0 days 00:01:01.188998063\n",
      "0 days 00:00:12.367454015\n",
      "0 days 00:00:00.559471665\n",
      "0 days 00:00:23.601174944\n",
      "0 days 00:00:43.680295744\n",
      "0 days 00:02:32.346569279\n",
      "0 days 00:00:17.099574468\n",
      "0 days 00:00:01.378479643\n",
      "0 days 00:02:54.486999080\n",
      "0 days 00:00:10.538751144\n",
      "0 days 00:03:19.700940717\n",
      "0 days 00:01:04.345707715\n",
      "0 days 00:01:06.250727748\n",
      "0 days 00:00:38.651210686\n",
      "0 days 00:01:33.449748720\n",
      "0 days 00:00:29.921972146\n",
      "0 days 00:00:15.939070774\n",
      "0 days 00:02:13.329773090\n",
      "0 days 00:00:01.417268140\n",
      "0 days 00:00:11.788850686\n",
      "0 days 00:01:25.556364974\n",
      "0 days 00:00:53.130752826\n",
      "0 days 00:01:23.563805861\n",
      "0 days 00:00:06.435102411\n",
      "0 days 00:01:40.156119098\n",
      "0 days 00:03:39.000163976\n",
      "0 days 00:01:46.489700142\n",
      "0 days 00:02:13.022200020\n",
      "0 days 00:00:50.580873789\n",
      "0 days 00:02:02.493592712\n",
      "0 days 00:01:23.546702771\n",
      "0 days 00:00:35.918920039\n",
      "0 days 00:01:38.100620755\n",
      "0 days 00:00:25.654280924\n",
      "0 days 00:01:59.267126537\n",
      "0 days 00:00:50.055258846\n",
      "0 days 00:00:36.045564004\n",
      "0 days 00:00:10.572350123\n",
      "0 days 00:00:43.207304101\n",
      "0 days 00:01:12.533165231\n",
      "0 days 00:01:04.615235375\n",
      "0 days 00:07:22.626776751\n",
      "0 days 00:00:48.016217887\n",
      "0 days 00:00:21.189900746\n",
      "0 days 00:00:08.063630738\n",
      "0 days 00:00:06.733902256\n",
      "0 days 00:01:19.692668466\n",
      "0 days 00:00:30.126264957\n",
      "0 days 00:00:08.472200858\n",
      "0 days 00:00:10.204216654\n",
      "0 days 00:02:02.018094728\n",
      "0 days 00:00:04.155137871\n",
      "0 days 00:00:41.664547601\n",
      "0 days 00:00:21.602414306\n",
      "0 days 00:01:22.564127985\n",
      "0 days 00:00:19.489022677\n",
      "0 days 00:00:50.161007680\n",
      "0 days 00:02:17.099269258\n",
      "0 days 00:00:34.235202884\n",
      "0 days 00:00:38.721704582\n",
      "0 days 00:00:43.475080865\n",
      "0 days 00:01:25.944190993\n",
      "0 days 00:00:51.397501352\n",
      "0 days 00:00:26.572758771\n",
      "0 days 00:01:21.712820970\n",
      "0 days 00:00:49.918275953\n",
      "0 days 00:00:38.723951968\n",
      "0 days 00:00:22.513875072\n",
      "0 days 00:01:31.810615904\n",
      "0 days 00:01:38.844212073\n",
      "0 days 00:01:02.444691039\n",
      "0 days 00:00:26.933454222\n",
      "0 days 00:00:00.396123200\n",
      "0 days 00:02:08.924950544\n",
      "0 days 00:03:39.232310537\n",
      "0 days 00:01:31.831048711\n",
      "0 days 00:00:43.856620076\n",
      "0 days 00:04:41.777784891\n",
      "0 days 00:11:00.572334468\n",
      "0 days 00:01:14.989423197\n",
      "0 days 00:00:16.474438500\n",
      "0 days 00:00:45.397094346\n",
      "0 days 00:01:54.445509374\n",
      "0 days 00:00:25.226769502\n",
      "0 days 00:01:07.498507571\n",
      "0 days 00:00:19.022192405\n",
      "0 days 00:01:07.139162283\n",
      "0 days 00:00:23.660479741\n",
      "0 days 00:05:21.713323578\n",
      "0 days 00:00:24.079833656\n",
      "0 days 00:00:32.828268860\n",
      "0 days 00:00:05.392096707\n",
      "0 days 00:00:01.630137750\n",
      "0 days 00:00:25.845179203\n",
      "0 days 00:00:35.780449827\n",
      "0 days 00:01:50.440574741\n",
      "0 days 00:02:18.849411270\n",
      "0 days 00:01:20.751464548\n",
      "0 days 00:01:54.995271305\n",
      "0 days 00:00:58.422128703\n",
      "0 days 00:00:41.258680210\n",
      "0 days 00:01:39.563245923\n",
      "0 days 00:00:21.391660154\n",
      "0 days 00:00:09.170935162\n",
      "0 days 00:02:55.937501363\n",
      "0 days 00:00:42.617439252\n",
      "0 days 00:00:32.914425458\n",
      "0 days 00:03:25.589433821\n",
      "0 days 00:00:08.970704364\n",
      "0 days 00:00:07.176591498\n",
      "0 days 00:00:49.126678313\n",
      "0 days 00:00:01.720952093\n",
      "0 days 00:02:00.635299047\n",
      "0 days 00:00:05.625617623\n",
      "0 days 00:01:16.152559296\n",
      "0 days 00:00:01.644292078\n",
      "0 days 00:01:07.245220792\n",
      "0 days 00:00:49.727158471\n",
      "0 days 00:03:39.682408232\n",
      "0 days 00:03:14.502123600\n",
      "0 days 00:00:38.383424034\n",
      "0 days 00:00:08.324549616\n",
      "0 days 00:00:43.596037559\n",
      "0 days 00:00:44.656951546\n",
      "0 days 00:02:15.454644528\n",
      "0 days 00:01:46.908548177\n",
      "0 days 00:00:23.982293306\n",
      "0 days 00:02:36.129401145\n",
      "0 days 00:00:12.277618534\n",
      "0 days 00:00:59.817411821\n",
      "0 days 00:01:14.231576403\n",
      "0 days 00:00:52.036324177\n",
      "0 days 00:01:07.657798505\n",
      "0 days 00:00:59.702035425\n",
      "0 days 00:00:33.252313065\n",
      "0 days 00:00:02.804369425\n",
      "0 days 00:00:52.500252377\n",
      "0 days 00:00:59.075031848\n",
      "0 days 00:01:52.272661631\n",
      "0 days 00:01:41.112541765\n",
      "0 days 00:00:22.788128964\n",
      "0 days 00:02:29.558850291\n",
      "0 days 00:00:11.924388429\n",
      "0 days 00:02:23.946692238\n",
      "0 days 00:01:34.491789155\n",
      "0 days 00:02:54.234552960\n",
      "0 days 00:01:23.869843254\n",
      "0 days 00:01:12.463418244\n",
      "0 days 00:00:33.942989908\n",
      "0 days 00:04:09.999539350\n",
      "0 days 00:01:22.071915126\n",
      "0 days 00:00:56.107739595\n"
     ]
    }
   ],
   "source": [
    "cluster_timeseries = []\n",
    "y_label = []\n",
    "for i, elt in enumerate(evtList):\n",
    "    duration = elt.end-elt.begin\n",
    "\n",
    "    prod_duration = np.random.uniform(0.15, 0.5)\n",
    "    prop_left = np.random.uniform(0, 1-prod_duration)\n",
    "    start = elt.begin-duration*prop_left/prod_duration\n",
    "    end = start+duration/prod_duration\n",
    "    print((end-elt.end))\n",
    "    if df.sc[i]=='c1':\n",
    "        data = spz.get_data(amda.Parameters.Cluster.Cluster1.FGM.clust1_fgm_high.c1_bgsm_5vps,start_time = start, stop_time=end)\n",
    "    else:\n",
    "        data = spz.get_data(amda.Parameters.Cluster.Cluster3.FGM.clust3_fgm_high.c3_bgsm_5vps,start_time = start, stop_time=end)\n",
    "\n",
    "    df_c = data.to_dataframe(datetime_index=True).dropna()\n",
    "    freq = (df_c.index[-1]-df_c.index[0])/2079\n",
    "    df_c = df_c.resample(freq).mean().interpolate()\n",
    "    \n",
    "    cluster_timeseries.append(df_c)\n",
    "    \n",
    "    serie = y_index[start:end].copy()\n",
    "    freq = (serie.index[-1]-serie.index[0])/2079\n",
    "    serie = serie.resample(freq).mean().interpolate()\n",
    "    y_label.append(serie)\n",
    "    \n",
    "np.save('/DATA/nguyen/timeSeries_interval/Cluster_FR_non_centered.npy', np.asarray(cluster_timeseries))\n",
    "np.save('/DATA/nguyen/timeSeries_interval/Cluster_FR_label_non_centered.npy', np.asarray(y_label))"
   ]
  },
  {
   "cell_type": "code",
   "execution_count": 6,
   "id": "b74126dd-3a77-4a55-b145-28e9b6c2f0b1",
   "metadata": {},
   "outputs": [],
   "source": [
    "seum = pd.read_pickle('/DATA/michotte/MSP_data/5S_V1/data_gsm.pkl')"
   ]
  },
  {
   "cell_type": "code",
   "execution_count": 7,
   "id": "763164a9-db1d-4970-8601-f8aa4e999097",
   "metadata": {},
   "outputs": [],
   "source": [
    "seum = seum[seum.sat=='C1']"
   ]
  },
  {
   "cell_type": "code",
   "execution_count": 8,
   "id": "c6a04ca4-119c-4c81-b13e-e7928aa2b52b",
   "metadata": {},
   "outputs": [],
   "source": [
    "seum = seum[seum.time<datetime.datetime(2003,6,27)]\n",
    "seum = seum[seum.time>datetime.datetime(2002,10,1)]\n"
   ]
  },
  {
   "cell_type": "code",
   "execution_count": 9,
   "id": "2ff03501-cdc0-42ba-9b5f-e80b15e42aec",
   "metadata": {},
   "outputs": [
    {
     "data": {
      "text/plain": [
       "[datetime.timedelta(0),\n",
       " datetime.timedelta(0),\n",
       " datetime.timedelta(0),\n",
       " datetime.timedelta(0),\n",
       " datetime.timedelta(0),\n",
       " datetime.timedelta(0),\n",
       " datetime.timedelta(0),\n",
       " datetime.timedelta(0),\n",
       " datetime.timedelta(0),\n",
       " datetime.timedelta(0),\n",
       " datetime.timedelta(0),\n",
       " datetime.timedelta(0),\n",
       " datetime.timedelta(0),\n",
       " datetime.timedelta(0),\n",
       " datetime.timedelta(0),\n",
       " datetime.timedelta(0),\n",
       " datetime.timedelta(0),\n",
       " datetime.timedelta(0),\n",
       " datetime.timedelta(0),\n",
       " datetime.timedelta(0),\n",
       " datetime.timedelta(0),\n",
       " datetime.timedelta(0),\n",
       " datetime.timedelta(0),\n",
       " datetime.timedelta(0),\n",
       " datetime.timedelta(0),\n",
       " datetime.timedelta(0),\n",
       " datetime.timedelta(0),\n",
       " datetime.timedelta(0),\n",
       " datetime.timedelta(0),\n",
       " datetime.timedelta(0),\n",
       " datetime.timedelta(0),\n",
       " datetime.timedelta(0),\n",
       " datetime.timedelta(0),\n",
       " datetime.timedelta(0),\n",
       " datetime.timedelta(0),\n",
       " datetime.timedelta(0),\n",
       " datetime.timedelta(0),\n",
       " datetime.timedelta(0),\n",
       " datetime.timedelta(0),\n",
       " datetime.timedelta(0),\n",
       " datetime.timedelta(0),\n",
       " datetime.timedelta(0),\n",
       " datetime.timedelta(0),\n",
       " datetime.timedelta(0),\n",
       " datetime.timedelta(0),\n",
       " datetime.timedelta(0),\n",
       " datetime.timedelta(0),\n",
       " datetime.timedelta(0),\n",
       " datetime.timedelta(0),\n",
       " datetime.timedelta(0),\n",
       " datetime.timedelta(0),\n",
       " datetime.timedelta(0),\n",
       " datetime.timedelta(0),\n",
       " datetime.timedelta(0),\n",
       " datetime.timedelta(0),\n",
       " datetime.timedelta(0),\n",
       " datetime.timedelta(0),\n",
       " datetime.timedelta(0),\n",
       " datetime.timedelta(0),\n",
       " datetime.timedelta(0),\n",
       " datetime.timedelta(0),\n",
       " datetime.timedelta(0),\n",
       " datetime.timedelta(0),\n",
       " datetime.timedelta(0),\n",
       " datetime.timedelta(0),\n",
       " datetime.timedelta(0),\n",
       " datetime.timedelta(0),\n",
       " datetime.timedelta(0),\n",
       " datetime.timedelta(0),\n",
       " datetime.timedelta(0),\n",
       " datetime.timedelta(0),\n",
       " datetime.timedelta(0),\n",
       " datetime.timedelta(0),\n",
       " datetime.timedelta(0),\n",
       " datetime.timedelta(0),\n",
       " datetime.timedelta(0),\n",
       " datetime.timedelta(0),\n",
       " datetime.timedelta(0),\n",
       " datetime.timedelta(0),\n",
       " datetime.timedelta(0),\n",
       " datetime.timedelta(0),\n",
       " datetime.timedelta(0)]"
      ]
     },
     "execution_count": 9,
     "metadata": {},
     "output_type": "execute_result"
    }
   ],
   "source": [
    "indices = np.random.randint(13, len(seum), 50)\n",
    "list_MSH_intervals = []\n",
    "\n",
    "for i in indices:\n",
    "    list_MSH_intervals.append(evt.Event(seum.time[seum.index[i]]-datetime.timedelta(seconds=65), seum.time[seum.index[i]]+datetime.timedelta(seconds=65)))\n",
    "    \n",
    "    \n",
    "[max(evt.overlapWithList(x, list_MSH_intervals)) for x in evtList]"
   ]
  },
  {
   "cell_type": "code",
   "execution_count": 10,
   "id": "461fd0d6-4c40-4210-9f07-3b4db2433b9d",
   "metadata": {},
   "outputs": [
    {
     "name": "stdout",
     "output_type": "stream",
     "text": [
      "49\r"
     ]
    },
    {
     "ename": "FileNotFoundError",
     "evalue": "[Errno 2] No such file or directory: '/DATA/nguyen//DATA/nguyen/timeSeries_interval/MSP_Cluster.npy'",
     "output_type": "error",
     "traceback": [
      "\u001b[0;31m---------------------------------------------------------------------------\u001b[0m",
      "\u001b[0;31mFileNotFoundError\u001b[0m                         Traceback (most recent call last)",
      "Input \u001b[0;32mIn [10]\u001b[0m, in \u001b[0;36m<cell line: 12>\u001b[0;34m()\u001b[0m\n\u001b[1;32m     10\u001b[0m     df_c \u001b[38;5;241m=\u001b[39m df_c\u001b[38;5;241m.\u001b[39mresample(freq)\u001b[38;5;241m.\u001b[39mmean()\u001b[38;5;241m.\u001b[39minterpolate()\n\u001b[1;32m     11\u001b[0m     fr_timeseries\u001b[38;5;241m.\u001b[39mappend(df_c)\n\u001b[0;32m---> 12\u001b[0m \u001b[43mnp\u001b[49m\u001b[38;5;241;43m.\u001b[39;49m\u001b[43msave\u001b[49m\u001b[43m(\u001b[49m\u001b[38;5;124;43m'\u001b[39;49m\u001b[38;5;124;43m/DATA/nguyen//DATA/nguyen/timeSeries_interval/MSP_Cluster.npy\u001b[39;49m\u001b[38;5;124;43m'\u001b[39;49m\u001b[43m,\u001b[49m\u001b[43m \u001b[49m\u001b[43mnp\u001b[49m\u001b[38;5;241;43m.\u001b[39;49m\u001b[43masarray\u001b[49m\u001b[43m(\u001b[49m\u001b[43mfr_timeseries\u001b[49m\u001b[43m)\u001b[49m\u001b[43m)\u001b[49m\n",
      "File \u001b[0;32m<__array_function__ internals>:5\u001b[0m, in \u001b[0;36msave\u001b[0;34m(*args, **kwargs)\u001b[0m\n",
      "File \u001b[0;32m/opt/conda/lib/python3.9/site-packages/numpy/lib/npyio.py:525\u001b[0m, in \u001b[0;36msave\u001b[0;34m(file, arr, allow_pickle, fix_imports)\u001b[0m\n\u001b[1;32m    523\u001b[0m     \u001b[38;5;28;01mif\u001b[39;00m \u001b[38;5;129;01mnot\u001b[39;00m file\u001b[38;5;241m.\u001b[39mendswith(\u001b[38;5;124m'\u001b[39m\u001b[38;5;124m.npy\u001b[39m\u001b[38;5;124m'\u001b[39m):\n\u001b[1;32m    524\u001b[0m         file \u001b[38;5;241m=\u001b[39m file \u001b[38;5;241m+\u001b[39m \u001b[38;5;124m'\u001b[39m\u001b[38;5;124m.npy\u001b[39m\u001b[38;5;124m'\u001b[39m\n\u001b[0;32m--> 525\u001b[0m     file_ctx \u001b[38;5;241m=\u001b[39m \u001b[38;5;28;43mopen\u001b[39;49m\u001b[43m(\u001b[49m\u001b[43mfile\u001b[49m\u001b[43m,\u001b[49m\u001b[43m \u001b[49m\u001b[38;5;124;43m\"\u001b[39;49m\u001b[38;5;124;43mwb\u001b[39;49m\u001b[38;5;124;43m\"\u001b[39;49m\u001b[43m)\u001b[49m\n\u001b[1;32m    527\u001b[0m \u001b[38;5;28;01mwith\u001b[39;00m file_ctx \u001b[38;5;28;01mas\u001b[39;00m fid:\n\u001b[1;32m    528\u001b[0m     arr \u001b[38;5;241m=\u001b[39m np\u001b[38;5;241m.\u001b[39masanyarray(arr)\n",
      "\u001b[0;31mFileNotFoundError\u001b[0m: [Errno 2] No such file or directory: '/DATA/nguyen//DATA/nguyen/timeSeries_interval/MSP_Cluster.npy'"
     ]
    }
   ],
   "source": [
    "fr_timeseries = []\n",
    "\n",
    "delta = datetime.timedelta(seconds=0)\n",
    "\n",
    "for i, elt in enumerate(list_MSH_intervals):\n",
    "    print(i, end='\\r')\n",
    "    data = spz.get_data(amda.Parameters.Cluster.Cluster1.FGM.clust1_fgm_high.c1_bgsm_5vps,start_time = elt.begin, stop_time=elt.end)\n",
    "    df_c = data.to_dataframe(datetime_index=True).dropna()\n",
    "    freq = (df_c.index[-1]-df_c.index[0])/2079\n",
    "    df_c = df_c.resample(freq).mean().interpolate()\n",
    "    fr_timeseries.append(df_c)\n",
    "np.save('/DATA/nguyen/timeSeries_interval/MSP_Cluster.npy', np.asarray(fr_timeseries))"
   ]
  },
  {
   "cell_type": "code",
   "execution_count": 13,
   "id": "d002705d-4bb6-43a2-960a-374573fd1a51",
   "metadata": {},
   "outputs": [],
   "source": [
    "np.save('/DATA/nguyen/timeSeries_interval/MSP_Cluster.npy', np.asarray(fr_timeseries))"
   ]
  },
  {
   "cell_type": "code",
   "execution_count": null,
   "id": "ff7452ed-cfcf-416a-94f5-aa986c572b51",
   "metadata": {},
   "outputs": [],
   "source": []
  }
 ],
 "metadata": {
  "kernelspec": {
   "display_name": "space/python3",
   "language": "python",
   "name": "conda-env-space-py"
  },
  "language_info": {
   "codemirror_mode": {
    "name": "ipython",
    "version": 3
   },
   "file_extension": ".py",
   "mimetype": "text/x-python",
   "name": "python",
   "nbconvert_exporter": "python",
   "pygments_lexer": "ipython3",
   "version": "3.10.6"
  }
 },
 "nbformat": 4,
 "nbformat_minor": 5
}
